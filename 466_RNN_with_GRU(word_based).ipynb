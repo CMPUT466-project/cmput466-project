{
  "nbformat": 4,
  "nbformat_minor": 0,
  "metadata": {
    "colab": {
      "name": "466 RNN with GRU(word-based).ipynb",
      "provenance": []
    },
    "kernelspec": {
      "name": "python3",
      "display_name": "Python 3"
    },
    "accelerator": "GPU"
  },
  "cells": [
    {
      "cell_type": "code",
      "metadata": {
        "colab": {
          "base_uri": "https://localhost:8080/"
        },
        "id": "cbduK4oCsmTD",
        "outputId": "a7667dc5-9a74-4b3d-fc5c-153af2559b44"
      },
      "source": [
        "import tensorflow as tf\r\n",
        "import re\r\n",
        "from tensorflow.keras.layers.experimental import preprocessing\r\n",
        "from tensorflow.keras.preprocessing.text import Tokenizer\r\n",
        "from tensorflow.keras.utils import to_categorical\r\n",
        "from tensorflow.keras.models import  Sequential\r\n",
        "from tensorflow.keras.layers import Dense, GRU, Embedding\r\n",
        "from tensorflow.keras.preprocessing.sequence import pad_sequences\r\n",
        "from google.colab import drive\r\n",
        "\r\n",
        "drive.mount(\"/content/drive\")\r\n",
        "\r\n",
        "import numpy as np\r\n",
        "import os\r\n",
        "import time\r\n",
        "\r\n",
        "file = open(\"/content/drive/My Drive/466 data/business.txt\", \"rb\")\r\n",
        "text = file.read().decode(encoding='utf-8')"
      ],
      "execution_count": 1,
      "outputs": [
        {
          "output_type": "stream",
          "text": [
            "Drive already mounted at /content/drive; to attempt to forcibly remount, call drive.mount(\"/content/drive\", force_remount=True).\n"
          ],
          "name": "stdout"
        }
      ]
    },
    {
      "cell_type": "code",
      "metadata": {
        "colab": {
          "base_uri": "https://localhost:8080/",
          "height": 35
        },
        "id": "bYIOvyqjszB7",
        "outputId": "a2c3b153-0289-41a0-f28e-fe99c675117d"
      },
      "source": [
        "\r\n",
        "processed = re.sub(r'[^\\x00-\\x7f]', r'', text)\r\n",
        "\r\n",
        "processed = processed.split()\r\n",
        "#print(processed[:100])\r\n",
        "\r\n",
        "maxlen = 5\r\n",
        "sentences = []\r\n",
        "for i in range(maxlen, len(processed)):\r\n",
        "  seq = processed[i-maxlen:i]\r\n",
        "  line = \" \".join(seq)\r\n",
        "  sentences.append(line)\r\n",
        "\r\n",
        "sentences[1]\r\n",
        "\r\n",
        "\r\n",
        "\r\n"
      ],
      "execution_count": 2,
      "outputs": [
        {
          "output_type": "execute_result",
          "data": {
            "application/vnd.google.colaboratory.intrinsic+json": {
              "type": "string"
            },
            "text/plain": [
              "'profits at us media giant'"
            ]
          },
          "metadata": {
            "tags": []
          },
          "execution_count": 2
        }
      ]
    },
    {
      "cell_type": "code",
      "metadata": {
        "id": "6_CBZcf8x1w9"
      },
      "source": [
        "tokenizer = Tokenizer()\r\n",
        "tokenizer.fit_on_texts(sentences)\r\n",
        "sequences = tokenizer.texts_to_sequences(sentences)"
      ],
      "execution_count": 3,
      "outputs": []
    },
    {
      "cell_type": "code",
      "metadata": {
        "id": "PrYmFSLNyDH0"
      },
      "source": [
        "sequences = np.array(sequences)\r\n",
        "X, y = sequences[:, :-1], sequences[:, -1]\r\n",
        "\r\n",
        "vocab_size = len(tokenizer.word_index) + 1\r\n",
        "\r\n",
        "\r\n",
        "y = to_categorical(y, num_classes = vocab_size)\r\n"
      ],
      "execution_count": 5,
      "outputs": []
    },
    {
      "cell_type": "code",
      "metadata": {
        "id": "VM9XZ4q_1wY1"
      },
      "source": [
        "model = Sequential()\r\n",
        "model.add(Embedding(vocab_size, 256))\r\n",
        "#model.add(GRU(1024, return_sequences=True))\r\n",
        "model.add(GRU(1024))\r\n",
        "model.add(Dense(1024, activation='relu'))\r\n",
        "model.add(Dense(vocab_size, activation='softmax'))\r\n",
        "\r\n"
      ],
      "execution_count": 6,
      "outputs": []
    },
    {
      "cell_type": "code",
      "metadata": {
        "colab": {
          "base_uri": "https://localhost:8080/"
        },
        "id": "OxsyQxfQ2r2s",
        "outputId": "ebb1859f-2688-4df8-9721-42e372271c2b"
      },
      "source": [
        "model.summary()"
      ],
      "execution_count": 7,
      "outputs": [
        {
          "output_type": "stream",
          "text": [
            "Model: \"sequential\"\n",
            "_________________________________________________________________\n",
            "Layer (type)                 Output Shape              Param #   \n",
            "=================================================================\n",
            "embedding (Embedding)        (None, None, 256)         3420672   \n",
            "_________________________________________________________________\n",
            "gru (GRU)                    (None, 1024)              3938304   \n",
            "_________________________________________________________________\n",
            "dense (Dense)                (None, 1024)              1049600   \n",
            "_________________________________________________________________\n",
            "dense_1 (Dense)              (None, 13362)             13696050  \n",
            "=================================================================\n",
            "Total params: 22,104,626\n",
            "Trainable params: 22,104,626\n",
            "Non-trainable params: 0\n",
            "_________________________________________________________________\n"
          ],
          "name": "stdout"
        }
      ]
    },
    {
      "cell_type": "code",
      "metadata": {
        "id": "ZxEgzH5u22eL"
      },
      "source": [
        "model.compile(loss = 'categorical_crossentropy', optimizer='adam', metrics=['accuracy'])\r\n"
      ],
      "execution_count": 8,
      "outputs": []
    },
    {
      "cell_type": "code",
      "metadata": {
        "colab": {
          "base_uri": "https://localhost:8080/"
        },
        "id": "3YWtONPd3H7C",
        "outputId": "4d1a1d4b-71bf-4e84-a4e6-7217fd46954d"
      },
      "source": [
        "model.fit(X,y, batch_size=256, epochs=20)"
      ],
      "execution_count": 9,
      "outputs": [
        {
          "output_type": "stream",
          "text": [
            "Epoch 1/20\n",
            "641/641 [==============================] - 69s 57ms/step - loss: 7.3573 - accuracy: 0.0653\n",
            "Epoch 2/20\n",
            "641/641 [==============================] - 35s 55ms/step - loss: 6.1200 - accuracy: 0.1333\n",
            "Epoch 3/20\n",
            "641/641 [==============================] - 36s 55ms/step - loss: 5.3915 - accuracy: 0.1746\n",
            "Epoch 4/20\n",
            "641/641 [==============================] - 35s 55ms/step - loss: 4.6918 - accuracy: 0.2135\n",
            "Epoch 5/20\n",
            "641/641 [==============================] - 35s 55ms/step - loss: 3.9062 - accuracy: 0.2723\n",
            "Epoch 6/20\n",
            "641/641 [==============================] - 35s 55ms/step - loss: 3.0685 - accuracy: 0.3667\n",
            "Epoch 7/20\n",
            "641/641 [==============================] - 35s 55ms/step - loss: 2.2536 - accuracy: 0.4987\n",
            "Epoch 8/20\n",
            "641/641 [==============================] - 35s 55ms/step - loss: 1.5715 - accuracy: 0.6301\n",
            "Epoch 9/20\n",
            "641/641 [==============================] - 35s 55ms/step - loss: 1.0309 - accuracy: 0.7487\n",
            "Epoch 10/20\n",
            "641/641 [==============================] - 35s 55ms/step - loss: 0.6644 - accuracy: 0.8389\n",
            "Epoch 11/20\n",
            "641/641 [==============================] - 35s 55ms/step - loss: 0.4312 - accuracy: 0.9006\n",
            "Epoch 12/20\n",
            "641/641 [==============================] - 35s 55ms/step - loss: 0.3064 - accuracy: 0.9341\n",
            "Epoch 13/20\n",
            "641/641 [==============================] - 35s 55ms/step - loss: 0.2427 - accuracy: 0.9516\n",
            "Epoch 14/20\n",
            "641/641 [==============================] - 35s 55ms/step - loss: 0.2130 - accuracy: 0.9565\n",
            "Epoch 15/20\n",
            "641/641 [==============================] - 35s 55ms/step - loss: 0.2147 - accuracy: 0.9535\n",
            "Epoch 16/20\n",
            "641/641 [==============================] - 35s 55ms/step - loss: 0.2202 - accuracy: 0.9498\n",
            "Epoch 17/20\n",
            "641/641 [==============================] - 35s 55ms/step - loss: 0.2122 - accuracy: 0.9496\n",
            "Epoch 18/20\n",
            "641/641 [==============================] - 35s 55ms/step - loss: 0.1871 - accuracy: 0.9556\n",
            "Epoch 19/20\n",
            "641/641 [==============================] - 35s 55ms/step - loss: 0.1710 - accuracy: 0.9590\n",
            "Epoch 20/20\n",
            "641/641 [==============================] - 35s 55ms/step - loss: 0.1591 - accuracy: 0.9612\n"
          ],
          "name": "stdout"
        },
        {
          "output_type": "execute_result",
          "data": {
            "text/plain": [
              "<tensorflow.python.keras.callbacks.History at 0x7f6cdadac4d0>"
            ]
          },
          "metadata": {
            "tags": []
          },
          "execution_count": 9
        }
      ]
    },
    {
      "cell_type": "code",
      "metadata": {
        "id": "CqPzqM_M7tyc"
      },
      "source": [
        "seed_text = sentences[100]\r\n",
        "seed_text\r\n",
        "seed_text = 'I am'"
      ],
      "execution_count": 39,
      "outputs": []
    },
    {
      "cell_type": "code",
      "metadata": {
        "id": "MIaweIWX7FJU"
      },
      "source": [
        "def generate_text(model, tokenizer, text_seq_len, seed_text, n_words):\r\n",
        "  text = []\r\n",
        "  word_distribution = []\r\n",
        "\r\n",
        "  for _ in range(n_words):\r\n",
        "    encoded = tokenizer.texts_to_sequences([seed_text])[0]\r\n",
        "    encoded = pad_sequences([encoded], maxlen = 4, truncating='pre')\r\n",
        "\r\n",
        "    temp = model.predict(encoded)\r\n",
        "\r\n",
        "    y_predict = np.argmax(temp, axis=-1)\r\n",
        "    #print(y_predict)\r\n",
        "\r\n",
        "    word_list = []\r\n",
        "    max_index = y_predict\r\n",
        "    for x in range(4):\r\n",
        "      temp[0][max_index] = -1\r\n",
        "      max_index = np.argmax(temp, axis=-1)\r\n",
        "      word_list.append(max_index)\r\n",
        "\r\n",
        "    predicted_word = ''\r\n",
        "    temp = model.predict(encoded)\r\n",
        "\r\n",
        "    for word, index in tokenizer.word_index.items():\r\n",
        "      if index == y_predict:\r\n",
        "        predicted_word = word\r\n",
        "        break\r\n",
        "    seed_text = seed_text + ' ' + predicted_word\r\n",
        "    text.append(predicted_word)\r\n",
        "\r\n",
        "    distribution = [(predicted_word, temp[0][y_predict][0])]\r\n",
        "    for predicted in word_list:\r\n",
        "      predicted_word = ''\r\n",
        "      for word, index in tokenizer.word_index.items():\r\n",
        "        if index == predicted:\r\n",
        "          predicted_word = word\r\n",
        "          break\r\n",
        "      distribution.append((predicted_word, temp[0][predicted][0]))\r\n",
        "    word_distribution.append(distribution)\r\n",
        "\r\n",
        "  return ' '.join(text), word_distribution\r\n"
      ],
      "execution_count": 105,
      "outputs": []
    },
    {
      "cell_type": "code",
      "metadata": {
        "id": "MWLGPNve9hiE"
      },
      "source": [
        "text, distribution = generate_text(model, tokenizer, 4, seed_text, 10)"
      ],
      "execution_count": 106,
      "outputs": []
    },
    {
      "cell_type": "code",
      "metadata": {
        "colab": {
          "base_uri": "https://localhost:8080/"
        },
        "id": "JmAS6AlrLKJM",
        "outputId": "a995b8a7-b6b4-4732-da92-1925aa47fbfb"
      },
      "source": [
        "print(text)\r\n",
        "for iteration in distribution:\r\n",
        "  print(\"+++++++++++++++++\")\r\n",
        "  for word in iteration:\r\n",
        "    print(word[0],\":\",word[1])"
      ],
      "execution_count": 104,
      "outputs": [
        {
          "output_type": "stream",
          "text": [
            "surprised at the weak fourth quarter number the main drag\n",
            "+++++++++++++++++\n",
            "surprised : [0.7230421]\n",
            "confident : 0.13335705\n",
            "not : 0.1239629\n",
            "determined : 0.006177862\n",
            "proud : 0.004528398\n",
            "+++++++++++++++++\n",
            "at : [0.999074]\n",
            "by : 0.00040842313\n",
            "that : 0.00037742427\n",
            "against : 0.00011733388\n",
            "about : 1.1494198e-05\n",
            "+++++++++++++++++\n",
            "the : [0.998672]\n",
            "any : 0.0004050075\n",
            "smith : 0.00020362882\n",
            "about : 0.00017229751\n",
            "a : 0.000169526\n",
            "+++++++++++++++++\n",
            "weak : [0.9739963]\n",
            "early : 0.004896869\n",
            "markets : 0.0041109696\n",
            "2 : 0.0035028134\n",
            "one : 0.0014541046\n",
            "+++++++++++++++++\n",
            "fourth : [0.9863625]\n",
            "development : 0.007766148\n",
            "dollar : 0.0045385677\n",
            "economic : 0.00047902987\n",
            "commission : 0.00040817904\n",
            "+++++++++++++++++\n",
            "quarter : [0.99981207]\n",
            "time : 0.00018551444\n",
            "meeting : 1.7083922e-06\n",
            "fall : 5.997089e-07\n",
            "have : 9.912486e-08\n",
            "+++++++++++++++++\n",
            "number : [0.9987973]\n",
            "country : 0.00027925833\n",
            "deficit : 0.00016901792\n",
            "us : 0.00014253029\n",
            "fall : 0.00012446639\n",
            "+++++++++++++++++\n",
            "the : [0.87981]\n",
            "sales : 0.052858874\n",
            "profits : 0.048136447\n",
            "shares : 0.011590267\n",
            "growth : 0.003863962\n",
            "+++++++++++++++++\n",
            "main : [0.79297644]\n",
            "economy : 0.1404862\n",
            "trend : 0.018806506\n",
            "worlds : 0.01069123\n",
            "budget : 0.008922316\n",
            "+++++++++++++++++\n",
            "drag : [0.9999479]\n",
            "monthly : 2.9801058e-05\n",
            "rover : 6.3481825e-06\n",
            "operating : 4.8086054e-06\n",
            "project : 3.3381693e-06\n"
          ],
          "name": "stdout"
        }
      ]
    }
  ]
}