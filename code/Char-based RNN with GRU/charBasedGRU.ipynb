{
  "nbformat": 4,
  "nbformat_minor": 0,
  "metadata": {
    "accelerator": "GPU",
    "colab": {
      "name": "“charBasedGRU.ipynb”的副本",
      "provenance": [],
      "collapsed_sections": []
    },
    "kernelspec": {
      "display_name": "Python 3",
      "language": "python",
      "name": "python3"
    },
    "language_info": {
      "codemirror_mode": {
        "name": "ipython",
        "version": 3
      },
      "file_extension": ".py",
      "mimetype": "text/x-python",
      "name": "python",
      "nbconvert_exporter": "python",
      "pygments_lexer": "ipython3",
      "version": "3.8.6"
    }
  },
  "cells": [
    {
      "cell_type": "code",
      "metadata": {
        "execution": {
          "iopub.execute_input": "2021-04-02T02:27:12.613122Z",
          "iopub.status.busy": "2021-04-02T02:27:12.612422Z",
          "iopub.status.idle": "2021-04-02T02:27:18.383345Z",
          "shell.execute_reply": "2021-04-02T02:27:18.383735Z"
        },
        "id": "yG_n40gFzf9s"
      },
      "source": [
        "import tensorflow as tf\n",
        "from tensorflow.keras.layers.experimental import preprocessing\n",
        "from tensorflow.keras.models import  Sequential\n",
        "from tensorflow.keras.layers import Dense, GRU, Embedding\n",
        "import numpy as np\n",
        "import os \n",
        "import time\n",
        "!python -m spacy download en_core_web_lg\n",
        "import spacy"
      ],
      "execution_count": null,
      "outputs": []
    },
    {
      "cell_type": "code",
      "metadata": {
        "id": "Afd266OkSZ0T"
      },
      "source": [
        "from google.colab import drive\n",
        "drive.mount('/content/drive')"
      ],
      "execution_count": null,
      "outputs": []
    },
    {
      "cell_type": "code",
      "metadata": {
        "id": "sxYx1QnnifHw"
      },
      "source": [
        "nlp = spacy.load(\"en_core_web_lg\")"
      ],
      "execution_count": 22,
      "outputs": []
    },
    {
      "cell_type": "code",
      "metadata": {
        "execution": {
          "iopub.execute_input": "2021-04-02T02:27:18.591407Z",
          "iopub.status.busy": "2021-04-02T02:27:18.590441Z",
          "iopub.status.idle": "2021-04-02T02:27:18.594933Z",
          "shell.execute_reply": "2021-04-02T02:27:18.594513Z"
        },
        "id": "aavnuByVymwK"
      },
      "source": [
        "# Read, then decode for py2 compat.\n",
        "path_to_file = '/content/drive/MyDrive/466 data/en_tech_train.txt'\n",
        "text = open(path_to_file, 'rb').read().decode(encoding='utf-8')\n",
        "\n",
        "path_to_test_file = '/content/drive/MyDrive/466 data/en_tech_test.txt'\n",
        "test_text = open(path_to_test_file, 'rb').read().decode(encoding='utf-8')\n",
        "\n",
        "path_to_validation_file = '/content/drive/MyDrive/466 data/en_tech_validate.txt'\n",
        "validation_text = open(path_to_validation_file, 'rb').read().decode(encoding='utf-8')\n",
        "\n",
        "# length of text is the number of characters in it\n",
        "print(f'Length of text: {len(text)} characters')"
      ],
      "execution_count": null,
      "outputs": []
    },
    {
      "cell_type": "code",
      "metadata": {
        "id": "TjLUrJfrbzM2"
      },
      "source": [
        "processed_test_set = test_text.split(\"\\n\")\n",
        "processed_validate_set = validation_text.split(\"\\n\")\n",
        "\n",
        "input_size = 21\n",
        "test_sentences = []\n",
        "validate_sentences = []\n",
        "\n",
        "#train_sentences[0:10]\n",
        "for line in processed_test_set:\n",
        "    temp = line.split()\n",
        "    for i in range(input_size, len(temp)):\n",
        "        seq = temp[i - input_size:i]\n",
        "        temp2 = \" \".join(seq)\n",
        "        test_sentences.append(temp2)\n",
        "print(test_sentences[0:10])\n",
        "for line in processed_validate_set:\n",
        "    temp = line.split()\n",
        "    for i in range(input_size, len(temp)):\n",
        "        seq = temp[i - input_size:i]\n",
        "        temp2 = \" \".join(seq)\n",
        "        validate_sentences.append(temp2)"
      ],
      "execution_count": null,
      "outputs": []
    },
    {
      "cell_type": "code",
      "metadata": {
        "execution": {
          "iopub.execute_input": "2021-04-02T02:27:20.339582Z",
          "iopub.status.busy": "2021-04-02T02:27:20.338935Z",
          "iopub.status.idle": "2021-04-02T02:27:20.341330Z",
          "shell.execute_reply": "2021-04-02T02:27:20.340835Z"
        },
        "id": "w5apvBDn9Ind"
      },
      "source": [
        "def text_from_ids(ids):\n",
        "  return tf.strings.reduce_join(chars_from_ids(ids), axis=-1)"
      ],
      "execution_count": 31,
      "outputs": []
    },
    {
      "cell_type": "code",
      "metadata": {
        "execution": {
          "iopub.execute_input": "2021-04-02T02:27:20.347946Z",
          "iopub.status.busy": "2021-04-02T02:27:20.347349Z",
          "iopub.status.idle": "2021-04-02T02:27:20.832468Z",
          "shell.execute_reply": "2021-04-02T02:27:20.831994Z"
        },
        "id": "UopbsKi88tm5"
      },
      "source": [
        "all_ids = ids_from_chars(tf.strings.unicode_split(text, 'UTF-8'))\n",
        "all_ids"
      ],
      "execution_count": null,
      "outputs": []
    },
    {
      "cell_type": "code",
      "metadata": {
        "execution": {
          "iopub.execute_input": "2021-04-02T02:27:20.836688Z",
          "iopub.status.busy": "2021-04-02T02:27:20.836066Z",
          "iopub.status.idle": "2021-04-02T02:27:20.838388Z",
          "shell.execute_reply": "2021-04-02T02:27:20.837848Z"
        },
        "id": "qmxrYDCTy-eL"
      },
      "source": [
        "ids_dataset = tf.data.Dataset.from_tensor_slices(all_ids)"
      ],
      "execution_count": 33,
      "outputs": []
    },
    {
      "cell_type": "code",
      "metadata": {
        "execution": {
          "iopub.execute_input": "2021-04-02T02:27:20.842261Z",
          "iopub.status.busy": "2021-04-02T02:27:20.841599Z",
          "iopub.status.idle": "2021-04-02T02:27:20.855541Z",
          "shell.execute_reply": "2021-04-02T02:27:20.855044Z"
        },
        "id": "cjH5v45-yqqH"
      },
      "source": [
        "for ids in ids_dataset.take(10):\n",
        "    print(chars_from_ids(ids).numpy().decode('utf-8'))"
      ],
      "execution_count": null,
      "outputs": []
    },
    {
      "cell_type": "code",
      "metadata": {
        "execution": {
          "iopub.execute_input": "2021-04-02T02:27:20.859173Z",
          "iopub.status.busy": "2021-04-02T02:27:20.858575Z",
          "iopub.status.idle": "2021-04-02T02:27:20.860917Z",
          "shell.execute_reply": "2021-04-02T02:27:20.860324Z"
        },
        "id": "C-G2oaTxy6km"
      },
      "source": [
        "seq_length = 20\n",
        "examples_per_epoch = len(text)//(seq_length+1)"
      ],
      "execution_count": 35,
      "outputs": []
    },
    {
      "cell_type": "code",
      "metadata": {
        "execution": {
          "iopub.execute_input": "2021-04-02T02:27:20.865138Z",
          "iopub.status.busy": "2021-04-02T02:27:20.864518Z",
          "iopub.status.idle": "2021-04-02T02:27:20.873411Z",
          "shell.execute_reply": "2021-04-02T02:27:20.873751Z"
        },
        "id": "BpdjRO2CzOfZ"
      },
      "source": [
        "sequences = ids_dataset.batch(seq_length+1, drop_remainder=True)\n",
        "\n",
        "for seq in sequences.take(1):\n",
        "  print(chars_from_ids(seq))"
      ],
      "execution_count": null,
      "outputs": []
    },
    {
      "cell_type": "code",
      "metadata": {
        "execution": {
          "iopub.execute_input": "2021-04-02T02:27:20.878236Z",
          "iopub.status.busy": "2021-04-02T02:27:20.877108Z",
          "iopub.status.idle": "2021-04-02T02:27:20.887813Z",
          "shell.execute_reply": "2021-04-02T02:27:20.887411Z"
        },
        "id": "QO32cMWu4a06"
      },
      "source": [
        "for seq in sequences.take(5):\n",
        "  print(text_from_ids(seq).numpy())"
      ],
      "execution_count": null,
      "outputs": []
    },
    {
      "cell_type": "code",
      "metadata": {
        "execution": {
          "iopub.execute_input": "2021-04-02T02:27:20.891902Z",
          "iopub.status.busy": "2021-04-02T02:27:20.891242Z",
          "iopub.status.idle": "2021-04-02T02:27:20.893652Z",
          "shell.execute_reply": "2021-04-02T02:27:20.893234Z"
        },
        "id": "9NGu-FkO_kYU"
      },
      "source": [
        "def split_input_target(sequence):\n",
        "    input_text = sequence[:-1]\n",
        "    target_text = sequence[1:]\n",
        "    return input_text, target_text"
      ],
      "execution_count": 38,
      "outputs": []
    },
    {
      "cell_type": "code",
      "metadata": {
        "execution": {
          "iopub.execute_input": "2021-04-02T02:27:20.897944Z",
          "iopub.status.busy": "2021-04-02T02:27:20.897176Z",
          "iopub.status.idle": "2021-04-02T02:27:20.900407Z",
          "shell.execute_reply": "2021-04-02T02:27:20.899858Z"
        },
        "id": "WxbDTJTw5u_P"
      },
      "source": [
        "split_input_target(list(\"Tensorflow\"))"
      ],
      "execution_count": null,
      "outputs": []
    },
    {
      "cell_type": "code",
      "metadata": {
        "execution": {
          "iopub.execute_input": "2021-04-02T02:27:20.930226Z",
          "iopub.status.busy": "2021-04-02T02:27:20.924863Z",
          "iopub.status.idle": "2021-04-02T02:27:20.952845Z",
          "shell.execute_reply": "2021-04-02T02:27:20.952352Z"
        },
        "id": "B9iKPXkw5xwa"
      },
      "source": [
        "dataset = sequences.map(split_input_target)"
      ],
      "execution_count": 40,
      "outputs": []
    },
    {
      "cell_type": "code",
      "metadata": {
        "execution": {
          "iopub.execute_input": "2021-04-02T02:27:20.958074Z",
          "iopub.status.busy": "2021-04-02T02:27:20.956878Z",
          "iopub.status.idle": "2021-04-02T02:27:20.976426Z",
          "shell.execute_reply": "2021-04-02T02:27:20.975955Z"
        },
        "id": "GNbw-iR0ymwj"
      },
      "source": [
        "for input_example, target_example in dataset.take(1):\n",
        "    print(\"Input :\", text_from_ids(input_example).numpy())\n",
        "    print(\"Target:\", text_from_ids(target_example).numpy())"
      ],
      "execution_count": null,
      "outputs": []
    },
    {
      "cell_type": "code",
      "metadata": {
        "execution": {
          "iopub.execute_input": "2021-04-02T02:27:20.980925Z",
          "iopub.status.busy": "2021-04-02T02:27:20.980305Z",
          "iopub.status.idle": "2021-04-02T02:27:20.985497Z",
          "shell.execute_reply": "2021-04-02T02:27:20.985863Z"
        },
        "id": "p2pGotuNzf-S"
      },
      "source": [
        "# Batch size\n",
        "BATCH_SIZE = 400\n",
        "\n",
        "# Buffer size to shuffle the dataset\n",
        "# (TF data is designed to work with possibly infinite sequences,\n",
        "# so it doesn't attempt to shuffle the entire sequence in memory. Instead,\n",
        "# it maintains a buffer in which it shuffles elements).\n",
        "BUFFER_SIZE = 10000\n",
        "\n",
        "dataset = (\n",
        "    dataset\n",
        "    .shuffle(BUFFER_SIZE)\n",
        "    .batch(BATCH_SIZE, drop_remainder=True)\n",
        "    .prefetch(tf.data.experimental.AUTOTUNE))\n",
        "\n",
        "dataset"
      ],
      "execution_count": null,
      "outputs": []
    },
    {
      "cell_type": "code",
      "metadata": {
        "execution": {
          "iopub.execute_input": "2021-04-02T02:27:20.990106Z",
          "iopub.status.busy": "2021-04-02T02:27:20.989455Z",
          "iopub.status.idle": "2021-04-02T02:27:20.991652Z",
          "shell.execute_reply": "2021-04-02T02:27:20.992028Z"
        },
        "id": "zHT8cLh7EAsg"
      },
      "source": [
        "# Length of the vocabulary in chars\n",
        "vocab_size = len(vocab)\n",
        "\n",
        "# The embedding dimension\n",
        "embedding_dim = 256\n",
        "\n",
        "# Number of RNN units\n",
        "rnn_units = 1024"
      ],
      "execution_count": 43,
      "outputs": []
    },
    {
      "cell_type": "code",
      "metadata": {
        "execution": {
          "iopub.execute_input": "2021-04-02T02:27:20.998674Z",
          "iopub.status.busy": "2021-04-02T02:27:20.997985Z",
          "iopub.status.idle": "2021-04-02T02:27:21.000658Z",
          "shell.execute_reply": "2021-04-02T02:27:21.000078Z"
        },
        "id": "wj8HQ2w8z4iO"
      },
      "source": [
        "class MyModel(tf.keras.Model):\n",
        "  def __init__(self, vocab_size, embedding_dim, rnn_units):\n",
        "    super().__init__(self)\n",
        "    self.embedding = tf.keras.layers.Embedding(vocab_size, embedding_dim)\n",
        "    self.gru = tf.keras.layers.GRU(rnn_units,\n",
        "                                   return_sequences=True,\n",
        "                                   return_state=True)\n",
        "    self.dense = tf.keras.layers.Dense(vocab_size)\n",
        "\n",
        "  def call(self, inputs, states=None, return_state=False, training=False):\n",
        "    x = inputs\n",
        "    x = self.embedding(x, training=training)\n",
        "    if states is None:\n",
        "      states = self.gru.get_initial_state(x)\n",
        "    x, states = self.gru(x, initial_state=states, training=training)\n",
        "    x = self.dense(x, training=training)\n",
        "\n",
        "    if return_state:\n",
        "      return x, states\n",
        "    else:\n",
        "      return x"
      ],
      "execution_count": 44,
      "outputs": []
    },
    {
      "cell_type": "code",
      "metadata": {
        "execution": {
          "iopub.execute_input": "2021-04-02T02:27:21.005813Z",
          "iopub.status.busy": "2021-04-02T02:27:21.003880Z",
          "iopub.status.idle": "2021-04-02T02:27:21.030636Z",
          "shell.execute_reply": "2021-04-02T02:27:21.031005Z"
        },
        "id": "IX58Xj9z47Aw"
      },
      "source": [
        "model = MyModel(\n",
        "    # Be sure the vocabulary size matches the `StringLookup` layers.\n",
        "    vocab_size=len(ids_from_chars.get_vocabulary()),\n",
        "    embedding_dim=embedding_dim,\n",
        "    rnn_units=rnn_units)"
      ],
      "execution_count": 45,
      "outputs": []
    },
    {
      "cell_type": "code",
      "metadata": {
        "execution": {
          "iopub.execute_input": "2021-04-02T02:27:21.035855Z",
          "iopub.status.busy": "2021-04-02T02:27:21.035252Z",
          "iopub.status.idle": "2021-04-02T02:27:24.455167Z",
          "shell.execute_reply": "2021-04-02T02:27:24.455556Z"
        },
        "id": "C-_70kKAPrPU",
        "colab": {
          "base_uri": "https://localhost:8080/"
        },
        "outputId": "8462d8a9-0683-4efa-b445-9e4bb1ed24b6"
      },
      "source": [
        "for input_example_batch, target_example_batch in dataset.take(1):\n",
        "    example_batch_predictions = model(input_example_batch)\n",
        "    print(example_batch_predictions.shape, \"# (batch_size, sequence_length, vocab_size)\")"
      ],
      "execution_count": 46,
      "outputs": [
        {
          "output_type": "stream",
          "text": [
            "(400, 20, 42) # (batch_size, sequence_length, vocab_size)\n"
          ],
          "name": "stdout"
        }
      ]
    },
    {
      "cell_type": "code",
      "metadata": {
        "execution": {
          "iopub.execute_input": "2021-04-02T02:27:24.460318Z",
          "iopub.status.busy": "2021-04-02T02:27:24.459611Z",
          "iopub.status.idle": "2021-04-02T02:27:24.463014Z",
          "shell.execute_reply": "2021-04-02T02:27:24.463385Z"
        },
        "id": "vPGmAAXmVLGC"
      },
      "source": [
        "loss = tf.losses.SparseCategoricalCrossentropy(from_logits=True)\n",
        "model.compile(optimizer='adam', loss=loss, metrics=['accuracy'])\n",
        "model.summary()"
      ],
      "execution_count": null,
      "outputs": []
    },
    {
      "cell_type": "code",
      "metadata": {
        "execution": {
          "iopub.execute_input": "2021-04-02T02:27:24.495864Z",
          "iopub.status.busy": "2021-04-02T02:27:24.495271Z",
          "iopub.status.idle": "2021-04-02T02:27:24.501002Z",
          "shell.execute_reply": "2021-04-02T02:27:24.501384Z"
        },
        "id": "4HrXTACTdzY-"
      },
      "source": [
        "example_batch_loss = loss(target_example_batch, example_batch_predictions)\n",
        "mean_loss = example_batch_loss.numpy().mean()\n",
        "print(\"Prediction shape: \", example_batch_predictions.shape, \" # (batch_size, sequence_length, vocab_size)\")\n",
        "print(\"Mean loss:        \", mean_loss)"
      ],
      "execution_count": null,
      "outputs": []
    },
    {
      "cell_type": "code",
      "metadata": {
        "execution": {
          "iopub.execute_input": "2021-04-02T02:27:24.505044Z",
          "iopub.status.busy": "2021-04-02T02:27:24.504453Z",
          "iopub.status.idle": "2021-04-02T02:27:24.507502Z",
          "shell.execute_reply": "2021-04-02T02:27:24.507839Z"
        },
        "id": "MAJfS5YoFiHf"
      },
      "source": [
        "tf.exp(mean_loss).numpy()"
      ],
      "execution_count": null,
      "outputs": []
    },
    {
      "cell_type": "code",
      "metadata": {
        "execution": {
          "iopub.execute_input": "2021-04-02T02:27:24.532684Z",
          "iopub.status.busy": "2021-04-02T02:27:24.531989Z",
          "iopub.status.idle": "2021-04-02T02:27:24.533874Z",
          "shell.execute_reply": "2021-04-02T02:27:24.534249Z"
        },
        "id": "W6fWTriUZP-n"
      },
      "source": [
        "# Directory where the checkpoints will be saved\n",
        "checkpoint_dir = './training_checkpoints'\n",
        "# Name of the checkpoint files\n",
        "checkpoint_prefix = os.path.join(checkpoint_dir, \"ckpt_{epoch}\")\n",
        "\n",
        "checkpoint_callback = tf.keras.callbacks.ModelCheckpoint(\n",
        "    filepath=checkpoint_prefix,\n",
        "    save_weights_only=True)"
      ],
      "execution_count": 50,
      "outputs": []
    },
    {
      "cell_type": "code",
      "metadata": {
        "execution": {
          "iopub.execute_input": "2021-04-02T02:27:24.537982Z",
          "iopub.status.busy": "2021-04-02T02:27:24.537372Z",
          "iopub.status.idle": "2021-04-02T02:27:24.539563Z",
          "shell.execute_reply": "2021-04-02T02:27:24.539023Z"
        },
        "id": "7yGBE2zxMMHs"
      },
      "source": [
        "EPOCHS = 20"
      ],
      "execution_count": 53,
      "outputs": []
    },
    {
      "cell_type": "code",
      "metadata": {
        "execution": {
          "iopub.execute_input": "2021-04-02T02:27:24.543151Z",
          "iopub.status.busy": "2021-04-02T02:27:24.542569Z",
          "iopub.status.idle": "2021-04-02T02:29:15.826263Z",
          "shell.execute_reply": "2021-04-02T02:29:15.825671Z"
        },
        "id": "UK-hmKjYVoll"
      },
      "source": [
        "history = model.fit(dataset, epochs=EPOCHS, callbacks=[checkpoint_callback])"
      ],
      "execution_count": null,
      "outputs": []
    },
    {
      "cell_type": "code",
      "metadata": {
        "execution": {
          "iopub.execute_input": "2021-04-02T02:29:15.836368Z",
          "iopub.status.busy": "2021-04-02T02:29:15.835733Z",
          "iopub.status.idle": "2021-04-02T02:29:15.837584Z",
          "shell.execute_reply": "2021-04-02T02:29:15.837950Z"
        },
        "id": "iSBU1tHmlUSs"
      },
      "source": [
        "class OneStep(tf.keras.Model):\n",
        "  def __init__(self, model, chars_from_ids, ids_from_chars, temperature=1.0):\n",
        "    super().__init__()\n",
        "    self.temperature = temperature\n",
        "    self.model = model\n",
        "    self.chars_from_ids = chars_from_ids\n",
        "    self.ids_from_chars = ids_from_chars\n",
        "\n",
        "    # Create a mask to prevent \"\" or \"[UNK]\" from being generated.\n",
        "    skip_ids = self.ids_from_chars(['', '[UNK]'])[:, None]\n",
        "    sparse_mask = tf.SparseTensor(\n",
        "        # Put a -inf at each bad index.\n",
        "        values=[-float('inf')]*len(skip_ids),\n",
        "        indices=skip_ids,\n",
        "        # Match the shape to the vocabulary\n",
        "        dense_shape=[len(ids_from_chars.get_vocabulary())])\n",
        "    self.prediction_mask = tf.sparse.to_dense(sparse_mask)\n",
        "\n",
        "  @tf.function\n",
        "  def generate_one_step(self, inputs, states=None):\n",
        "    # Convert strings to token IDs.\n",
        "    input_chars = tf.strings.unicode_split(inputs, 'UTF-8')\n",
        "    input_ids = self.ids_from_chars(input_chars).to_tensor()\n",
        "\n",
        "    # Run the model.\n",
        "    # predicted_logits.shape is [batch, char, next_char_logits]\n",
        "    predicted_logits, states = self.model(inputs=input_ids, states=states,\n",
        "                                          return_state=True)\n",
        "    # Only use the last prediction.\n",
        "    predicted_logits = predicted_logits[:, -1, :]\n",
        "    predicted_logits = predicted_logits/self.temperature\n",
        "    # Apply the prediction mask: prevent \"\" or \"[UNK]\" from being generated.\n",
        "    predicted_logits = predicted_logits + self.prediction_mask\n",
        "\n",
        "    # Sample the output logits to generate token IDs.\n",
        "    predicted_ids = tf.random.categorical(predicted_logits, num_samples=1)\n",
        "    predicted_ids = tf.squeeze(predicted_ids, axis=-1)\n",
        "\n",
        "    # Convert from token ids to characters\n",
        "    predicted_chars = self.chars_from_ids(predicted_ids)\n",
        "\n",
        "    # Return the characters and model state.\n",
        "    return predicted_chars, states"
      ],
      "execution_count": 55,
      "outputs": []
    },
    {
      "cell_type": "code",
      "metadata": {
        "execution": {
          "iopub.execute_input": "2021-04-02T02:29:15.843405Z",
          "iopub.status.busy": "2021-04-02T02:29:15.842773Z",
          "iopub.status.idle": "2021-04-02T02:29:15.852620Z",
          "shell.execute_reply": "2021-04-02T02:29:15.853070Z"
        },
        "id": "fqMOuDutnOxK"
      },
      "source": [
        "one_step_model = OneStep(model, chars_from_ids, ids_from_chars)"
      ],
      "execution_count": 56,
      "outputs": []
    },
    {
      "cell_type": "code",
      "metadata": {
        "id": "bIrTagQmqUtn"
      },
      "source": [
        "def predict(one_step_model, next_char, states=None):\n",
        "  next_char = tf.constant([next_char])\n",
        "  result = [next_char]\n",
        "  states = None\n",
        "  while True:\n",
        "    next_char, states = one_step_model.generate_one_step(next_char, states=states)\n",
        "    if next_char == \" \" or next_char == \"\\r\" or next_char == \"\\n\":\n",
        "      break\n",
        "    result.append(next_char)\n",
        "  \n",
        "  result = tf.strings.join(result)\n",
        "  result = (result[0].numpy().decode('utf-8'), '\\n\\n' + '_'*80)[0]\n",
        "  result = result.strip()\n",
        "  result = result.split()\n",
        "  result = result[-1]\n",
        "  return result"
      ],
      "execution_count": 57,
      "outputs": []
    },
    {
      "cell_type": "code",
      "metadata": {
        "id": "2y2RMjTwpUO4"
      },
      "source": [
        "def validate(sentences, nlp):\n",
        "  new = []\n",
        "  for i in range(len(sentences)):\n",
        "    new.append(sentences[i].split())\n",
        "  validate_sequences = np.array(new)\n",
        "  validate_X, validate_y = validate_sequences[:, :-1], validate_sequences[:, -1]\n",
        "  print(len(validate_X))\n",
        "  average_accuracy = 0\n",
        "  num = 0\n",
        "  for i in range(len(validate_X)):\n",
        "    prediction = predict(one_step_model, ' '.join(validate_X[i])+' ')\n",
        "    x = nlp(prediction)\n",
        "    y = nlp(str(validate_y[i]))\n",
        "\n",
        "    if (x[0].has_vector) and (y[0].has_vector):\n",
        "      average_accuracy += nlp(prediction).similarity(nlp(str(validate_y[i])))\n",
        "      num += 1\n",
        "  print(\"num is\", num)\n",
        "  average_accuracy /= num\n",
        "  return average_accuracy"
      ],
      "execution_count": 58,
      "outputs": []
    },
    {
      "cell_type": "code",
      "metadata": {
        "id": "26bS9k-8FoPH"
      },
      "source": [
        "accuracy = validate(test_sentences, nlp)"
      ],
      "execution_count": null,
      "outputs": []
    },
    {
      "cell_type": "code",
      "metadata": {
        "id": "35vJB-ytIl9W"
      },
      "source": [
        "accuracy"
      ],
      "execution_count": null,
      "outputs": []
    }
  ]
}