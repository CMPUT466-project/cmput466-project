{
  "nbformat": 4,
  "nbformat_minor": 0,
  "metadata": {
    "accelerator": "GPU",
    "colab": {
      "name": "“Train a GPT-2 Text-Generating Model w/ GPU”的副本",
      "provenance": [],
      "collapsed_sections": [
        "pel-uBULXO2L"
      ]
    },
    "kernelspec": {
      "display_name": "Python 3",
      "name": "python3"
    }
  },
  "cells": [
    {
      "cell_type": "markdown",
      "metadata": {
        "id": "H7LoMj4GA4n_"
      },
      "source": [
        "#  Train a GPT-2 Text-Generating Model w/ GPU For Free \n",
        "\n",
        "by [Max Woolf](http://minimaxir.com)\n",
        "\n",
        "*Last updated: February 14th, 2021*\n",
        "\n",
        "Retrain an advanced text generating neural network on any text dataset **for free on a GPU using Collaboratory** using `gpt-2-simple`!\n",
        "\n",
        "For more about `gpt-2-simple`, you can visit [this GitHub repository](https://github.com/minimaxir/gpt-2-simple). You can also read my [blog post](https://minimaxir.com/2019/09/howto-gpt2/) for more information how to use this notebook!\n",
        "\n",
        "\n",
        "To get started:\n",
        "\n",
        "1. Copy this notebook to your Google Drive to keep it and save your changes. (File -> Save a Copy in Drive)\n",
        "2. Make sure you're running the notebook in Google Chrome.\n",
        "3. Run the cells below:\n"
      ]
    },
    {
      "cell_type": "code",
      "metadata": {
        "id": "F68gw_tOgQzx"
      },
      "source": [
        ""
      ],
      "execution_count": null,
      "outputs": []
    },
    {
      "cell_type": "code",
      "metadata": {
        "colab": {
          "base_uri": "https://localhost:8080/"
        },
        "id": "KBkpRgBCBS2_",
        "outputId": "6e69c1c1-2371-4249-b992-b743892ede06"
      },
      "source": [
        "%tensorflow_version 1.x\n",
        "!pip install -q gpt-2-simple\n",
        "import gpt_2_simple as gpt2\n",
        "from datetime import datetime\n",
        "from google.colab import files\n",
        "import os\n",
        "import time\n",
        "import spacy\n"
      ],
      "execution_count": 1,
      "outputs": [
        {
          "output_type": "stream",
          "text": [
            "TensorFlow 1.x selected.\n",
            "WARNING:tensorflow:\n",
            "The TensorFlow contrib module will not be included in TensorFlow 2.0.\n",
            "For more information, please see:\n",
            "  * https://github.com/tensorflow/community/blob/master/rfcs/20180907-contrib-sunset.md\n",
            "  * https://github.com/tensorflow/addons\n",
            "  * https://github.com/tensorflow/io (for I/O related ops)\n",
            "If you depend on functionality not listed there, please file an issue.\n",
            "\n"
          ],
          "name": "stdout"
        }
      ]
    },
    {
      "cell_type": "markdown",
      "metadata": {
        "id": "Bj2IJLHP3KwE"
      },
      "source": [
        "## GPU\n",
        "\n",
        "Colaboratory uses either a Nvidia T4 GPU or an Nvidia K80 GPU. The T4 is slightly faster than the old K80 for training GPT-2, and has more memory allowing you to train the larger GPT-2 models and generate more text.\n",
        "\n",
        "You can verify which GPU is active by running the cell below."
      ]
    },
    {
      "cell_type": "code",
      "metadata": {
        "colab": {
          "base_uri": "https://localhost:8080/"
        },
        "id": "sUmTooTW3osf",
        "outputId": "4504bf4e-2ce5-4728-f380-2ff1024671ff"
      },
      "source": [
        "!nvidia-smi"
      ],
      "execution_count": 2,
      "outputs": [
        {
          "output_type": "stream",
          "text": [
            "Mon Apr  5 04:05:08 2021       \n",
            "+-----------------------------------------------------------------------------+\n",
            "| NVIDIA-SMI 460.67       Driver Version: 460.32.03    CUDA Version: 11.2     |\n",
            "|-------------------------------+----------------------+----------------------+\n",
            "| GPU  Name        Persistence-M| Bus-Id        Disp.A | Volatile Uncorr. ECC |\n",
            "| Fan  Temp  Perf  Pwr:Usage/Cap|         Memory-Usage | GPU-Util  Compute M. |\n",
            "|                               |                      |               MIG M. |\n",
            "|===============================+======================+======================|\n",
            "|   0  Tesla T4            Off  | 00000000:00:04.0 Off |                    0 |\n",
            "| N/A   66C    P8    11W /  70W |      0MiB / 15109MiB |      0%      Default |\n",
            "|                               |                      |                  N/A |\n",
            "+-------------------------------+----------------------+----------------------+\n",
            "                                                                               \n",
            "+-----------------------------------------------------------------------------+\n",
            "| Processes:                                                                  |\n",
            "|  GPU   GI   CI        PID   Type   Process name                  GPU Memory |\n",
            "|        ID   ID                                                   Usage      |\n",
            "|=============================================================================|\n",
            "|  No running processes found                                                 |\n",
            "+-----------------------------------------------------------------------------+\n"
          ],
          "name": "stdout"
        }
      ]
    },
    {
      "cell_type": "markdown",
      "metadata": {
        "id": "0wXB05bPDYxS"
      },
      "source": [
        "## Downloading GPT-2\n",
        "\n",
        "If you're retraining a model on new text, you need to download the GPT-2 model first. \n",
        "\n",
        "There are three released sizes of GPT-2:\n",
        "\n",
        "* `124M` (default): the \"small\" model, 500MB on disk.\n",
        "* `355M`: the \"medium\" model, 1.5GB on disk.\n",
        "* `774M`: the \"large\" model, cannot currently be finetuned with Colaboratory but can be used to generate text from the pretrained model (see later in Notebook)\n",
        "* `1558M`: the \"extra large\", true model. Will not work if a K80/P4 GPU is attached to the notebook. (like `774M`, it cannot be finetuned).\n",
        "\n",
        "Larger models have more knowledge, but take longer to finetune and longer to generate text. You can specify which base model to use by changing `model_name` in the cells below.\n",
        "\n",
        "The next cell downloads it from Google Cloud Storage and saves it in the Colaboratory VM at `/models/<model_name>`.\n",
        "\n",
        "This model isn't permanently saved in the Colaboratory VM; you'll have to redownload it if you want to retrain it at a later time."
      ]
    },
    {
      "cell_type": "code",
      "metadata": {
        "id": "P8wSlgXoDPCR"
      },
      "source": [
        "#gpt2.download_gpt2(model_name=\"124M\")\n",
        "nlp = spacy.load('en_core_web_lg')\n"
      ],
      "execution_count": 3,
      "outputs": []
    },
    {
      "cell_type": "markdown",
      "metadata": {
        "id": "N8KXuKWzQSsN"
      },
      "source": [
        "## Mounting Google Drive\n",
        "\n",
        "The best way to get input text to-be-trained into the Colaboratory VM, and to get the trained model *out* of Colaboratory, is to route it through Google Drive *first*.\n",
        "\n",
        "Running this cell (which will only work in Colaboratory) will mount your personal Google Drive in the VM, which later cells can use to get data in/out. (it will ask for an auth code; that auth is not saved anywhere)"
      ]
    },
    {
      "cell_type": "code",
      "metadata": {
        "colab": {
          "base_uri": "https://localhost:8080/"
        },
        "id": "0JE60NTxb8SM",
        "outputId": "9fdfe563-4f24-4d56-95d2-86db87804b51"
      },
      "source": [
        "from google.colab import drive\n",
        "drive.mount('/content/drive/')"
      ],
      "execution_count": 6,
      "outputs": [
        {
          "output_type": "stream",
          "text": [
            "Drive already mounted at /content/drive/; to attempt to forcibly remount, call drive.mount(\"/content/drive/\", force_remount=True).\n"
          ],
          "name": "stdout"
        }
      ]
    },
    {
      "cell_type": "code",
      "metadata": {
        "colab": {
          "base_uri": "https://localhost:8080/"
        },
        "id": "puq4iC6vUAHc",
        "outputId": "791a7385-eee0-4563-e3d9-ec42b1bc294e"
      },
      "source": [
        "gpt2.mount_gdrive()"
      ],
      "execution_count": 7,
      "outputs": [
        {
          "output_type": "stream",
          "text": [
            "Drive already mounted at /content/drive; to attempt to forcibly remount, call drive.mount(\"/content/drive\", force_remount=True).\n"
          ],
          "name": "stdout"
        }
      ]
    },
    {
      "cell_type": "markdown",
      "metadata": {
        "id": "BT__brhBCvJu"
      },
      "source": [
        "## Uploading a Text File to be Trained to Colaboratory\n",
        "\n",
        "In the Colaboratory Notebook sidebar on the left of the screen, select *Files*. From there you can upload files:\n",
        "\n",
        "![alt text](https://i.imgur.com/TGcZT4h.png)\n",
        "\n",
        "Upload **any smaller text file**  (<10 MB) and update the file name in the cell below, then run the cell."
      ]
    },
    {
      "cell_type": "code",
      "metadata": {
        "id": "6OFnPCLADfll"
      },
      "source": [
        "file_name = \"en_tech_train.txt\""
      ],
      "execution_count": null,
      "outputs": []
    },
    {
      "cell_type": "markdown",
      "metadata": {
        "id": "HeeSKtNWUedE"
      },
      "source": [
        "If your text file is larger than 10MB, it is recommended to upload that file to Google Drive first, then copy that file from Google Drive to the Colaboratory VM."
      ]
    },
    {
      "cell_type": "code",
      "metadata": {
        "id": "-Z6okFD8VKtS"
      },
      "source": [
        "gpt2.copy_file_from_gdrive(file_name)"
      ],
      "execution_count": null,
      "outputs": []
    },
    {
      "cell_type": "markdown",
      "metadata": {
        "id": "LdpZQXknFNY3"
      },
      "source": [
        "## Finetune GPT-2\n",
        "\n",
        "The next cell will start the actual finetuning of GPT-2. It creates a persistent TensorFlow session which stores the training config, then runs the training for the specified number of `steps`. (to have the finetuning run indefinitely, set `steps = -1`)\n",
        "\n",
        "The model checkpoints will be saved in `/checkpoint/run1` by default. The checkpoints are saved every 500 steps (can be changed) and when the cell is stopped.\n",
        "\n",
        "The training might time out after 4ish hours; make sure you end training and save the results so you don't lose them!\n",
        "\n",
        "**IMPORTANT NOTE:** If you want to rerun this cell, **restart the VM first** (Runtime -> Restart Runtime). You will need to rerun imports but not recopy files.\n",
        "\n",
        "Other optional-but-helpful parameters for `gpt2.finetune`:\n",
        "\n",
        "\n",
        "*  **`restore_from`**: Set to `fresh` to start training from the base GPT-2, or set to `latest` to restart training from an existing checkpoint.\n",
        "* **`sample_every`**: Number of steps to print example output\n",
        "* **`print_every`**: Number of steps to print training progress.\n",
        "* **`learning_rate`**:  Learning rate for the training. (default `1e-4`, can lower to `1e-5` if you have <1MB input data)\n",
        "*  **`run_name`**: subfolder within `checkpoint` to save the model. This is useful if you want to work with multiple models (will also need to specify  `run_name` when loading the model)\n",
        "* **`overwrite`**: Set to `True` if you want to continue finetuning an existing model (w/ `restore_from='latest'`) without creating duplicate copies. "
      ]
    },
    {
      "cell_type": "code",
      "metadata": {
        "colab": {
          "base_uri": "https://localhost:8080/"
        },
        "id": "aeXshJM-Cuaf",
        "outputId": "f9773e33-efde-40f9-c9b9-417d30643f22"
      },
      "source": [
        "import tensorflow as tf\n",
        "\n",
        "tf.reset_default_graph()\n",
        "sess = gpt2.start_tf_sess()\n",
        "\n",
        "gpt2.finetune(sess,\n",
        "              dataset=file_name,\n",
        "              model_name='124M',\n",
        "              steps=1000,\n",
        "              restore_from='fresh',\n",
        "              run_name='run1',\n",
        "              print_every=10,\n",
        "              sample_every=200,\n",
        "              save_every=500\n",
        "              )"
      ],
      "execution_count": null,
      "outputs": [
        {
          "output_type": "stream",
          "text": [
            "Loading checkpoint models/124M/model.ckpt\n",
            "INFO:tensorflow:Restoring parameters from models/124M/model.ckpt\n"
          ],
          "name": "stdout"
        },
        {
          "output_type": "stream",
          "text": [
            "\r  0%|          | 0/1 [00:00<?, ?it/s]"
          ],
          "name": "stderr"
        },
        {
          "output_type": "stream",
          "text": [
            "Loading dataset...\n"
          ],
          "name": "stdout"
        },
        {
          "output_type": "stream",
          "text": [
            "100%|██████████| 1/1 [00:02<00:00,  2.07s/it]\n"
          ],
          "name": "stderr"
        },
        {
          "output_type": "stream",
          "text": [
            "dataset has 316436 tokens\n",
            "Training...\n",
            "[10 | 29.59] loss=4.22 avg=4.22\n",
            "[20 | 54.06] loss=4.15 avg=4.18\n",
            "[30 | 77.82] loss=4.07 avg=4.15\n",
            "[40 | 101.99] loss=3.97 avg=4.10\n",
            "[50 | 126.46] loss=4.01 avg=4.08\n",
            "[60 | 150.57] loss=3.85 avg=4.04\n",
            "[70 | 174.60] loss=3.73 avg=4.00\n",
            "[80 | 198.84] loss=3.77 avg=3.97\n",
            "[90 | 223.12] loss=3.59 avg=3.92\n",
            "[100 | 247.37] loss=3.40 avg=3.87\n",
            "[110 | 271.63] loss=3.51 avg=3.84\n",
            "[120 | 295.86] loss=3.41 avg=3.80\n",
            "[130 | 320.07] loss=3.70 avg=3.79\n",
            "[140 | 344.21] loss=3.34 avg=3.76\n",
            "[150 | 368.32] loss=3.73 avg=3.75\n",
            "[160 | 392.40] loss=3.04 avg=3.71\n",
            "[170 | 416.55] loss=3.01 avg=3.66\n",
            "[180 | 440.76] loss=3.23 avg=3.63\n",
            "[190 | 464.96] loss=3.27 avg=3.61\n",
            "[200 | 489.21] loss=2.88 avg=3.57\n",
            "======== SAMPLE 1 ========\n",
            " the world because we all know what happened to the worlds most wanted super heroes\n",
            "the game was produced in the us and was created by a team of english african american and african americantalian filmmakers\n",
            "the film was a box office hit with its portrayal of the lifeblood of american filmmaking\n",
            "the service offers internet access to over 200000 of the world's poorest people with speeds of up to 20mbps\n",
            "if you have not heard much about web security it is wise to look elsewhere\n",
            "last april bmg and kazaa led the mobile phone market for the third time in 24 months according to new york times research\n",
            "this was the first time in 40 years that he had been nominated\n",
            "the first ever bbc series of the house on the phone will begin in 2004\n",
            "there would be no computer control\n",
            "weve talked to many of the key individuals involved in creating the technology industry in the last few years but the industry has always been an extremely secretive industry with a number of organisations currently unwilling to disclose how they came to be involved\n",
            "he added many of these incidents took place in remote villages close to the country line\n",
            "people with these problems are likely to be those out of the reach of personal websites said sam zinger of the consumer groups consumer law group\n",
            "this is a monumental work in itself but we are overwhelmed by the response from the linux and net patents communities\n",
            "at the same time santa lab a member of the mda institute for applied research is encouraging others to follow suit\n",
            "the latest accolades were won in a best foreign language film category by ryan adam and michael mannan\n",
            "i have always believed that music should be seen as art and this new law is the perfect example of that in action\n",
            "however the uks public broadcaster twtv said there had been no contact between jain and the group\n",
            "it would be more efficient to use a high speed network with high bandwidth connections and slower connections compared to other broadband services\n",
            "as these are searchable content they are easy to find and easy to grab\n",
            "the new rules mean that users will no longer be able to share content on the net but users will be able to limit the amount a user can share via images and other links\n",
            "although it is being marketed as a replacement for the screen reader launched into widespread ridicule last year by critics and critics themselves there are signs the technology may be making a comeback\n",
            "the top honour given to games for five years following the award ceremony will be the golden lion\n",
            "we are all very delighted at the olympics here in los angeles and would love to thank everyone involved in making this as a memorable event as this event to be held in the us\n",
            "this is partly due to a large portion of the audience being people who want to listen to new works in a different way while continuing to enjoy the great films at the same time\n",
            "despite this she was forced to withdraw her appeal on the basis that she had broken the rules by not appearing on the show\n",
            "the number of mobile owners wanting to trade voice calls with their handset market is on the rise he said\n",
            "people are turning away from net cafes because they think it will just make them more expensive to get a hold of\n",
            "the first time she played hans christian she said her voice sounded like a snake strangling a child but she later recalled that she felt as if she was singing a song from a snake mouth\n",
            "but she said she hoped the changes aimed at ensuring that pcs were as easy to use as possible were outweighed by the negative impact they have had on users of mobile phones\n",
            "mr thoday said this would ensure that the virus trojans tracks were removed before it could infect computers and networks\n",
            "its the only way for people to control where the ads will appear and where they will go\n",
            "the european commission is due to submit its proposals for a new directive on 24 january\n",
            "more than 4500 people were given advance copies of the eu mobile broadband standard which is used by more than 200000 europeans\n",
            "it now seems to be a natural fit  to let people manage their own search and comment systems on sites like gmail and google\n",
            "the show follows the success of the christmas specials who were then knocked out by santa maria in france\n",
            "the government and the media have been doing their best to control the public frenzy about the new technology but the legal battle that has followed in the last year has only made the situation worse\n",
            "the us actress went under fire for playing a woman in the film version of the play\n",
            "but there are many other companies working to overcome the barrier\n",
            "the list of recommended hosts is compiled by the uks top web authors blog\n",
            "we have all been very lucky to be able to do it said mr mccune who was in the office as part of the new production\n",
            "we are not at the end of our career she told the bbc news website\n",
            "the service will be available to anyone in the uk on sunday\n",
            "this is not the first time that a film has made the\n",
            "\n",
            "[210 | 523.66] loss=2.85 avg=3.54\n",
            "[220 | 547.81] loss=2.89 avg=3.50\n",
            "[230 | 571.95] loss=2.84 avg=3.47\n",
            "[240 | 596.08] loss=2.95 avg=3.45\n",
            "[250 | 620.27] loss=2.94 avg=3.42\n",
            "[260 | 644.47] loss=2.58 avg=3.39\n",
            "[270 | 668.69] loss=2.54 avg=3.35\n",
            "[280 | 692.90] loss=2.80 avg=3.33\n",
            "[290 | 717.13] loss=2.12 avg=3.28\n",
            "[300 | 741.35] loss=2.72 avg=3.26\n",
            "[310 | 765.51] loss=2.50 avg=3.23\n",
            "[320 | 789.69] loss=2.35 avg=3.20\n",
            "[330 | 813.87] loss=2.43 avg=3.17\n",
            "[340 | 838.07] loss=2.35 avg=3.14\n",
            "[350 | 862.22] loss=1.81 avg=3.10\n",
            "[360 | 886.44] loss=2.15 avg=3.07\n",
            "[370 | 910.67] loss=1.97 avg=3.03\n",
            "[380 | 934.88] loss=2.13 avg=3.00\n",
            "[390 | 959.02] loss=1.86 avg=2.97\n",
            "[400 | 983.21] loss=2.07 avg=2.94\n",
            "======== SAMPLE 1 ========\n",
            " up as well as selling some products and services\n",
            "they are used to providing trusted computing in an environment controlled by a single network controlled by the users so when they are used in environments where they can be easily controlled the value of the programs is greatly reduced the value of real users of the network is reduced too\n",
            "that can take years to update and people have stopped doing their thing\n",
            "the site already contains bot messages that try to trick people into handing over login details and are proving extremely popular said dr nielsen\n",
            "the site was supposed to be 100bps but has now topped the download chart at the rate of one a second\n",
            "we have had phone calls every 40 minutes\n",
            "the first time there was a dedicated music player on the wall it was near the cinema\n",
            "he said apple was moving closer to bringing wifi into homes\n",
            "and its free\n",
            "in the end the group successfully negotiated a truce with the santa baron the siet ames antwerp syndicate commons movement and the epa\n",
            "it will offer a wide range of multimedia services such as handsets video phones and digital music\n",
            "but that model does not quite work for hdtv makers of hddvd content such as sony\n",
            "the original sinclair was used for a summer holiday 1985 in conger town and was mistaken for a transatlantic call sign\n",
            "we are not talking about counterfeiters or people who are merely looking to improve their appearance\n",
            "in the next few months the firm has been working with lycos europe to secure a supplier\n",
            "the system has already been tested in three other hubs in the us including miami and east latina\n",
            "the mac mini is a full size computer that will really go if it sets you down you know and you know you want to upgrade to\n",
            "for those lucky enough to have their name on a chart they can take it to another level and challenge other musicians  if they do well then they can make a fortune off their music\n",
            "it is up against the brits' idea of a book with a strong female lead and an oscar nominee john nolte from london said the award would showcase outstanding female talent\n",
            "you could even see the ink welling up from the spot where it had left its victim\n",
            "the awards which are due to open on 21 february in london will be awarded at the 2003 british festivals to create a memorable event in the world\n",
            "there are no embarrassing images and even though the originals cost millions of pounds to create a restoration using cheapie dalats it would not be as bad if the mistake was made as it would be worse than the current plight of the original\n",
            "a spokesman for bt in an answer to msn had said it could not comment on specific products\n",
            "in december 2004 the numbers of people signing up to broadband were driven back following the huge success of the theninflatable pigeon programme\n",
            "the company which has been running afoul of the law has been criticised by the hondaland chapter of the national council for civil rights\n",
            "by way of comparison i was driving a sonda 600ci at the time ive been killed on\n",
            "mike leigh is a regular commentator on the bbc world service programme go digital\n",
            "mr lush described the idea as a sensible one  at the moment we are in a period of rapid digitalisation and the commoditisation of the way we consume media  we need to think long and hard about what we want our own media on the planet\n",
            "he also appears to be in prewar condition and will spend part of the next four years in the uk\n",
            "last weeks number one u2 single 50 cent pushed the microsoft share of the market by 50 in a week ending 1 july\n",
            "the research by security analysts had said that passwords were more secure on the net than in a mobile than in paperless machines\n",
            "the first time i would get up while watching this was at work at the torreys home in england in the 1980s and i recall thinking it was an odd choice of scene said ian mcIvor\n",
            "the first time i would get up while i was driving in columbiaba in the car park just across the road\n",
            "one of jes s t i christs statement its my soul\n",
            "this is a very dangerous environment he warned\n",
            "the british digital tv channel bbc ones  which is owned by satellite broadcaster bskyb  has set up a system to monitor shows downloaded in the us and provides links directly to bbc ones home video catalog\n",
            "michael cory who has had brushes with the law claims the posters made a racialistic joke and attacked two black men for their civil rights under state law\n",
            "the current battle between eduvision and vj will see eastwood and leon\n",
            "at a press conference on thursday the firm announced that it was to buy sony computer entertainment sony computer entertainment had paid tribute to the bands work and promised to look into all of its employees\n",
            "the first big technology awards are due to take place in hollywood later in the year\n",
            "the dvds will\n",
            "\n",
            "[410 | 1016.58] loss=1.87 avg=2.91\n",
            "[420 | 1040.65] loss=1.44 avg=2.87\n",
            "[430 | 1064.82] loss=1.70 avg=2.83\n",
            "[440 | 1089.12] loss=1.92 avg=2.81\n",
            "[450 | 1113.39] loss=1.54 avg=2.77\n",
            "[460 | 1137.55] loss=1.36 avg=2.73\n",
            "[470 | 1161.70] loss=1.31 avg=2.70\n",
            "[480 | 1185.79] loss=1.34 avg=2.66\n",
            "[490 | 1209.95] loss=1.08 avg=2.62\n",
            "[500 | 1234.14] loss=1.35 avg=2.59\n",
            "Saving checkpoint/run1/model-500\n",
            "[510 | 1260.95] loss=1.47 avg=2.56\n",
            "[520 | 1285.25] loss=1.31 avg=2.53\n",
            "[530 | 1309.45] loss=1.13 avg=2.50\n",
            "[540 | 1333.56] loss=1.18 avg=2.46\n",
            "[550 | 1357.68] loss=1.01 avg=2.43\n",
            "[560 | 1381.84] loss=0.81 avg=2.39\n",
            "[570 | 1405.94] loss=1.12 avg=2.36\n",
            "[580 | 1430.15] loss=0.85 avg=2.33\n",
            "[590 | 1454.34] loss=1.34 avg=2.31\n",
            "[600 | 1478.59] loss=0.86 avg=2.28\n",
            "======== SAMPLE 1 ========\n",
            " were a huge source of pride for the band\n",
            "the latest macintosh computer was spotted by ipod owners jonathan rusesky and paul rusesky in los angeles where they set up the anonymous download center\n",
            "it is based upon a realtor who had written an article about how he had rented a room next to the school gate without paying rent\n",
            "they are in no position whatsoever to direct public opinion in the matter\n",
            "it is on a par with the ebay and napster claims\n",
            "i was with the goodie auld fadies but i never felt comfortable with the niggardly gothic yahoos music we idolised as a child\n",
            "this is bound to please if not surprise many individuals and user organisations who feel that the wishes of the holder of rights to content are normally considered over and above the others\n",
            "in an email discussion about the file called filesharing system came to an end last wednesday\n",
            "mcfadden who now lives in britain added that he became ill with rheumatic disease in february 2002 and has since been receiving medical treatment in switzerland\n",
            "he added that his move to a city near his house with better transport connections was also motivated by the need to create a safe environment for his son to develop\n",
            "it says he filed a false report\n",
            "we wanted people to realise that we were here and that we had a mission and if we didnt do that now many of our customers would be thinking of turning away from their pcs\n",
            "jones said she arrived in the australian city not too long ago to fulfil a six month dream to open an illegal music store\n",
            "this time around more traditional criteria are applied\n",
            "it could dent sales of ukphone singers equating to five million a year in lost music\n",
            "we believe the advert in no way represents the views of the bbc or the bbc news office\n",
            "the cost of printer cartridges has been an outrage but bittorrent subscribers pay the lowest price in the uk according to the uk government website\n",
            "the company is part of a legal action brought by more than 1000 uk file say files campaigners\n",
            "the new technology will be designed so that people can play any individual song or movie out of a collection just by saying its name\n",
            "with a mere 12 words people can represent a geographical area or an alphabetical list of radio stations and games are available for download\n",
            "it is not the first time that the aviator a romantic comedy starring george clooney has been nominated for an oscar\n",
            "she is now favourite to win the reality show while hilary swank is favourites to become cinema royalty for the series\n",
            "the former teachyourard went into recording after studying drama at lord marston\n",
            "he hopes to break the distribution barrier and make it accessible to everyone\n",
            "but a separate study by gartner has found that people in 67 of those surveyed use email more than once a month\n",
            "it is going even faster than we thought it would be and are already seeing a 40 rise in download users through to the end of march\n",
            "he started his show bbc leady hanks and morgan freeman in 1991 then moved to timber creek\n",
            "the first action is expected to be taken against people being part of the scam after a judge in the county ruled that they complied with local noise abatement laws\n",
            "i was smitten with the idea of getting a computer mouse and wanted to play\n",
            "the new strains of the cabir mobile alphabetica virus use only mobile phones while humans communicate with the virus spreading by mobile signal\n",
            "the festival also included a selection of television interviews and a look at some of the best music and commercial performances from television performers around the world\n",
            "some 350 films will likely be shot in high definition before the year is out with some 135 cinemaps worldwide shooting in lowdefinition\n",
            "the awardwinning edamame film has dominated the box office for years\n",
            "it is based on a true story  in 18th century parthampling the life of a catholic priest who is approached by a group of religious people who want to buy his work  an 18th century painting that has been turned into a film\n",
            "the new machines will replace the windows windows 95 98 2000 and nokia run services\n",
            "its basically him bragging that hes one of the best emcees in spain right now millan says\n",
            "a spokesperson from the censor assured the traditional media organisations that the item had been removed on the representations that the item had been removed on the reasons given for the decision\n",
            "a version of suits widows and unwanted children has been pitched at the festival\n",
            "if you cant have 100 percent direct universal access then the fear of computer piracy is real\n",
            "he added they are also both heavily influenced by the 70s nostalgia for 1980sera and the 70s reggae aesthetic which is just not quite right\n",
            "hanks will play the female lead in the upcoming film walking dead which is being directed by kevin mcpartland\n",
            "she made her first carry on film in 1969 where she appeared in carry on again but became an enemy of the regime\n",
            "\n",
            "[610 | 1512.01] loss=0.98 avg=2.25\n",
            "[620 | 1536.11] loss=1.11 avg=2.22\n",
            "[630 | 1560.21] loss=0.86 avg=2.19\n",
            "[640 | 1584.28] loss=0.97 avg=2.17\n",
            "[650 | 1608.37] loss=0.76 avg=2.14\n",
            "[660 | 1632.44] loss=0.62 avg=2.11\n",
            "[670 | 1656.47] loss=0.81 avg=2.08\n",
            "[680 | 1680.49] loss=0.69 avg=2.05\n",
            "[690 | 1704.51] loss=0.73 avg=2.03\n",
            "[700 | 1728.52] loss=0.62 avg=2.00\n",
            "[710 | 1752.53] loss=0.92 avg=1.98\n",
            "[720 | 1776.52] loss=0.88 avg=1.96\n",
            "[730 | 1800.57] loss=0.61 avg=1.93\n",
            "[740 | 1824.71] loss=0.66 avg=1.91\n",
            "[750 | 1848.78] loss=0.83 avg=1.88\n",
            "[760 | 1872.75] loss=0.63 avg=1.86\n",
            "[770 | 1896.72] loss=0.67 avg=1.84\n",
            "[780 | 1920.69] loss=0.66 avg=1.82\n",
            "[790 | 1944.67] loss=0.69 avg=1.80\n",
            "[800 | 1968.69] loss=0.49 avg=1.77\n",
            "======== SAMPLE 1 ========\n",
            "book\n",
            "at the mbita point primary school in western k real name  khansabham poor works  who have raved about about for years\n",
            "it is not the first time such a thing has occurred\n",
            "scandinavians favourites pj harris and sophomary alike have had success in the race to the final round at this years oscars\n",
            "the site looks plausible because it is blocked in most cities across the country\n",
            "mr fukuke has launched a new yorkbased cosmetics firm having joined a growing list of companies offering services which make clothes for humans\n",
            "the us has already released a desktop pcispaced version of windows xp last year\n",
            "this could herald an increasing convergence between the gadgets and the media\n",
            "the technology works over an area network called ch10 and when a current signal is passed between a base station and a cabled wireless service the service opens up to all\n",
            "the site looks plausible because it is partially encrypted\n",
            "they reason that more open scrutiny of software produces better programs and fuels innovation\n",
            "if studios want to cash in on the extra footage and images are able to more easily use existing technology to allow people to use his images elsewhere in their films said elvis cohen net owner of meetthemedia\n",
            "its about the journey through a virtual vehicle of one human decision taken during an oncoming attack\n",
            "many will be looking to garlands and bright colours to create emotional outro musicaganzas british rock legends\n",
            "the mobile pc makes the device more personal and more productive\n",
            "the outlook for handset sales continued to deteriorate in the us according to market analysts 3giance research\n",
            "a texas company is considering letting mobiles play music in their phones\n",
            "it would make the company cheaper for operators that wanted to let people use their handset information\n",
            "i would love to be able to walk about and hunt and do all of those things but at the same time have those physical capacities and all the things that a 2g or 3gMAKER phone could handle then i would love to be able to walk about and hunt and do all of those things but at the same time have those capacities and all the things that a 3g phone could handle then its all about services and services that have bundled content or have integrated services  it would mean that consumers could have something that was not just about them\n",
            "if studios wanted to cash in on the extra cash they could also provide more variety and a greater degree of innovation\n",
            "but more competition has put more demands on film rights and comics as studios try to juggle production costs and access to blockbuster writers\n",
            "others list some of the ugandanpastimes such as the liberators kuwamarikomikawo and the libertines were among the titles released in 1994\n",
            "its a good basic workhorse\n",
            "the band might not always agree with his positions on abortion and homosexuality but they do share one thing in common\n",
            "the goal for 2005 is to move pc adoption beyond the gadgets and towards a more holistic approach to living out contemporary and happy lifestyles one of the initiatives is the ippr task force report mobile pc devices and their applications\n",
            "mr trotter said children might not necessarily understand the concept of creating something bigger than themselves through films but they should realise that there are limits to what can be achieved with gadgets\n",
            "he worked for almost a decade at globo putting everything on display in one place which has become almost cartoonlike in appearance\n",
            "this overspill effect was only likely to grow as attacks grow in size and scale\n",
            "the most recent single from the group was released in december 2004 knocking soul and avicii headspace into second and third place respectively\n",
            "they have two halo 2 titles in the pipeline the titles themselves will be up for grabs in august and may or may not be about to be released on dvds\n",
            "but kevin guard is not for real\n",
            "this means that during its investigation cbs may have believed the actress was actually a victim of illegal advertising\n",
            "it was later memorably spoofed in 1981 for its reference to electriebelleville a park near the city that has been transformed into a memorial for the victims of the atomic bomb dropped on nagorno with the tsunami subsidence taking on a new context\n",
            "the olivier awards will also honour french director esteban bujol and star of the ceremony at the french embassy in rome as well as other nominations\n",
            "mr fischer said motorsizedata would beep checked every 10 seconds to ensure it was working in clear black line light blue rather than clear clear red\n",
            "the site which is in both in english and spanish is meant to be easy to navigate\n",
            "weve seen some interesting effects in terms of what we can do nowbut some of the bigwigs involved in the technology alliance such as intel lg suprnova and samsung are already negotiating big increases in their share of the market\n",
            "this is going to need a much broader picture than just games like the bbc uk comedy top of the pops which has seen it recognised in the global stage\n",
            "the report\n",
            "\n",
            "[810 | 2001.87] loss=0.56 avg=1.75\n",
            "[820 | 2026.06] loss=0.67 avg=1.73\n",
            "[830 | 2050.31] loss=0.56 avg=1.71\n",
            "[840 | 2074.44] loss=0.58 avg=1.69\n",
            "[850 | 2098.53] loss=0.54 avg=1.67\n",
            "[860 | 2122.54] loss=0.52 avg=1.65\n",
            "[870 | 2146.58] loss=0.47 avg=1.63\n",
            "[880 | 2170.70] loss=0.70 avg=1.62\n",
            "[890 | 2194.86] loss=0.38 avg=1.59\n",
            "[900 | 2219.09] loss=0.47 avg=1.58\n",
            "[910 | 2243.35] loss=0.46 avg=1.56\n",
            "[920 | 2267.61] loss=0.39 avg=1.54\n",
            "[930 | 2291.82] loss=0.44 avg=1.52\n",
            "[940 | 2316.00] loss=0.35 avg=1.50\n",
            "[950 | 2340.13] loss=0.36 avg=1.48\n",
            "[960 | 2364.30] loss=0.34 avg=1.46\n",
            "[970 | 2388.46] loss=0.35 avg=1.45\n",
            "[980 | 2412.58] loss=0.39 avg=1.43\n",
            "[990 | 2436.72] loss=0.35 avg=1.41\n",
            "[1000 | 2460.92] loss=0.37 avg=1.40\n",
            "Saving checkpoint/run1/model-1000\n",
            "WARNING:tensorflow:From /tensorflow-1.15.2/python3.7/tensorflow_core/python/training/saver.py:963: remove_checkpoint (from tensorflow.python.training.checkpoint_management) is deprecated and will be removed in a future version.\n",
            "Instructions for updating:\n",
            "Use standard file APIs to delete files with this prefix.\n"
          ],
          "name": "stdout"
        }
      ]
    },
    {
      "cell_type": "markdown",
      "metadata": {
        "id": "IXSuTNERaw6K"
      },
      "source": [
        "After the model is trained, you can copy the checkpoint folder to your own Google Drive.\n",
        "\n",
        "If you want to download it to your personal computer, it's strongly recommended you copy it there first, then download from Google Drive. The checkpoint folder is copied as a `.rar` compressed file; you can download it and uncompress it locally."
      ]
    },
    {
      "cell_type": "code",
      "metadata": {
        "id": "VHdTL8NDbAh3"
      },
      "source": [
        "gpt2.copy_checkpoint_to_gdrive(run_name='run1')"
      ],
      "execution_count": null,
      "outputs": []
    },
    {
      "cell_type": "markdown",
      "metadata": {
        "id": "qQJgV_b4bmzd"
      },
      "source": [
        "You're done! Feel free to go to the **Generate Text From The Trained Model** section to generate text based on your retrained model."
      ]
    },
    {
      "cell_type": "markdown",
      "metadata": {
        "id": "pel-uBULXO2L"
      },
      "source": [
        "## Load a Trained Model Checkpoint\n",
        "\n",
        "Running the next cell will copy the `.rar` checkpoint file from your Google Drive into the Colaboratory VM."
      ]
    },
    {
      "cell_type": "code",
      "metadata": {
        "id": "DCcx5u7sbPTD"
      },
      "source": [
        "gpt2.copy_checkpoint_from_gdrive(run_name='run1')"
      ],
      "execution_count": 4,
      "outputs": []
    },
    {
      "cell_type": "markdown",
      "metadata": {
        "id": "RTa6zf3e_9gV"
      },
      "source": [
        "The next cell will allow you to load the retrained model checkpoint + metadata necessary to generate text.\n",
        "\n",
        "**IMPORTANT NOTE:** If you want to rerun this cell, **restart the VM first** (Runtime -> Restart Runtime). You will need to rerun imports but not recopy files."
      ]
    },
    {
      "cell_type": "code",
      "metadata": {
        "colab": {
          "base_uri": "https://localhost:8080/"
        },
        "id": "-fxL77nvAMAX",
        "outputId": "6a334635-401e-4a65-ad0d-22a3826dd453"
      },
      "source": [
        "sess = gpt2.start_tf_sess()\n",
        "gpt2.load_gpt2(sess, run_name='run1')"
      ],
      "execution_count": 5,
      "outputs": [
        {
          "output_type": "stream",
          "text": [
            "Loading checkpoint checkpoint/run1/model-1000\n",
            "INFO:tensorflow:Restoring parameters from checkpoint/run1/model-1000\n"
          ],
          "name": "stdout"
        }
      ]
    },
    {
      "cell_type": "markdown",
      "metadata": {
        "id": "ClJwpF_ACONp"
      },
      "source": [
        "## Generate Text From The Trained Model\n",
        "\n",
        "After you've trained the model or loaded a retrained model from checkpoint, you can now generate text. `generate` generates a single text from the loaded model."
      ]
    },
    {
      "cell_type": "code",
      "metadata": {
        "id": "4RNY6RBI9LmL"
      },
      "source": [
        "gpt2.generate(sess, run_name='run1')"
      ],
      "execution_count": null,
      "outputs": []
    },
    {
      "cell_type": "markdown",
      "metadata": {
        "id": "WIQfm_uaq2vw"
      },
      "source": [
        ""
      ]
    },
    {
      "cell_type": "markdown",
      "metadata": {
        "id": "oF4-PqF0Fl7R"
      },
      "source": [
        "If you're creating an API based on your model and need to pass the generated text elsewhere, you can do `text = gpt2.generate(sess, return_as_list=True)[0]`\n",
        "\n",
        "You can also pass in a `prefix` to the generate function to force the text to start with a given character sequence and generate text from there (good if you add an indicator when the text starts).\n",
        "\n",
        "You can also generate multiple texts at a time by specifing `nsamples`. Unique to GPT-2, you can pass a `batch_size` to generate multiple samples in parallel, giving a massive speedup (in Colaboratory, set a maximum of 20 for `batch_size`).\n",
        "\n",
        "Other optional-but-helpful parameters for `gpt2.generate` and friends:\n",
        "\n",
        "*  **`length`**: Number of tokens to generate (default 1023, the maximum)\n",
        "* **`temperature`**: The higher the temperature, the crazier the text (default 0.7, recommended to keep between 0.7 and 1.0)\n",
        "* **`top_k`**: Limits the generated guesses to the top *k* guesses (default 0 which disables the behavior; if the generated output is super crazy, you may want to set `top_k=40`)\n",
        "* **`top_p`**: Nucleus sampling: limits the generated guesses to a cumulative probability. (gets good results on a dataset with `top_p=0.9`)\n",
        "* **`truncate`**: Truncates the input text until a given sequence, excluding that sequence (e.g. if `truncate='<|endoftext|>'`, the returned text will include everything before the first `<|endoftext|>`). It may be useful to combine this with a smaller `length` if the input texts are short.\n",
        "*  **`include_prefix`**: If using `truncate` and `include_prefix=False`, the specified `prefix` will not be included in the returned text."
      ]
    },
    {
      "cell_type": "code",
      "metadata": {
        "colab": {
          "base_uri": "https://localhost:8080/"
        },
        "id": "kSAzH4l_1tpx",
        "outputId": "b2403930-8386-467c-881a-f8c2b65f4cb0"
      },
      "source": [
        "import random\n",
        "\n",
        "file = open(\"/content/drive/MyDrive/en_tech_test.txt\", \"rb\")\n",
        "test_set = file.read().decode(encoding='utf-8')\n",
        "processed_test_set = test_set.split(\"\\n\")\n",
        "processed_test_set=random.sample(processed_test_set,100)\n",
        "input_size =[1, 2, 3, 4, 5, 10, 15, 20]\n",
        "dataset={}\n",
        "for size in input_size:\n",
        "    dataset[size]=[];\n",
        "for line in processed_test_set:\n",
        "    line=line.split()\n",
        "    for size in input_size:\n",
        "        if len(line)>=size+1:\n",
        "           dataset[size].append(line[:size+1])\n",
        "import numpy as np\n",
        "import matplotlib as plt\n",
        "\n",
        "#for size in input_size:\n",
        "    #dataset[size]=np.array(dataset[size])\n",
        "for key,value in dataset.items():\n",
        "    for line in value:\n",
        "        a=' '.join(line[:-1])\n",
        "        del line[:-1]\n",
        "        line.insert(0,a)\n",
        "\n",
        "print(len(dataset[20]))\n",
        "#print(dataset)\n"
      ],
      "execution_count": 18,
      "outputs": [
        {
          "output_type": "stream",
          "text": [
            "48\n"
          ],
          "name": "stdout"
        }
      ]
    },
    {
      "cell_type": "code",
      "metadata": {
        "colab": {
          "base_uri": "https://localhost:8080/"
        },
        "id": "8DKMc0fiej4N",
        "outputId": "7981a39d-d49e-4ba9-b696-8030d5f7e5e8"
      },
      "source": [
        "#prefix=\"Chinese\"\n",
        "#!python -m spacy download en_core_web_lg\n",
        "\n",
        "dataset={1: [['highprofile', 'web'], ['nbc', 'alleged'], ['equally', 'it'], ['studies', 'have'], ['but', 'what'], ['from', '1'], ['in', 'the'], ['these', 'were'], ['each', 'one'], ['symbian', 'phones'], ['any', 'proposals'], ['while', 'not'], ['although', 'the'], ['the', 'band'], ['they', 'did'], ['getting', 'the'], ['the', 'canadian'], ['as', 'we'], ['after', 'the'], ['the', 'piracy'], ['highspeed', 'downlink'], ['earlier', 'in'], ['she', 'called'], ['this', 'last'], ['among', 'current'], ['many', 'other'], ['the', 'track'], ['wendy', 'ide'], ['if', 'the'], ['moreno', 'is'], ['the', 'plates'], ['the', 'thriller'], ['so', 'what'], ['the', 'complaints'], ['shochiku', 'film'], ['some', 'of'], ['search', 'engines'], ['she', 'said'], ['it', 'beats'], ['davis', 'was'], ['khan', 'was'], ['more', 'than'], ['the', 'next'], ['the', 'motion'], ['mr', 'wong'], ['the', 'images'], ['british', 'tv'], ['mainstream', 'radio'], ['he', 'wrote'], ['william', 'hill']], 2: [['highprofile web', 'portals'], ['nbc alleged', 'that'], ['equally it', 'may'], ['studies have', 'shown'], ['but what', 'has'], ['from 1', 'january'], ['in the', 'second'], ['these were', 'considered'], ['each one', 'has'], ['symbian phones', 'produced'], ['any proposals', 'to'], ['while not', 'always'], ['although the', 'us'], ['the band', 'are'], ['they did', 'not'], ['getting the', 'government'], ['the canadian', 'music'], ['as we', 'move'], ['after the', 'controversy'], ['the piracy', 'group'], ['highspeed downlink', 'packet'], ['earlier in', 'his'], ['she called', 'her'], ['this last', 'category'], ['among current', 'trends'], ['many other', 'firms'], ['the track', 'has'], ['wendy ide', 'the'], ['if the', 'decision'], ['moreno is', 'also'], ['the plates', 'decorating'], ['the thriller', 'shot'], ['so what', 'does'], ['the complaints', 'about'], ['shochiku film', 'studios'], ['some of', 'the'], ['search engines', 'are'], ['she said', 'she'], ['it beats', 'the'], ['davis was', 'also'], ['khan was', 'involved'], ['more than', '120000'], ['the next', 'major'], ['the motion', 'picture'], ['mr wong', 'eventually'], ['the images', 'have'], ['british tv', 'viewers'], ['mainstream radio', 'stations'], ['he wrote', 'ring'], ['william hill', 'made']], 3: [['highprofile web portals', 'such'], ['nbc alleged that', 'boxing'], ['equally it may', 'mean'], ['studies have shown', 'that'], ['but what has', 'not'], ['from 1 january', 'a'], ['in the second', 'ms'], ['these were considered', 'to'], ['each one has', 'involved'], ['symbian phones produced', 'by'], ['any proposals to', 'extend'], ['while not always', 'inventing'], ['although the us', 'leads'], ['the band are', 'also'], ['they did not', 'tell'], ['getting the government', 'even'], ['the canadian music', 'manager'], ['as we move', 'from'], ['after the controversy', 'last'], ['the piracy group', 'called'], ['highspeed downlink packet', 'access'], ['earlier in his', 'career'], ['she called her', 'service'], ['this last category', 'includes'], ['among current trends', 'it'], ['many other firms', 'have'], ['the track has', 'become'], ['wendy ide the', 'times'], ['if the decision', 'on'], ['moreno is also', 'nominated'], ['the plates decorating', 'the'], ['the thriller shot', 'straight'], ['so what does', 'this'], ['the complaints about', 'the'], ['shochiku film studios', 'which'], ['some of the', 'contributing'], ['search engines are', 'often'], ['she said she', 'was'], ['it beats the', 'ipod'], ['davis was also', 'a'], ['khan was involved', 'in'], ['more than 120000', 'trade'], ['the next major', 'film'], ['the motion picture', 'association'], ['mr wong eventually', 'hit'], ['the images have', 'three'], ['british tv viewers', 'lead'], ['mainstream radio stations', 'were'], ['he wrote ring', 'of'], ['william hill made', 'the']], 4: [['highprofile web portals such', 'as'], ['nbc alleged that boxing', 'regulations'], ['equally it may mean', 'hollywood'], ['studies have shown that', 'organisations'], ['but what has not', 'been'], ['from 1 january a', 'new'], ['in the second ms', 'love'], ['these were considered to', 'be'], ['each one has involved', 'the'], ['symbian phones produced by', 'sony'], ['any proposals to extend', 'existing'], ['while not always inventing', 'new'], ['although the us leads', 'in'], ['the band are also', 'working'], ['they did not tell', 'me'], ['getting the government even', 'more'], ['the canadian music manager', 'who'], ['as we move from', 'standard'], ['after the controversy last', 'year'], ['the piracy group called', 'itself'], ['highspeed downlink packet access', 'hsdpa'], ['earlier in his career', 'melcher'], ['she called her service', 'provider'], ['this last category includes', 'the'], ['among current trends it', 'highlighted'], ['many other firms have', 'released'], ['the track has become', 'the'], ['wendy ide the times', 'film'], ['if the decision on', 'the'], ['moreno is also nominated', 'for'], ['the plates decorating the', 'branches'], ['the thriller shot straight', 'to'], ['so what does this', 'mean'], ['the complaints about the', 'star'], ['shochiku film studios which', 'was'], ['some of the contributing', 'artists'], ['search engines are often', 'the'], ['she said she was', 'horrified'], ['it beats the ipod', 'into'], ['davis was also a', 'prominent'], ['khan was involved in', 'controversy'], ['more than 120000 trade', 'professionals'], ['the next major film', 'award'], ['the motion picture association', 'of'], ['mr wong eventually hit', 'upon'], ['the images have three', 'dimensions'], ['british tv viewers lead', 'the'], ['mainstream radio stations were', 'not'], ['he wrote ring of', 'fire'], ['william hill made the', 'move']], 5: [['highprofile web portals such as', 'google'], ['nbc alleged that boxing regulations', 'had'], ['equally it may mean hollywood', 'studios'], ['studies have shown that organisations', 'working'], ['but what has not been', 'explored'], ['from 1 january a new', 'law'], ['in the second ms love', '40'], ['these were considered to be', 'less'], ['each one has involved the', 'death'], ['symbian phones produced by sony', 'ericsson'], ['any proposals to extend existing', 'arrangements'], ['while not always inventing new', 'technology'], ['although the us leads in', 'this'], ['the band are also working', 'in'], ['they did not tell me', 'which'], ['getting the government even more', 'involved'], ['the canadian music manager who', 'also'], ['as we move from standard', 'definition'], ['after the controversy last year', 'which'], ['the piracy group called itself', 'the'], ['highspeed downlink packet access hsdpa', 'sometimes'], ['earlier in his career melcher', 'had'], ['she called her service provider', 'and'], ['this last category includes the', 'case'], ['among current trends it highlighted', 'the'], ['many other firms have released', 'desktop'], ['the track has become the', 'fastestselling'], ['wendy ide the times film', 'sideways'], ['if the decision on the', 'studio'], ['moreno is also nominated for', 'best'], ['the plates decorating the branches', 'will'], ['the thriller shot straight to', 'the'], ['so what does this mean', 'well'], ['the complaints about the star', 'grabbing'], ['shochiku film studios which was', 'founded'], ['some of the contributing artists', 'are'], ['search engines are often the', 'first'], ['she said she was horrified', 'by'], ['it beats the ipod into', 'second'], ['davis was also a prominent', 'figure'], ['khan was involved in controversy', 'when'], ['more than 120000 trade professionals', 'attended'], ['the next major film award', 'ceremony'], ['the motion picture association of', 'america'], ['mr wong eventually hit upon', 'the'], ['the images have three dimensions', 'and'], ['british tv viewers lead the', 'trend'], ['mainstream radio stations were not', 'going'], ['he wrote ring of fire', 'with'], ['william hill made the move', 'after']], 10: [['highprofile web portals such as google yahoo ebay and amazon', 'are'], ['nbc alleged that boxing regulations had been violated but failed', 'in'], ['equally it may mean hollywood studios ask for more to', 'be'], ['studies have shown that organisations working for record labels and', 'movie'], ['but what has not been explored is how authentication technology', 'may'], ['from 1 january a new law is being introduced to', 'protect'], ['in the second ms love 40 pleaded guilty to possessing', 'a'], ['symbian phones produced by sony ericsson motorola benq arima and', 'fujitsu'], ['any proposals to extend existing arrangements to cover new services', 'would'], ['while not always inventing new technology itself sony was never', 'afraid'], ['although the us leads in this technology at the moment', 'it'], ['the band are also working in the studio on new', 'material'], ['they did not tell me which pictures they had a', 'problem'], ['getting the government even more involved would only waste money', 'that'], ['the canadian music manager who also managed tommy hunter and', 'the'], ['as we move from standard definition video images to highdefinition', 'images'], ['after the controversy last year which saw cbs fined a', 'record'], ['the piracy group called itself the underground network and membership', 'of'], ['highspeed downlink packet access hsdpa sometimes called super 3g will', 'be'], ['earlier in his career melcher had hits as part of', 'duo'], ['she called her service provider and they told her it', 'would'], ['this last category includes the case of a man who', 'became'], ['among current trends it highlighted the final broadcasts of veteran', 'newscasters'], ['the track has become the fastestselling single of the year', 'so'], ['wendy ide the times film sideways director alexander payne actor', 'don'], ['if the decision on the studio side is that they', 'are'], ['the plates decorating the branches will be auctioned off for', 'the'], ['the thriller shot straight to the number one spot after', 'taking'], ['so what does this mean well football manager is the', 'spiritual'], ['the complaints about the star grabbing his crotch were upheld', 'by'], ['shochiku film studios which was founded 110 years ago will', 'become'], ['some of the contributing artists are students or recent graduates', 'of'], ['search engines are often the first port of call for', 'users'], ['she said she was horrified by the deaths of charlene', 'ellis'], ['it beats the ipod into second place in the top', 'ten'], ['davis was also a prominent figure in the civil rights', 'movement'], ['khan was involved in controversy when topless photos alleged to', 'be'], ['more than 120000 trade professionals attended ces in las vegas', 'which'], ['the next major film award ceremony of the season is', 'the'], ['the motion picture association of america wants to stop people', 'using'], ['mr wong eventually hit upon the idea of translating individual', 'colours'], ['the images have three dimensions and i had to find', 'a'], ['british tv viewers lead the trend of illegally downloading us', 'shows'], ['mainstream radio stations were not going to play this kind', 'of'], ['he wrote ring of fire with june carter cash the', 'future'], ['william hill made the move after four people tried to', 'place']], 15: [['highprofile web portals such as google yahoo ebay and amazon are gathering links that lead', 'people'], ['nbc alleged that boxing regulations had been violated but failed in their attempt to have', 'the'], ['equally it may mean hollywood studios ask for more to be put onto the average', 'dvd'], ['studies have shown that organisations working for record labels and movie studios have worked to', 'undermine'], ['but what has not been explored is how authentication technology may potentially play a role', 'in'], ['from 1 january a new law is being introduced to protect computer users from software', 'known'], ['in the second ms love 40 pleaded guilty to possessing a forged prescription and painkiller', 'oxycodone'], ['symbian phones produced by sony ericsson motorola benq arima and fujitsu are unaffected by the', 'skulls'], ['any proposals to extend existing arrangements to cover new services would be for government to', 'consider'], ['while not always inventing new technology itself sony was never afraid to innovate around various', 'formats'], ['although the us leads in this technology at the moment it is also a concern', 'that'], ['the band are also working in the studio on new material their first since the', '1982'], ['getting the government even more involved would only waste money that could be put to', 'better'], ['the canadian music manager who also managed tommy hunter and the statler brothers had been', 'in'], ['as we move from standard definition video images to highdefinition images we have a much', 'greater'], ['after the controversy last year which saw cbs fined a record 550000 £292000 by federal', 'regulators'], ['the piracy group called itself the underground network and membership of it demanded that users', 'share'], ['highspeed downlink packet access hsdpa sometimes called super 3g will be vital for profitable services', 'like'], ['earlier in his career melcher had hits as part of duo called bruce terry with', 'future'], ['she called her service provider and they told her it would be five days before', 'an'], ['this last category includes the case of a man who became so mad with his', 'malfunctioning'], ['among current trends it highlighted the final broadcasts of veteran newscasters tom brokaw barbara walters', 'and'], ['the track has become the fastestselling single of the year so far shifting more copies', 'than'], ['if the decision on the studio side is that they are going to put a', 'lot'], ['the thriller shot straight to the number one spot after taking 22m £117m at the', 'box'], ['so what does this mean well football manager is the spiritual successor to the cm', 'series'], ['shochiku film studios which was founded 110 years ago will become the first cinematic institution', 'to'], ['some of the contributing artists are students or recent graduates of the royal college of', 'art'], ['search engines are often the first port of call for users when they go onto', 'the'], ['she said she was horrified by the deaths of charlene ellis 18 and letisha shakespeare', '17'], ['it beats the ipod into second place in the top ten essentials list which predicts', 'what'], ['davis was also a prominent figure in the civil rights movement and was a voice', 'for'], ['khan was involved in controversy when topless photos alleged to be of her appeared in', 'a'], ['more than 120000 trade professionals attended ces in las vegas which officially ran from 6', 'to'], ['the next major film award ceremony of the season is the bafta awards which take', 'place'], ['the motion picture association of america wants to stop people using the program bittorrent to', 'swap'], ['mr wong eventually hit upon the idea of translating individual colours into music and enlisted', 'the'], ['the images have three dimensions and i had to find a way of reading them', 'myself'], ['british tv viewers lead the trend of illegally downloading us shows from the net according', 'to'], ['mainstream radio stations were not going to play this kind of music and starting their', 'own'], ['he wrote ring of fire with june carter cash the future wife of johnny cash', 'who'], ['william hill made the move after four people tried to place bets on fridays surprise', 'double']], 20: [['highprofile web portals such as google yahoo ebay and amazon are gathering links that lead people to aid and relief', 'organisations'], ['studies have shown that organisations working for record labels and movie studios have worked to undermine kazaa by putting in', 'fakes'], ['but what has not been explored is how authentication technology may potentially play a role in decentralised online communities the', 'key'], ['although the us leads in this technology at the moment it is also a concern that is being raised in', 'europe'], ['the canadian music manager who also managed tommy hunter and the statler brothers had been in declining health according to', 'his'], ['as we move from standard definition video images to highdefinition images we have a much greater need for storage richard', 'doherty'], ['after the controversy last year which saw cbs fined a record 550000 £292000 by federal regulators super bowl organisers had', 'turned'], ['the piracy group called itself the underground network and membership of it demanded that users share between one and 100', 'gigabytes'], ['highspeed downlink packet access hsdpa sometimes called super 3g will be vital for profitable services like mobile internet browsing and', 'mobile'], ['earlier in his career melcher had hits as part of duo called bruce terry with future beach boy bruce johnston', 'which'], ['she called her service provider and they told her it would be five days before an engineer would show up', 'with'], ['this last category includes the case of a man who became so mad with his malfunctioning laptop that he threw', 'it'], ['among current trends it highlighted the final broadcasts of veteran newscasters tom brokaw barbara walters and the impending retirement of', 'cbs'], ['the track has become the fastestselling single of the year so far shifting more copies than the rest of the', 'top'], ['if the decision on the studio side is that they are going to put a lot more on these disks', 'it'], ['so what does this mean well football manager is the spiritual successor to the cm series and it has been', 'released'], ['shochiku film studios which was founded 110 years ago will become the first cinematic institution to receive the berlinale camera', 'award'], ['some of the contributing artists are students or recent graduates of the royal college of art and other leading art', 'colleges'], ['it beats the ipod into second place in the top ten essentials list which predicts what gadgetlovers are likely to', 'covet'], ['the next major film award ceremony of the season is the bafta awards which take place at londons odeon leicester', 'square'], ['mr wong eventually hit upon the idea of translating individual colours into music and enlisted the help of a computer', 'graphics'], ['the images have three dimensions and i had to find a way of reading them myself mr wong told the', 'bbc'], ['mainstream radio stations were not going to play this kind of music and starting their own broadcast station was economically', 'impossible'], ['he wrote ring of fire with june carter cash the future wife of johnny cash who went on to score', 'his']]}\n",
        "\n",
        "\n",
        "final_acc={}\n",
        "print(len(dataset[10]))\n",
        "average_accuracy = 0\n",
        "num = 0\n",
        "for line in dataset[10]:\n",
        "    prefix=line[0]\n",
        "    expected=line[-1]\n",
        "    print(prefix)\n",
        "    result=gpt2.generate(sess,\n",
        "                length=1,\n",
        "                temperature=1,\n",
        "                prefix=prefix,\n",
        "                return_as_list=True,\n",
        "                )\n",
        "    print(result)\n",
        "    r=str(result[0][len(prefix):]).strip().rstrip(\"\\n\")\n",
        "    #print(r)\n",
        "    if len(r)!=0:\n",
        "        x = nlp(r)\n",
        "        y = nlp(str(expected))\n",
        "        print(x[0].has_vector)\n",
        "        #print(y)\n",
        "        if (x[0].has_vector) and (y[0].has_vector):\n",
        "            average_accuracy += nlp(r).similarity(nlp(str(expected)))\n",
        "            num += 1\n",
        "average_accuracy /= num\n",
        "print('accuracy：',average_accuracy)\n",
        "#final_acc[3]=average_accuracy\n",
        "\n",
        "\n",
        "#{1: [['highprofile', 'web'], ['nbc', 'alleged'], ['equally', 'it'], ['studies', 'have'], ['but', 'what'], ['from', '1'], ['in', 'the'], ['these', 'were'], ['each', 'one'], ['symbian', 'phones'], ['any', 'proposals'], ['while', 'not'], ['although', 'the'], ['the', 'band'], ['they', 'did'], ['getting', 'the'], ['the', 'canadian'], ['as', 'we'], ['after', 'the'], ['the', 'piracy'], ['highspeed', 'downlink'], ['earlier', 'in'], ['she', 'called'], ['this', 'last'], ['among', 'current'], ['many', 'other'], ['the', 'track'], ['wendy', 'ide'], ['if', 'the'], ['moreno', 'is'], ['the', 'plates'], ['the', 'thriller'], ['so', 'what'], ['the', 'complaints'], ['shochiku', 'film'], ['some', 'of'], ['search', 'engines'], ['she', 'said'], ['it', 'beats'], ['davis', 'was'], ['khan', 'was'], ['more', 'than'], ['the', 'next'], ['the', 'motion'], ['mr', 'wong'], ['the', 'images'], ['british', 'tv'], ['mainstream', 'radio'], ['he', 'wrote'], ['william', 'hill']], 2: [['highprofile web', 'portals'], ['nbc alleged', 'that'], ['equally it', 'may'], ['studies have', 'shown'], ['but what', 'has'], ['from 1', 'january'], ['in the', 'second'], ['these were', 'considered'], ['each one', 'has'], ['symbian phones', 'produced'], ['any proposals', 'to'], ['while not', 'always'], ['although the', 'us'], ['the band', 'are'], ['they did', 'not'], ['getting the', 'government'], ['the canadian', 'music'], ['as we', 'move'], ['after the', 'controversy'], ['the piracy', 'group'], ['highspeed downlink', 'packet'], ['earlier in', 'his'], ['she called', 'her'], ['this last', 'category'], ['among current', 'trends'], ['many other', 'firms'], ['the track', 'has'], ['wendy ide', 'the'], ['if the', 'decision'], ['moreno is', 'also'], ['the plates', 'decorating'], ['the thriller', 'shot'], ['so what', 'does'], ['the complaints', 'about'], ['shochiku film', 'studios'], ['some of', 'the'], ['search engines', 'are'], ['she said', 'she'], ['it beats', 'the'], ['davis was', 'also'], ['khan was', 'involved'], ['more than', '120000'], ['the next', 'major'], ['the motion', 'picture'], ['mr wong', 'eventually'], ['the images', 'have'], ['british tv', 'viewers'], ['mainstream radio', 'stations'], ['he wrote', 'ring'], ['william hill', 'made']], 3: [['highprofile web portals', 'such'], ['nbc alleged that', 'boxing'], ['equally it may', 'mean'], ['studies have shown', 'that'], ['but what has', 'not'], ['from 1 january', 'a'], ['in the second', 'ms'], ['these were considered', 'to'], ['each one has', 'involved'], ['symbian phones produced', 'by'], ['any proposals to', 'extend'], ['while not always', 'inventing'], ['although the us', 'leads'], ['the band are', 'also'], ['they did not', 'tell'], ['getting the government', 'even'], ['the canadian music', 'manager'], ['as we move', 'from'], ['after the controversy', 'last'], ['the piracy group', 'called'], ['highspeed downlink packet', 'access'], ['earlier in his', 'career'], ['she called her', 'service'], ['this last category', 'includes'], ['among current trends', 'it'], ['many other firms', 'have'], ['the track has', 'become'], ['wendy ide the', 'times'], ['if the decision', 'on'], ['moreno is also', 'nominated'], ['the plates decorating', 'the'], ['the thriller shot', 'straight'], ['so what does', 'this'], ['the complaints about', 'the'], ['shochiku film studios', 'which'], ['some of the', 'contributing'], ['search engines are', 'often'], ['she said she', 'was'], ['it beats the', 'ipod'], ['davis was also', 'a'], ['khan was involved', 'in'], ['more than 120000', 'trade'], ['the next major', 'film'], ['the motion picture', 'association'], ['mr wong eventually', 'hit'], ['the images have', 'three'], ['british tv viewers', 'lead'], ['mainstream radio stations', 'were'], ['he wrote ring', 'of'], ['william hill made', 'the']], 4: [['highprofile web portals such', 'as'], ['nbc alleged that boxing', 'regulations'], ['equally it may mean', 'hollywood'], ['studies have shown that', 'organisations'], ['but what has not', 'been'], ['from 1 january a', 'new'], ['in the second ms', 'love'], ['these were considered to', 'be'], ['each one has involved', 'the'], ['symbian phones produced by', 'sony'], ['any proposals to extend', 'existing'], ['while not always inventing', 'new'], ['although the us leads', 'in'], ['the band are also', 'working'], ['they did not tell', 'me'], ['getting the government even', 'more'], ['the canadian music manager', 'who'], ['as we move from', 'standard'], ['after the controversy last', 'year'], ['the piracy group called', 'itself'], ['highspeed downlink packet access', 'hsdpa'], ['earlier in his career', 'melcher'], ['she called her service', 'provider'], ['this last category includes', 'the'], ['among current trends it', 'highlighted'], ['many other firms have', 'released'], ['the track has become', 'the'], ['wendy ide the times', 'film'], ['if the decision on', 'the'], ['moreno is also nominated', 'for'], ['the plates decorating the', 'branches'], ['the thriller shot straight', 'to'], ['so what does this', 'mean'], ['the complaints about the', 'star'], ['shochiku film studios which', 'was'], ['some of the contributing', 'artists'], ['search engines are often', 'the'], ['she said she was', 'horrified'], ['it beats the ipod', 'into'], ['davis was also a', 'prominent'], ['khan was involved in', 'controversy'], ['more than 120000 trade', 'professionals'], ['the next major film', 'award'], ['the motion picture association', 'of'], ['mr wong eventually hit', 'upon'], ['the images have three', 'dimensions'], ['british tv viewers lead', 'the'], ['mainstream radio stations were', 'not'], ['he wrote ring of', 'fire'], ['william hill made the', 'move']], 5: [['highprofile web portals such as', 'google'], ['nbc alleged that boxing regulations', 'had'], ['equally it may mean hollywood', 'studios'], ['studies have shown that organisations', 'working'], ['but what has not been', 'explored'], ['from 1 january a new', 'law'], ['in the second ms love', '40'], ['these were considered to be', 'less'], ['each one has involved the', 'death'], ['symbian phones produced by sony', 'ericsson'], ['any proposals to extend existing', 'arrangements'], ['while not always inventing new', 'technology'], ['although the us leads in', 'this'], ['the band are also working', 'in'], ['they did not tell me', 'which'], ['getting the government even more', 'involved'], ['the canadian music manager who', 'also'], ['as we move from standard', 'definition'], ['after the controversy last year', 'which'], ['the piracy group called itself', 'the'], ['highspeed downlink packet access hsdpa', 'sometimes'], ['earlier in his career melcher', 'had'], ['she called her service provider', 'and'], ['this last category includes the', 'case'], ['among current trends it highlighted', 'the'], ['many other firms have released', 'desktop'], ['the track has become the', 'fastestselling'], ['wendy ide the times film', 'sideways'], ['if the decision on the', 'studio'], ['moreno is also nominated for', 'best'], ['the plates decorating the branches', 'will'], ['the thriller shot straight to', 'the'], ['so what does this mean', 'well'], ['the complaints about the star', 'grabbing'], ['shochiku film studios which was', 'founded'], ['some of the contributing artists', 'are'], ['search engines are often the', 'first'], ['she said she was horrified', 'by'], ['it beats the ipod into', 'second'], ['davis was also a prominent', 'figure'], ['khan was involved in controversy', 'when'], ['more than 120000 trade professionals', 'attended'], ['the next major film award', 'ceremony'], ['the motion picture association of', 'america'], ['mr wong eventually hit upon', 'the'], ['the images have three dimensions', 'and'], ['british tv viewers lead the', 'trend'], ['mainstream radio stations were not', 'going'], ['he wrote ring of fire', 'with'], ['william hill made the move', 'after']], 10: [['highprofile web portals such as google yahoo ebay and amazon', 'are'], ['nbc alleged that boxing regulations had been violated but failed', 'in'], ['equally it may mean hollywood studios ask for more to', 'be'], ['studies have shown that organisations working for record labels and', 'movie'], ['but what has not been explored is how authentication technology', 'may'], ['from 1 january a new law is being introduced to', 'protect'], ['in the second ms love 40 pleaded guilty to possessing', 'a'], ['symbian phones produced by sony ericsson motorola benq arima and', 'fujitsu'], ['any proposals to extend existing arrangements to cover new services', 'would'], ['while not always inventing new technology itself sony was never', 'afraid'], ['although the us leads in this technology at the moment', 'it'], ['the band are also working in the studio on new', 'material'], ['they did not tell me which pictures they had a', 'problem'], ['getting the government even more involved would only waste money', 'that'], ['the canadian music manager who also managed tommy hunter and', 'the'], ['as we move from standard definition video images to highdefinition', 'images'], ['after the controversy last year which saw cbs fined a', 'record'], ['the piracy group called itself the underground network and membership', 'of'], ['highspeed downlink packet access hsdpa sometimes called super 3g will', 'be'], ['earlier in his career melcher had hits as part of', 'duo'], ['she called her service provider and they told her it', 'would'], ['this last category includes the case of a man who', 'became'], ['among current trends it highlighted the final broadcasts of veteran', 'newscasters'], ['the track has become the fastestselling single of the year', 'so'], ['wendy ide the times film sideways director alexander payne actor', 'don'], ['if the decision on the studio side is that they', 'are'], ['the plates decorating the branches will be auctioned off for', 'the'], ['the thriller shot straight to the number one spot after', 'taking'], ['so what does this mean well football manager is the', 'spiritual'], ['the complaints about the star grabbing his crotch were upheld', 'by'], ['shochiku film studios which was founded 110 years ago will', 'become'], ['some of the contributing artists are students or recent graduates', 'of'], ['search engines are often the first port of call for', 'users'], ['she said she was horrified by the deaths of charlene', 'ellis'], ['it beats the ipod into second place in the top', 'ten'], ['davis was also a prominent figure in the civil rights', 'movement'], ['khan was involved in controversy when topless photos alleged to', 'be'], ['more than 120000 trade professionals attended ces in las vegas', 'which'], ['the next major film award ceremony of the season is', 'the'], ['the motion picture association of america wants to stop people', 'using'], ['mr wong eventually hit upon the idea of translating individual', 'colours'], ['the images have three dimensions and i had to find', 'a'], ['british tv viewers lead the trend of illegally downloading us', 'shows'], ['mainstream radio stations were not going to play this kind', 'of'], ['he wrote ring of fire with june carter cash the', 'future'], ['william hill made the move after four people tried to', 'place']], 15: [['highprofile web portals such as google yahoo ebay and amazon are gathering links that lead', 'people'], ['nbc alleged that boxing regulations had been violated but failed in their attempt to have', 'the'], ['equally it may mean hollywood studios ask for more to be put onto the average', 'dvd'], ['studies have shown that organisations working for record labels and movie studios have worked to', 'undermine'], ['but what has not been explored is how authentication technology may potentially play a role', 'in'], ['from 1 january a new law is being introduced to protect computer users from software', 'known'], ['in the second ms love 40 pleaded guilty to possessing a forged prescription and painkiller', 'oxycodone'], ['symbian phones produced by sony ericsson motorola benq arima and fujitsu are unaffected by the', 'skulls'], ['any proposals to extend existing arrangements to cover new services would be for government to', 'consider'], ['while not always inventing new technology itself sony was never afraid to innovate around various', 'formats'], ['although the us leads in this technology at the moment it is also a concern', 'that'], ['the band are also working in the studio on new material their first since the', '1982'], ['getting the government even more involved would only waste money that could be put to', 'better'], ['the canadian music manager who also managed tommy hunter and the statler brothers had been', 'in'], ['as we move from standard definition video images to highdefinition images we have a much', 'greater'], ['after the controversy last year which saw cbs fined a record 550000 £292000 by federal', 'regulators'], ['the piracy group called itself the underground network and membership of it demanded that users', 'share'], ['highspeed downlink packet access hsdpa sometimes called super 3g will be vital for profitable services', 'like'], ['earlier in his career melcher had hits as part of duo called bruce terry with', 'future'], ['she called her service provider and they told her it would be five days before', 'an'], ['this last category includes the case of a man who became so mad with his', 'malfunctioning'], ['among current trends it highlighted the final broadcasts of veteran newscasters tom brokaw barbara walters', 'and'], ['the track has become the fastestselling single of the year so far shifting more copies', 'than'], ['if the decision on the studio side is that they are going to put a', 'lot'], ['the thriller shot straight to the number one spot after taking 22m £117m at the', 'box'], ['so what does this mean well football manager is the spiritual successor to the cm', 'series'], ['shochiku film studios which was founded 110 years ago will become the first cinematic institution', 'to'], ['some of the contributing artists are students or recent graduates of the royal college of', 'art'], ['search engines are often the first port of call for users when they go onto', 'the'], ['she said she was horrified by the deaths of charlene ellis 18 and letisha shakespeare', '17'], ['it beats the ipod into second place in the top ten essentials list which predicts', 'what'], ['davis was also a prominent figure in the civil rights movement and was a voice', 'for'], ['khan was involved in controversy when topless photos alleged to be of her appeared in', 'a'], ['more than 120000 trade professionals attended ces in las vegas which officially ran from 6', 'to'], ['the next major film award ceremony of the season is the bafta awards which take', 'place'], ['the motion picture association of america wants to stop people using the program bittorrent to', 'swap'], ['mr wong eventually hit upon the idea of translating individual colours into music and enlisted', 'the'], ['the images have three dimensions and i had to find a way of reading them', 'myself'], ['british tv viewers lead the trend of illegally downloading us shows from the net according', 'to'], ['mainstream radio stations were not going to play this kind of music and starting their', 'own'], ['he wrote ring of fire with june carter cash the future wife of johnny cash', 'who'], ['william hill made the move after four people tried to place bets on fridays surprise', 'double']], 20: [['highprofile web portals such as google yahoo ebay and amazon are gathering links that lead people to aid and relief', 'organisations'], ['studies have shown that organisations working for record labels and movie studios have worked to undermine kazaa by putting in', 'fakes'], ['but what has not been explored is how authentication technology may potentially play a role in decentralised online communities the', 'key'], ['although the us leads in this technology at the moment it is also a concern that is being raised in', 'europe'], ['the canadian music manager who also managed tommy hunter and the statler brothers had been in declining health according to', 'his'], ['as we move from standard definition video images to highdefinition images we have a much greater need for storage richard', 'doherty'], ['after the controversy last year which saw cbs fined a record 550000 £292000 by federal regulators super bowl organisers had', 'turned'], ['the piracy group called itself the underground network and membership of it demanded that users share between one and 100', 'gigabytes'], ['highspeed downlink packet access hsdpa sometimes called super 3g will be vital for profitable services like mobile internet browsing and', 'mobile'], ['earlier in his career melcher had hits as part of duo called bruce terry with future beach boy bruce johnston', 'which'], ['she called her service provider and they told her it would be five days before an engineer would show up', 'with'], ['this last category includes the case of a man who became so mad with his malfunctioning laptop that he threw', 'it'], ['among current trends it highlighted the final broadcasts of veteran newscasters tom brokaw barbara walters and the impending retirement of', 'cbs'], ['the track has become the fastestselling single of the year so far shifting more copies than the rest of the', 'top'], ['if the decision on the studio side is that they are going to put a lot more on these disks', 'it'], ['so what does this mean well football manager is the spiritual successor to the cm series and it has been', 'released'], ['shochiku film studios which was founded 110 years ago will become the first cinematic institution to receive the berlinale camera', 'award'], ['some of the contributing artists are students or recent graduates of the royal college of art and other leading art', 'colleges'], ['it beats the ipod into second place in the top ten essentials list which predicts what gadgetlovers are likely to', 'covet'], ['the next major film award ceremony of the season is the bafta awards which take place at londons odeon leicester', 'square'], ['mr wong eventually hit upon the idea of translating individual colours into music and enlisted the help of a computer', 'graphics'], ['the images have three dimensions and i had to find a way of reading them myself mr wong told the', 'bbc'], ['mainstream radio stations were not going to play this kind of music and starting their own broadcast station was economically', 'impossible'], ['he wrote ring of fire with june carter cash the future wife of johnny cash who went on to score', 'his']]}\n",
        "\n",
        "        \n",
        "    \n",
        "    \n"
      ],
      "execution_count": 6,
      "outputs": [
        {
          "output_type": "stream",
          "text": [
            "46\n",
            "highprofile web portals such as google yahoo ebay and amazon\n",
            "['highprofile web portals such as google yahoo ebay and amazon a']\n",
            "True\n",
            "nbc alleged that boxing regulations had been violated but failed\n",
            "['nbc alleged that boxing regulations had been violated but failed to']\n",
            "True\n",
            "equally it may mean hollywood studios ask for more to\n",
            "['equally it may mean hollywood studios ask for more to be']\n",
            "True\n",
            "studies have shown that organisations working for record labels and\n",
            "['studies have shown that organisations working for record labels and gun']\n",
            "True\n",
            "but what has not been explored is how authentication technology\n",
            "['but what has not been explored is how authentication technology can']\n",
            "True\n",
            "from 1 january a new law is being introduced to\n",
            "['from 1 january a new law is being introduced to help']\n",
            "True\n",
            "in the second ms love 40 pleaded guilty to possessing\n",
            "['in the second ms love 40 pleaded guilty to possessing an']\n",
            "True\n",
            "symbian phones produced by sony ericsson motorola benq arima and\n",
            "['symbian phones produced by sony ericsson motorola benq arima and spe']\n",
            "True\n",
            "any proposals to extend existing arrangements to cover new services\n",
            "['any proposals to extend existing arrangements to cover new services will']\n",
            "True\n",
            "while not always inventing new technology itself sony was never\n",
            "['while not always inventing new technology itself sony was never going']\n",
            "True\n",
            "although the us leads in this technology at the moment\n",
            "['although the us leads in this technology at the momenticon']\n",
            "True\n",
            "the band are also working in the studio on new\n",
            "['the band are also working in the studio on new material']\n",
            "True\n",
            "they did not tell me which pictures they had a\n",
            "['they did not tell me which pictures they had a problem']\n",
            "True\n",
            "getting the government even more involved would only waste money\n",
            "['getting the government even more involved would only waste money it']\n",
            "True\n",
            "the canadian music manager who also managed tommy hunter and\n",
            "['the canadian music manager who also managed tommy hunter and le']\n",
            "True\n",
            "as we move from standard definition video images to highdefinition\n",
            "['as we move from standard definition video images to highdefinition is']\n",
            "True\n",
            "after the controversy last year which saw cbs fined a\n",
            "['after the controversy last year which saw cbs fined a reported']\n",
            "True\n",
            "the piracy group called itself the underground network and membership\n",
            "['the piracy group called itself the underground network and membership of']\n",
            "True\n",
            "highspeed downlink packet access hsdpa sometimes called super 3g will\n",
            "['highspeed downlink packet access hsdpa sometimes called super 3g will not']\n",
            "True\n",
            "earlier in his career melcher had hits as part of\n",
            "['earlier in his career melcher had hits as part of him']\n",
            "True\n",
            "she called her service provider and they told her it\n",
            "['she called her service provider and they told her it was']\n",
            "True\n",
            "this last category includes the case of a man who\n",
            "['this last category includes the case of a man who used']\n",
            "True\n",
            "among current trends it highlighted the final broadcasts of veteran\n",
            "['among current trends it highlighted the final broadcasts of veteran shows']\n",
            "True\n",
            "the track has become the fastestselling single of the year\n",
            "['the track has become the fastestselling single of the year g']\n",
            "True\n",
            "wendy ide the times film sideways director alexander payne actor\n",
            "['wendy ide the times film sideways director alexander payne actor jam']\n",
            "True\n",
            "if the decision on the studio side is that they\n",
            "['if the decision on the studio side is that they will']\n",
            "True\n",
            "the plates decorating the branches will be auctioned off for\n",
            "['the plates decorating the branches will be auctioned off for parts']\n",
            "True\n",
            "the thriller shot straight to the number one spot after\n",
            "['the thriller shot straight to the number one spot after selling']\n",
            "True\n",
            "so what does this mean well football manager is the\n",
            "['so what does this mean well football manager is the first']\n",
            "True\n",
            "the complaints about the star grabbing his crotch were upheld\n",
            "['the complaints about the star grabbing his crotch were upheld in']\n",
            "True\n",
            "shochiku film studios which was founded 110 years ago will\n",
            "['shochiku film studios which was founded 110 years ago will get']\n",
            "True\n",
            "some of the contributing artists are students or recent graduates\n",
            "['some of the contributing artists are students or recent graduates who']\n",
            "True\n",
            "search engines are often the first port of call for\n",
            "['search engines are often the first port of call for digital']\n",
            "True\n",
            "she said she was horrified by the deaths of charlene\n",
            "['she said she was horrified by the deaths of charlene and']\n",
            "True\n",
            "it beats the ipod into second place in the top\n",
            "['it beats the ipod into second place in the top 10']\n",
            "True\n",
            "davis was also a prominent figure in the civil rights\n",
            "['davis was also a prominent figure in the civil rights movement']\n",
            "True\n",
            "khan was involved in controversy when topless photos alleged to\n",
            "['khan was involved in controversy when topless photos alleged to show']\n",
            "True\n",
            "more than 120000 trade professionals attended ces in las vegas\n",
            "['more than 120000 trade professionals attended ces in las vegas a']\n",
            "True\n",
            "the next major film award ceremony of the season is\n",
            "['the next major film award ceremony of the season is due']\n",
            "True\n",
            "the motion picture association of america wants to stop people\n",
            "['the motion picture association of america wants to stop people being']\n",
            "True\n",
            "mr wong eventually hit upon the idea of translating individual\n",
            "['mr wong eventually hit upon the idea of translating individual bits']\n",
            "True\n",
            "the images have three dimensions and i had to find\n",
            "['the images have three dimensions and i had to find two']\n",
            "True\n",
            "british tv viewers lead the trend of illegally downloading us\n",
            "['british tv viewers lead the trend of illegally downloading us films']\n",
            "True\n",
            "mainstream radio stations were not going to play this kind\n",
            "['mainstream radio stations were not going to play this kind of']\n",
            "True\n",
            "he wrote ring of fire with june carter cash the\n",
            "['he wrote ring of fire with june carter cash the game']\n",
            "True\n",
            "william hill made the move after four people tried to\n",
            "['william hill made the move after four people tried to rob']\n",
            "True\n",
            "accuracy： 0.48216599555512607\n"
          ],
          "name": "stdout"
        }
      ]
    },
    {
      "cell_type": "code",
      "metadata": {
        "colab": {
          "base_uri": "https://localhost:8080/"
        },
        "id": "WdEpUXWmPpYv",
        "outputId": "e2640a42-b361-4d97-ae13-728259d83bb0"
      },
      "source": [
        "print(final_acc)\n",
        "#length1: 0.38263516892041544\n",
        "#length2: 0.47359868940601696\n",
        "#length3: 0.5158241760324638\n",
        "#length4: 0.4772309125322724\n",
        "#length5: 0.5075405871112838\n",
        "#10:\n",
        "\n",
        "#20:\n"
      ],
      "execution_count": 15,
      "outputs": [
        {
          "output_type": "stream",
          "text": [
            "{1: 0.38263516892041544}\n"
          ],
          "name": "stdout"
        }
      ]
    },
    {
      "cell_type": "markdown",
      "metadata": {
        "id": "zjjEN2Tafhl2"
      },
      "source": [
        "For bulk generation, you can generate a large amount of text to a file and sort out the samples locally on your computer. The next cell will generate a generated text file with a unique timestamp.\n",
        "\n",
        "You can rerun the cells as many times as you want for even more generated texts!"
      ]
    },
    {
      "cell_type": "code",
      "metadata": {
        "id": "Fa6p6arifSL0"
      },
      "source": [
        "gen_file = 'gpt2_gentext_{:%Y%m%d_%H%M%S}.txt'.format(datetime.utcnow())\n",
        "\n",
        "gpt2.generate_to_file(sess,\n",
        "                      destination_path=gen_file,\n",
        "                      length=500,\n",
        "                      temperature=0.7,\n",
        "                      nsamples=100,\n",
        "                      batch_size=20\n",
        "                      )"
      ],
      "execution_count": null,
      "outputs": []
    },
    {
      "cell_type": "code",
      "metadata": {
        "colab": {
          "base_uri": "https://localhost:8080/",
          "height": 34
        },
        "id": "0-LRex8lfv1g",
        "outputId": "3291e3e2-31ce-4c77-d5cc-22ee56f5ff90"
      },
      "source": [
        "# may have to run twice to get file to download\n",
        "files.download(gen_file)"
      ],
      "execution_count": null,
      "outputs": [
        {
          "output_type": "display_data",
          "data": {
            "application/javascript": [
              "\n",
              "    async function download(id, filename, size) {\n",
              "      if (!google.colab.kernel.accessAllowed) {\n",
              "        return;\n",
              "      }\n",
              "      const div = document.createElement('div');\n",
              "      const label = document.createElement('label');\n",
              "      label.textContent = `Downloading \"${filename}\": `;\n",
              "      div.appendChild(label);\n",
              "      const progress = document.createElement('progress');\n",
              "      progress.max = size;\n",
              "      div.appendChild(progress);\n",
              "      document.body.appendChild(div);\n",
              "\n",
              "      const buffers = [];\n",
              "      let downloaded = 0;\n",
              "\n",
              "      const channel = await google.colab.kernel.comms.open(id);\n",
              "      // Send a message to notify the kernel that we're ready.\n",
              "      channel.send({})\n",
              "\n",
              "      for await (const message of channel.messages) {\n",
              "        // Send a message to notify the kernel that we're ready.\n",
              "        channel.send({})\n",
              "        if (message.buffers) {\n",
              "          for (const buffer of message.buffers) {\n",
              "            buffers.push(buffer);\n",
              "            downloaded += buffer.byteLength;\n",
              "            progress.value = downloaded;\n",
              "          }\n",
              "        }\n",
              "      }\n",
              "      const blob = new Blob(buffers, {type: 'application/binary'});\n",
              "      const a = document.createElement('a');\n",
              "      a.href = window.URL.createObjectURL(blob);\n",
              "      a.download = filename;\n",
              "      div.appendChild(a);\n",
              "      a.click();\n",
              "      div.remove();\n",
              "    }\n",
              "  "
            ],
            "text/plain": [
              "<IPython.core.display.Javascript object>"
            ]
          },
          "metadata": {
            "tags": []
          }
        },
        {
          "output_type": "display_data",
          "data": {
            "application/javascript": [
              "download(\"download_f4390c55-4443-4699-9507-6ef494ca62c4\", \"gpt2_gentext_20210309_074142.txt\", 241664)"
            ],
            "text/plain": [
              "<IPython.core.display.Javascript object>"
            ]
          },
          "metadata": {
            "tags": []
          }
        }
      ]
    },
    {
      "cell_type": "markdown",
      "metadata": {
        "id": "QQAN3M6RT7Kj"
      },
      "source": [
        "## Generate Text From The Pretrained Model\n",
        "\n",
        "If you want to generate text from the pretrained model, not a finetuned model, pass `model_name` to `gpt2.load_gpt2()` and `gpt2.generate()`.\n",
        "\n",
        "This is currently the only way to generate text from the 774M or 1558M models with this notebook."
      ]
    },
    {
      "cell_type": "code",
      "metadata": {
        "id": "hsUd_jHgUZnD"
      },
      "source": [
        "model_name = \"774M\"\n",
        "\n",
        "gpt2.download_gpt2(model_name=model_name)"
      ],
      "execution_count": null,
      "outputs": []
    },
    {
      "cell_type": "code",
      "metadata": {
        "id": "BAe4NpKNUj2C"
      },
      "source": [
        "sess = gpt2.start_tf_sess()\n",
        "\n",
        "gpt2.load_gpt2(sess, model_name=model_name)"
      ],
      "execution_count": null,
      "outputs": []
    },
    {
      "cell_type": "code",
      "metadata": {
        "id": "-xInIZKaU104"
      },
      "source": [
        "gpt2.generate(sess,\n",
        "              model_name=model_name,\n",
        "              prefix=\"The secret of life is\",\n",
        "              length=100,\n",
        "              temperature=0.7,\n",
        "              top_p=0.9,\n",
        "              nsamples=5,\n",
        "              batch_size=5\n",
        "              )"
      ],
      "execution_count": null,
      "outputs": []
    },
    {
      "cell_type": "markdown",
      "metadata": {
        "id": "ig-KVgkCDCKD"
      },
      "source": [
        "# Etcetera\n",
        "\n",
        "If the notebook has errors (e.g. GPU Sync Fail), force-kill the Colaboratory virtual machine and restart it with the command below:"
      ]
    },
    {
      "cell_type": "code",
      "metadata": {
        "id": "rIHiVP53FnsX"
      },
      "source": [
        "!kill -9 -1"
      ],
      "execution_count": null,
      "outputs": []
    },
    {
      "cell_type": "markdown",
      "metadata": {
        "id": "wmTXWNUygS5E"
      },
      "source": [
        "# LICENSE\n",
        "\n",
        "MIT License\n",
        "\n",
        "Copyright (c) 2019 Max Woolf\n",
        "\n",
        "Permission is hereby granted, free of charge, to any person obtaining a copy\n",
        "of this software and associated documentation files (the \"Software\"), to deal\n",
        "in the Software without restriction, including without limitation the rights\n",
        "to use, copy, modify, merge, publish, distribute, sublicense, and/or sell\n",
        "copies of the Software, and to permit persons to whom the Software is\n",
        "furnished to do so, subject to the following conditions:\n",
        "\n",
        "The above copyright notice and this permission notice shall be included in all\n",
        "copies or substantial portions of the Software.\n",
        "\n",
        "THE SOFTWARE IS PROVIDED \"AS IS\", WITHOUT WARRANTY OF ANY KIND, EXPRESS OR\n",
        "IMPLIED, INCLUDING BUT NOT LIMITED TO THE WARRANTIES OF MERCHANTABILITY,\n",
        "FITNESS FOR A PARTICULAR PURPOSE AND NONINFRINGEMENT. IN NO EVENT SHALL THE\n",
        "AUTHORS OR COPYRIGHT HOLDERS BE LIABLE FOR ANY CLAIM, DAMAGES OR OTHER\n",
        "LIABILITY, WHETHER IN AN ACTION OF CONTRACT, TORT OR OTHERWISE, ARISING FROM,\n",
        "OUT OF OR IN CONNECTION WITH THE SOFTWARE OR THE USE OR OTHER DEALINGS IN THE\n",
        "SOFTWARE."
      ]
    }
  ]
}