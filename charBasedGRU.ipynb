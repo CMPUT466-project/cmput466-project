{
 "cells": [
  {
   "cell_type": "markdown",
   "metadata": {
    "id": "WGyKZj3bzf9p"
   },
   "source": [
    "### Import TensorFlow and other libraries"
   ]
  },
  {
   "cell_type": "code",
   "execution_count": 1,
   "metadata": {
    "execution": {
     "iopub.execute_input": "2021-04-02T02:27:12.613122Z",
     "iopub.status.busy": "2021-04-02T02:27:12.612422Z",
     "iopub.status.idle": "2021-04-02T02:27:18.383345Z",
     "shell.execute_reply": "2021-04-02T02:27:18.383735Z"
    },
    "id": "yG_n40gFzf9s"
   },
   "outputs": [],
   "source": [
    "import tensorflow as tf\n",
    "from tensorflow.keras.layers.experimental import preprocessing\n",
    "\n",
    "import numpy as np\n",
    "import os\n",
    "import time"
   ]
  },
  {
   "cell_type": "markdown",
   "metadata": {
    "id": "UHjdCjDuSvX_"
   },
   "source": [
    "### Read the data\n",
    "\n",
    "First, look in the text:"
   ]
  },
  {
   "cell_type": "code",
   "execution_count": 2,
   "metadata": {
    "execution": {
     "iopub.execute_input": "2021-04-02T02:27:18.591407Z",
     "iopub.status.busy": "2021-04-02T02:27:18.590441Z",
     "iopub.status.idle": "2021-04-02T02:27:18.594933Z",
     "shell.execute_reply": "2021-04-02T02:27:18.594513Z"
    },
    "id": "aavnuByVymwK"
   },
   "outputs": [
    {
     "name": "stdout",
     "output_type": "stream",
     "text": [
      "Length of text: 6993179 characters\n"
     ]
    }
   ],
   "source": [
    "# Read, then decode for py2 compat.\n",
    "path_to_file = './processed_to_one/all.txt'\n",
    "text = open(path_to_file, 'rb').read().decode(encoding='utf-8')\n",
    "# length of text is the number of characters in it\n",
    "print(f'Length of text: {len(text)} characters')"
   ]
  },
  {
   "cell_type": "code",
   "execution_count": 3,
   "metadata": {
    "execution": {
     "iopub.execute_input": "2021-04-02T02:27:18.598783Z",
     "iopub.status.busy": "2021-04-02T02:27:18.598046Z",
     "iopub.status.idle": "2021-04-02T02:27:18.600385Z",
     "shell.execute_reply": "2021-04-02T02:27:18.600805Z"
    },
    "id": "Duhg9NrUymwO"
   },
   "outputs": [
    {
     "name": "stdout",
     "output_type": "stream",
     "text": [
      "he says that in the world of online gaming such behaviour wasnt that unusual lots of people i knew in the game played eq that muchi think im obsessed with gaming in general i spend far too much time playing games like everquest 2 and football manager\n"
     ]
    }
   ],
   "source": [
    "# Take a look at the first 250 characters in text\n",
    "print(text[:250])"
   ]
  },
  {
   "cell_type": "code",
   "execution_count": 5,
   "metadata": {
    "execution": {
     "iopub.execute_input": "2021-04-02T02:27:18.616026Z",
     "iopub.status.busy": "2021-04-02T02:27:18.615249Z",
     "iopub.status.idle": "2021-04-02T02:27:18.617757Z",
     "shell.execute_reply": "2021-04-02T02:27:18.618174Z"
    },
    "id": "IlCgQBRVymwR"
   },
   "outputs": [
    {
     "name": "stdout",
     "output_type": "stream",
     "text": [
      "39 unique characters\n",
      "['\\n', ' ', '0', '1', '2', '3', '4', '5', '6', '7', '8', '9', 'a', 'b', 'c', 'd', 'e', 'f', 'g', 'h', 'i', 'j', 'k', 'l', 'm', 'n', 'o', 'p', 'q', 'r', 's', 't', 'u', 'v', 'w', 'x', 'y', 'z', '£']\n"
     ]
    }
   ],
   "source": [
    "# The unique characters in the file\n",
    "vocab = sorted(set(text))\n",
    "print(f'{len(vocab)} unique characters')\n",
    "print(vocab)"
   ]
  },
  {
   "cell_type": "markdown",
   "metadata": {
    "id": "rNnrKn_lL-IJ"
   },
   "source": [
    "## Process the text"
   ]
  },
  {
   "cell_type": "markdown",
   "metadata": {
    "id": "LFjSVAlWzf-N"
   },
   "source": [
    "### Vectorize the text\n",
    "\n",
    "Before training, you need to convert the strings to a numerical representation. \n",
    "\n",
    "The `preprocessing.StringLookup` layer can convert each character into a numeric ID. It just needs the text to be split into tokens first."
   ]
  },
  {
   "cell_type": "code",
   "execution_count": 7,
   "metadata": {
    "execution": {
     "iopub.execute_input": "2021-04-02T02:27:19.974215Z",
     "iopub.status.busy": "2021-04-02T02:27:19.973249Z",
     "iopub.status.idle": "2021-04-02T02:27:20.267100Z",
     "shell.execute_reply": "2021-04-02T02:27:20.267536Z"
    },
    "id": "a86OoYtO01go"
   },
   "outputs": [
    {
     "data": {
      "text/plain": [
       "<tf.RaggedTensor [[b'a', b'b', b'c', b'd', b'e', b'f', b'g'], [b'x', b'y', b'z']]>"
      ]
     },
     "execution_count": 1,
     "metadata": {},
     "output_type": "execute_result"
    }
   ],
   "source": [
    "example_texts = ['abcdefg', 'xyz']\n",
    "\n",
    "chars = tf.strings.unicode_split(example_texts, input_encoding='UTF-8')\n",
    "chars"
   ]
  },
  {
   "cell_type": "markdown",
   "metadata": {
    "id": "1s4f1q3iqY8f"
   },
   "source": [
    "Now create the `preprocessing.StringLookup` layer:"
   ]
  },
  {
   "cell_type": "code",
   "execution_count": 8,
   "metadata": {
    "execution": {
     "iopub.execute_input": "2021-04-02T02:27:20.276987Z",
     "iopub.status.busy": "2021-04-02T02:27:20.271458Z",
     "iopub.status.idle": "2021-04-02T02:27:20.292130Z",
     "shell.execute_reply": "2021-04-02T02:27:20.291656Z"
    },
    "id": "6GMlCe3qzaL9"
   },
   "outputs": [],
   "source": [
    "ids_from_chars = preprocessing.StringLookup(\n",
    "    vocabulary=list(vocab))"
   ]
  },
  {
   "cell_type": "markdown",
   "metadata": {
    "id": "ZmX_jbgQqfOi"
   },
   "source": [
    "It converts form tokens to character IDs, padding with `0`:"
   ]
  },
  {
   "cell_type": "code",
   "execution_count": 9,
   "metadata": {
    "execution": {
     "iopub.execute_input": "2021-04-02T02:27:20.299053Z",
     "iopub.status.busy": "2021-04-02T02:27:20.298149Z",
     "iopub.status.idle": "2021-04-02T02:27:20.302830Z",
     "shell.execute_reply": "2021-04-02T02:27:20.302369Z"
    },
    "id": "WLv5Q_2TC2pc"
   },
   "outputs": [
    {
     "data": {
      "text/plain": [
       "<tf.RaggedTensor [[41, 42, 43, 44, 45, 46, 47], [64, 65, 66]]>"
      ]
     },
     "execution_count": 1,
     "metadata": {},
     "output_type": "execute_result"
    }
   ],
   "source": [
    "ids = ids_from_chars(chars)\n",
    "ids"
   ]
  },
  {
   "cell_type": "markdown",
   "metadata": {
    "id": "tZfqhkYCymwX"
   },
   "source": [
    "Since the goal of this tutorial is to generate text, it will also be important to invert this representation and recover human-readable strings from it. For this you can use `preprocessing.StringLookup(..., invert=True)`.  "
   ]
  },
  {
   "cell_type": "markdown",
   "metadata": {
    "id": "uenivzwqsDhp"
   },
   "source": [
    "Note: Here instead of passing the original vocabulary generated with `sorted(set(text))` use the `get_vocabulary()` method of the `preprocessing.StringLookup` layer so that the padding and `[UNK]` tokens are set the same way."
   ]
  },
  {
   "cell_type": "code",
   "execution_count": 10,
   "metadata": {
    "execution": {
     "iopub.execute_input": "2021-04-02T02:27:20.310123Z",
     "iopub.status.busy": "2021-04-02T02:27:20.306622Z",
     "iopub.status.idle": "2021-04-02T02:27:20.313385Z",
     "shell.execute_reply": "2021-04-02T02:27:20.312918Z"
    },
    "id": "Wd2m3mqkDjRj"
   },
   "outputs": [],
   "source": [
    "chars_from_ids = tf.keras.layers.experimental.preprocessing.StringLookup(\n",
    "    vocabulary=ids_from_chars.get_vocabulary(), invert=True)"
   ]
  },
  {
   "cell_type": "markdown",
   "metadata": {
    "id": "pqTDDxS-s-H8"
   },
   "source": [
    "This layer recovers the characters from the vectors of IDs, and returns them as a `tf.RaggedTensor` of characters:"
   ]
  },
  {
   "cell_type": "code",
   "execution_count": 11,
   "metadata": {
    "execution": {
     "iopub.execute_input": "2021-04-02T02:27:20.317734Z",
     "iopub.status.busy": "2021-04-02T02:27:20.317157Z",
     "iopub.status.idle": "2021-04-02T02:27:20.320178Z",
     "shell.execute_reply": "2021-04-02T02:27:20.320560Z"
    },
    "id": "c2GCh0ySD44s"
   },
   "outputs": [
    {
     "data": {
      "text/plain": [
       "<tf.RaggedTensor [[b'a', b'b', b'c', b'd', b'e', b'f', b'g'], [b'x', b'y', b'z']]>"
      ]
     },
     "execution_count": 1,
     "metadata": {},
     "output_type": "execute_result"
    }
   ],
   "source": [
    "chars = chars_from_ids(ids)\n",
    "chars"
   ]
  },
  {
   "cell_type": "markdown",
   "metadata": {
    "id": "-FeW5gqutT3o"
   },
   "source": [
    "You can `tf.strings.reduce_join` to join the characters back into strings. "
   ]
  },
  {
   "cell_type": "code",
   "execution_count": 12,
   "metadata": {
    "execution": {
     "iopub.execute_input": "2021-04-02T02:27:20.324733Z",
     "iopub.status.busy": "2021-04-02T02:27:20.324123Z",
     "iopub.status.idle": "2021-04-02T02:27:20.335227Z",
     "shell.execute_reply": "2021-04-02T02:27:20.335586Z"
    },
    "id": "zxYI-PeltqKP"
   },
   "outputs": [
    {
     "data": {
      "text/plain": [
       "array([b'abcdefg', b'xyz'], dtype=object)"
      ]
     },
     "execution_count": 1,
     "metadata": {},
     "output_type": "execute_result"
    }
   ],
   "source": [
    "tf.strings.reduce_join(chars, axis=-1).numpy()"
   ]
  },
  {
   "cell_type": "code",
   "execution_count": 13,
   "metadata": {
    "execution": {
     "iopub.execute_input": "2021-04-02T02:27:20.339582Z",
     "iopub.status.busy": "2021-04-02T02:27:20.338935Z",
     "iopub.status.idle": "2021-04-02T02:27:20.341330Z",
     "shell.execute_reply": "2021-04-02T02:27:20.340835Z"
    },
    "id": "w5apvBDn9Ind"
   },
   "outputs": [],
   "source": [
    "def text_from_ids(ids):\n",
    "  return tf.strings.reduce_join(chars_from_ids(ids), axis=-1)"
   ]
  },
  {
   "cell_type": "markdown",
   "metadata": {
    "id": "bbmsf23Bymwe"
   },
   "source": [
    "### The prediction task"
   ]
  },
  {
   "cell_type": "markdown",
   "metadata": {
    "id": "wssHQ1oGymwe"
   },
   "source": [
    "Given a character, or a sequence of characters, what is the most probable next character? This is the task you're training the model to perform. The input to the model will be a sequence of characters, and you train the model to predict the output—the following character at each time step.\n",
    "\n",
    "Since RNNs maintain an internal state that depends on the previously seen elements, given all the characters computed until this moment, what is the next character?\n"
   ]
  },
  {
   "cell_type": "markdown",
   "metadata": {
    "id": "hgsVvVxnymwf"
   },
   "source": [
    "### Create training examples and targets\n",
    "\n",
    "Next divide the text into example sequences. Each input sequence will contain `seq_length` characters from the text.\n",
    "\n",
    "For each input sequence, the corresponding targets contain the same length of text, except shifted one character to the right.\n",
    "\n",
    "So break the text into chunks of `seq_length+1`. For example, say `seq_length` is 4 and our text is \"Hello\". The input sequence would be \"Hell\", and the target sequence \"ello\".\n",
    "\n",
    "To do this first use the `tf.data.Dataset.from_tensor_slices` function to convert the text vector into a stream of character indices."
   ]
  },
  {
   "cell_type": "code",
   "execution_count": 14,
   "metadata": {
    "execution": {
     "iopub.execute_input": "2021-04-02T02:27:20.347946Z",
     "iopub.status.busy": "2021-04-02T02:27:20.347349Z",
     "iopub.status.idle": "2021-04-02T02:27:20.832468Z",
     "shell.execute_reply": "2021-04-02T02:27:20.831994Z"
    },
    "id": "UopbsKi88tm5"
   },
   "outputs": [
    {
     "data": {
      "text/plain": [
       "<tf.Tensor: shape=(1115394,), dtype=int64, numpy=array([20, 49, 58, ..., 47, 10,  2])>"
      ]
     },
     "execution_count": 1,
     "metadata": {},
     "output_type": "execute_result"
    }
   ],
   "source": [
    "all_ids = ids_from_chars(tf.strings.unicode_split(text, 'UTF-8'))\n",
    "all_ids"
   ]
  },
  {
   "cell_type": "code",
   "execution_count": 15,
   "metadata": {
    "execution": {
     "iopub.execute_input": "2021-04-02T02:27:20.836688Z",
     "iopub.status.busy": "2021-04-02T02:27:20.836066Z",
     "iopub.status.idle": "2021-04-02T02:27:20.838388Z",
     "shell.execute_reply": "2021-04-02T02:27:20.837848Z"
    },
    "id": "qmxrYDCTy-eL"
   },
   "outputs": [],
   "source": [
    "ids_dataset = tf.data.Dataset.from_tensor_slices(all_ids)"
   ]
  },
  {
   "cell_type": "code",
   "execution_count": 16,
   "metadata": {
    "execution": {
     "iopub.execute_input": "2021-04-02T02:27:20.842261Z",
     "iopub.status.busy": "2021-04-02T02:27:20.841599Z",
     "iopub.status.idle": "2021-04-02T02:27:20.855541Z",
     "shell.execute_reply": "2021-04-02T02:27:20.855044Z"
    },
    "id": "cjH5v45-yqqH"
   },
   "outputs": [
    {
     "name": "stdout",
     "output_type": "stream",
     "text": [
      "F\n",
      "i\n",
      "r\n",
      "s\n",
      "t\n",
      " \n",
      "C\n",
      "i\n",
      "t\n",
      "i\n"
     ]
    }
   ],
   "source": [
    "for ids in ids_dataset.take(10):\n",
    "    print(chars_from_ids(ids).numpy().decode('utf-8'))"
   ]
  },
  {
   "cell_type": "code",
   "execution_count": 17,
   "metadata": {
    "execution": {
     "iopub.execute_input": "2021-04-02T02:27:20.859173Z",
     "iopub.status.busy": "2021-04-02T02:27:20.858575Z",
     "iopub.status.idle": "2021-04-02T02:27:20.860917Z",
     "shell.execute_reply": "2021-04-02T02:27:20.860324Z"
    },
    "id": "C-G2oaTxy6km"
   },
   "outputs": [],
   "source": [
    "seq_length = 100\n",
    "examples_per_epoch = len(text)//(seq_length+1)"
   ]
  },
  {
   "cell_type": "markdown",
   "metadata": {
    "id": "-ZSYAcQV8OGP"
   },
   "source": [
    "The `batch` method lets you easily convert these individual characters to sequences of the desired size."
   ]
  },
  {
   "cell_type": "code",
   "execution_count": 18,
   "metadata": {
    "execution": {
     "iopub.execute_input": "2021-04-02T02:27:20.865138Z",
     "iopub.status.busy": "2021-04-02T02:27:20.864518Z",
     "iopub.status.idle": "2021-04-02T02:27:20.873411Z",
     "shell.execute_reply": "2021-04-02T02:27:20.873751Z"
    },
    "id": "BpdjRO2CzOfZ"
   },
   "outputs": [
    {
     "name": "stdout",
     "output_type": "stream",
     "text": [
      "tf.Tensor(\n",
      "[b'F' b'i' b'r' b's' b't' b' ' b'C' b'i' b't' b'i' b'z' b'e' b'n' b':'\n",
      " b'\\n' b'B' b'e' b'f' b'o' b'r' b'e' b' ' b'w' b'e' b' ' b'p' b'r' b'o'\n",
      " b'c' b'e' b'e' b'd' b' ' b'a' b'n' b'y' b' ' b'f' b'u' b'r' b't' b'h'\n",
      " b'e' b'r' b',' b' ' b'h' b'e' b'a' b'r' b' ' b'm' b'e' b' ' b's' b'p'\n",
      " b'e' b'a' b'k' b'.' b'\\n' b'\\n' b'A' b'l' b'l' b':' b'\\n' b'S' b'p' b'e'\n",
      " b'a' b'k' b',' b' ' b's' b'p' b'e' b'a' b'k' b'.' b'\\n' b'\\n' b'F' b'i'\n",
      " b'r' b's' b't' b' ' b'C' b'i' b't' b'i' b'z' b'e' b'n' b':' b'\\n' b'Y'\n",
      " b'o' b'u' b' '], shape=(101,), dtype=string)\n"
     ]
    }
   ],
   "source": [
    "sequences = ids_dataset.batch(seq_length+1, drop_remainder=True)\n",
    "\n",
    "for seq in sequences.take(1):\n",
    "  print(chars_from_ids(seq))"
   ]
  },
  {
   "cell_type": "markdown",
   "metadata": {
    "id": "5PHW902-4oZt"
   },
   "source": [
    "It's easier to see what this is doing if you join the tokens back into strings:"
   ]
  },
  {
   "cell_type": "code",
   "execution_count": 19,
   "metadata": {
    "execution": {
     "iopub.execute_input": "2021-04-02T02:27:20.878236Z",
     "iopub.status.busy": "2021-04-02T02:27:20.877108Z",
     "iopub.status.idle": "2021-04-02T02:27:20.887813Z",
     "shell.execute_reply": "2021-04-02T02:27:20.887411Z"
    },
    "id": "QO32cMWu4a06"
   },
   "outputs": [
    {
     "name": "stdout",
     "output_type": "stream",
     "text": [
      "b'First Citizen:\\nBefore we proceed any further, hear me speak.\\n\\nAll:\\nSpeak, speak.\\n\\nFirst Citizen:\\nYou '\n",
      "b'are all resolved rather to die than to famish?\\n\\nAll:\\nResolved. resolved.\\n\\nFirst Citizen:\\nFirst, you k'\n",
      "b\"now Caius Marcius is chief enemy to the people.\\n\\nAll:\\nWe know't, we know't.\\n\\nFirst Citizen:\\nLet us ki\"\n",
      "b\"ll him, and we'll have corn at our own price.\\nIs't a verdict?\\n\\nAll:\\nNo more talking on't; let it be d\"\n",
      "b'one: away, away!\\n\\nSecond Citizen:\\nOne word, good citizens.\\n\\nFirst Citizen:\\nWe are accounted poor citi'\n"
     ]
    }
   ],
   "source": [
    "for seq in sequences.take(5):\n",
    "  print(text_from_ids(seq).numpy())"
   ]
  },
  {
   "cell_type": "markdown",
   "metadata": {
    "id": "UbLcIPBj_mWZ"
   },
   "source": [
    "For training you'll need a dataset of `(input, label)` pairs. Where `input` and \n",
    "`label` are sequences. At each time step the input is the current character and the label is the next character. \n",
    "\n",
    "Here's a function that takes a sequence as input, duplicates, and shifts it to align the input and label for each timestep:"
   ]
  },
  {
   "cell_type": "code",
   "execution_count": 20,
   "metadata": {
    "execution": {
     "iopub.execute_input": "2021-04-02T02:27:20.891902Z",
     "iopub.status.busy": "2021-04-02T02:27:20.891242Z",
     "iopub.status.idle": "2021-04-02T02:27:20.893652Z",
     "shell.execute_reply": "2021-04-02T02:27:20.893234Z"
    },
    "id": "9NGu-FkO_kYU"
   },
   "outputs": [],
   "source": [
    "def split_input_target(sequence):\n",
    "    input_text = sequence[:-1]\n",
    "    target_text = sequence[1:]\n",
    "    return input_text, target_text"
   ]
  },
  {
   "cell_type": "code",
   "execution_count": 21,
   "metadata": {
    "execution": {
     "iopub.execute_input": "2021-04-02T02:27:20.897944Z",
     "iopub.status.busy": "2021-04-02T02:27:20.897176Z",
     "iopub.status.idle": "2021-04-02T02:27:20.900407Z",
     "shell.execute_reply": "2021-04-02T02:27:20.899858Z"
    },
    "id": "WxbDTJTw5u_P"
   },
   "outputs": [
    {
     "data": {
      "text/plain": [
       "(['T', 'e', 'n', 's', 'o', 'r', 'f', 'l', 'o'],\n",
       " ['e', 'n', 's', 'o', 'r', 'f', 'l', 'o', 'w'])"
      ]
     },
     "execution_count": 1,
     "metadata": {},
     "output_type": "execute_result"
    }
   ],
   "source": [
    "split_input_target(list(\"Tensorflow\"))"
   ]
  },
  {
   "cell_type": "code",
   "execution_count": 22,
   "metadata": {
    "execution": {
     "iopub.execute_input": "2021-04-02T02:27:20.930226Z",
     "iopub.status.busy": "2021-04-02T02:27:20.924863Z",
     "iopub.status.idle": "2021-04-02T02:27:20.952845Z",
     "shell.execute_reply": "2021-04-02T02:27:20.952352Z"
    },
    "id": "B9iKPXkw5xwa"
   },
   "outputs": [],
   "source": [
    "dataset = sequences.map(split_input_target)"
   ]
  },
  {
   "cell_type": "code",
   "execution_count": 23,
   "metadata": {
    "execution": {
     "iopub.execute_input": "2021-04-02T02:27:20.958074Z",
     "iopub.status.busy": "2021-04-02T02:27:20.956878Z",
     "iopub.status.idle": "2021-04-02T02:27:20.976426Z",
     "shell.execute_reply": "2021-04-02T02:27:20.975955Z"
    },
    "id": "GNbw-iR0ymwj"
   },
   "outputs": [
    {
     "name": "stdout",
     "output_type": "stream",
     "text": [
      "Input : b'First Citizen:\\nBefore we proceed any further, hear me speak.\\n\\nAll:\\nSpeak, speak.\\n\\nFirst Citizen:\\nYou'\n",
      "Target: b'irst Citizen:\\nBefore we proceed any further, hear me speak.\\n\\nAll:\\nSpeak, speak.\\n\\nFirst Citizen:\\nYou '\n"
     ]
    }
   ],
   "source": [
    "for input_example, target_example in dataset.take(1):\n",
    "    print(\"Input :\", text_from_ids(input_example).numpy())\n",
    "    print(\"Target:\", text_from_ids(target_example).numpy())"
   ]
  },
  {
   "cell_type": "markdown",
   "metadata": {
    "id": "MJdfPmdqzf-R"
   },
   "source": [
    "### Create training batches\n",
    "\n",
    "You used `tf.data` to split the text into manageable sequences. But before feeding this data into the model, you need to shuffle the data and pack it into batches."
   ]
  },
  {
   "cell_type": "code",
   "execution_count": 24,
   "metadata": {
    "execution": {
     "iopub.execute_input": "2021-04-02T02:27:20.980925Z",
     "iopub.status.busy": "2021-04-02T02:27:20.980305Z",
     "iopub.status.idle": "2021-04-02T02:27:20.985497Z",
     "shell.execute_reply": "2021-04-02T02:27:20.985863Z"
    },
    "id": "p2pGotuNzf-S"
   },
   "outputs": [
    {
     "data": {
      "text/plain": [
       "<PrefetchDataset shapes: ((64, 100), (64, 100)), types: (tf.int64, tf.int64)>"
      ]
     },
     "execution_count": 1,
     "metadata": {},
     "output_type": "execute_result"
    }
   ],
   "source": [
    "# Batch size\n",
    "BATCH_SIZE = 64\n",
    "\n",
    "# Buffer size to shuffle the dataset\n",
    "# (TF data is designed to work with possibly infinite sequences,\n",
    "# so it doesn't attempt to shuffle the entire sequence in memory. Instead,\n",
    "# it maintains a buffer in which it shuffles elements).\n",
    "BUFFER_SIZE = 10000\n",
    "\n",
    "dataset = (\n",
    "    dataset\n",
    "    .shuffle(BUFFER_SIZE)\n",
    "    .batch(BATCH_SIZE, drop_remainder=True)\n",
    "    .prefetch(tf.data.experimental.AUTOTUNE))\n",
    "\n",
    "dataset"
   ]
  },
  {
   "cell_type": "markdown",
   "metadata": {
    "id": "r6oUuElIMgVx"
   },
   "source": [
    "## Build The Model"
   ]
  },
  {
   "cell_type": "markdown",
   "metadata": {
    "id": "m8gPwEjRzf-Z"
   },
   "source": [
    "This section defines the model as a `keras.Model` subclass (For details see [Making new Layers and Models via subclassing](https://www.tensorflow.org/guide/keras/custom_layers_and_models)). \n",
    "\n",
    "This model has three layers:\n",
    "\n",
    "* `tf.keras.layers.Embedding`: The input layer. A trainable lookup table that will map each character-ID to a vector with `embedding_dim` dimensions;\n",
    "* `tf.keras.layers.GRU`: A type of RNN with size `units=rnn_units` (You can also use an LSTM layer here.)\n",
    "* `tf.keras.layers.Dense`: The output layer, with `vocab_size` outputs. It outputs one logit for each character in the vocabulary. These are the log-likelihood of each character according to the model."
   ]
  },
  {
   "cell_type": "code",
   "execution_count": 25,
   "metadata": {
    "execution": {
     "iopub.execute_input": "2021-04-02T02:27:20.990106Z",
     "iopub.status.busy": "2021-04-02T02:27:20.989455Z",
     "iopub.status.idle": "2021-04-02T02:27:20.991652Z",
     "shell.execute_reply": "2021-04-02T02:27:20.992028Z"
    },
    "id": "zHT8cLh7EAsg"
   },
   "outputs": [],
   "source": [
    "# Length of the vocabulary in chars\n",
    "vocab_size = len(vocab)\n",
    "\n",
    "# The embedding dimension\n",
    "embedding_dim = 256\n",
    "\n",
    "# Number of RNN units\n",
    "rnn_units = 1024"
   ]
  },
  {
   "cell_type": "code",
   "execution_count": 26,
   "metadata": {
    "execution": {
     "iopub.execute_input": "2021-04-02T02:27:20.998674Z",
     "iopub.status.busy": "2021-04-02T02:27:20.997985Z",
     "iopub.status.idle": "2021-04-02T02:27:21.000658Z",
     "shell.execute_reply": "2021-04-02T02:27:21.000078Z"
    },
    "id": "wj8HQ2w8z4iO"
   },
   "outputs": [],
   "source": [
    "class MyModel(tf.keras.Model):\n",
    "  def __init__(self, vocab_size, embedding_dim, rnn_units):\n",
    "    super().__init__(self)\n",
    "    self.embedding = tf.keras.layers.Embedding(vocab_size, embedding_dim)\n",
    "    self.gru = tf.keras.layers.GRU(rnn_units,\n",
    "                                   return_sequences=True,\n",
    "                                   return_state=True)\n",
    "    self.dense = tf.keras.layers.Dense(vocab_size)\n",
    "\n",
    "  def call(self, inputs, states=None, return_state=False, training=False):\n",
    "    x = inputs\n",
    "    x = self.embedding(x, training=training)\n",
    "    if states is None:\n",
    "      states = self.gru.get_initial_state(x)\n",
    "    x, states = self.gru(x, initial_state=states, training=training)\n",
    "    x = self.dense(x, training=training)\n",
    "\n",
    "    if return_state:\n",
    "      return x, states\n",
    "    else:\n",
    "      return x"
   ]
  },
  {
   "cell_type": "code",
   "execution_count": 27,
   "metadata": {
    "execution": {
     "iopub.execute_input": "2021-04-02T02:27:21.005813Z",
     "iopub.status.busy": "2021-04-02T02:27:21.003880Z",
     "iopub.status.idle": "2021-04-02T02:27:21.030636Z",
     "shell.execute_reply": "2021-04-02T02:27:21.031005Z"
    },
    "id": "IX58Xj9z47Aw"
   },
   "outputs": [],
   "source": [
    "model = MyModel(\n",
    "    # Be sure the vocabulary size matches the `StringLookup` layers.\n",
    "    vocab_size=len(ids_from_chars.get_vocabulary()),\n",
    "    embedding_dim=embedding_dim,\n",
    "    rnn_units=rnn_units)"
   ]
  },
  {
   "cell_type": "markdown",
   "metadata": {
    "id": "RkA5upJIJ7W7"
   },
   "source": [
    "For each character the model looks up the embedding, runs the GRU one timestep with the embedding as input, and applies the dense layer to generate logits predicting the log-likelihood of the next character:\n",
    "\n",
    "![A drawing of the data passing through the model](images/text_generation_training.png)"
   ]
  },
  {
   "cell_type": "markdown",
   "metadata": {
    "id": "gKbfm04amhXk"
   },
   "source": [
    "Note: For training you could use a `keras.Sequential` model here. To  generate text later you'll need to manage the RNN's internal state. It's simpler to include the state input and output options upfront, than it is to rearrange the model architecture later. For more details see the [Keras RNN guide](https://www.tensorflow.org/guide/keras/rnn#rnn_state_reuse)."
   ]
  },
  {
   "cell_type": "markdown",
   "metadata": {
    "id": "-ubPo0_9Prjb"
   },
   "source": [
    "## Try the model\n",
    "\n",
    "Now run the model to see that it behaves as expected.\n",
    "\n",
    "First check the shape of the output:"
   ]
  },
  {
   "cell_type": "code",
   "execution_count": 28,
   "metadata": {
    "execution": {
     "iopub.execute_input": "2021-04-02T02:27:21.035855Z",
     "iopub.status.busy": "2021-04-02T02:27:21.035252Z",
     "iopub.status.idle": "2021-04-02T02:27:24.455167Z",
     "shell.execute_reply": "2021-04-02T02:27:24.455556Z"
    },
    "id": "C-_70kKAPrPU"
   },
   "outputs": [
    {
     "name": "stdout",
     "output_type": "stream",
     "text": [
      "(64, 100, 67) # (batch_size, sequence_length, vocab_size)\n"
     ]
    }
   ],
   "source": [
    "for input_example_batch, target_example_batch in dataset.take(1):\n",
    "    example_batch_predictions = model(input_example_batch)\n",
    "    print(example_batch_predictions.shape, \"# (batch_size, sequence_length, vocab_size)\")"
   ]
  },
  {
   "cell_type": "markdown",
   "metadata": {
    "id": "Q6NzLBi4VM4o"
   },
   "source": [
    "In the above example the sequence length of the input is `100` but the model can be run on inputs of any length:"
   ]
  },
  {
   "cell_type": "code",
   "execution_count": 29,
   "metadata": {
    "execution": {
     "iopub.execute_input": "2021-04-02T02:27:24.460318Z",
     "iopub.status.busy": "2021-04-02T02:27:24.459611Z",
     "iopub.status.idle": "2021-04-02T02:27:24.463014Z",
     "shell.execute_reply": "2021-04-02T02:27:24.463385Z"
    },
    "id": "vPGmAAXmVLGC"
   },
   "outputs": [
    {
     "name": "stdout",
     "output_type": "stream",
     "text": [
      "Model: \"my_model\"\n",
      "_________________________________________________________________\n",
      "Layer (type)                 Output Shape              Param #   \n",
      "=================================================================\n",
      "embedding (Embedding)        multiple                  17152     \n",
      "_________________________________________________________________\n",
      "gru (GRU)                    multiple                  3938304   \n",
      "_________________________________________________________________\n",
      "dense (Dense)                multiple                  68675     \n",
      "=================================================================\n",
      "Total params: 4,024,131\n",
      "Trainable params: 4,024,131\n",
      "Non-trainable params: 0\n",
      "_________________________________________________________________\n"
     ]
    }
   ],
   "source": [
    "model.summary()"
   ]
  },
  {
   "cell_type": "markdown",
   "metadata": {
    "id": "uwv0gEkURfx1"
   },
   "source": [
    "To get actual predictions from the model you need to sample from the output distribution, to get actual character indices. This distribution is defined by the logits over the character vocabulary.\n",
    "\n",
    "Note: It is important to _sample_ from this distribution as taking the _argmax_ of the distribution can easily get the model stuck in a loop.\n",
    "\n",
    "Try it for the first example in the batch:"
   ]
  },
  {
   "cell_type": "code",
   "execution_count": 30,
   "metadata": {
    "execution": {
     "iopub.execute_input": "2021-04-02T02:27:24.467443Z",
     "iopub.status.busy": "2021-04-02T02:27:24.466842Z",
     "iopub.status.idle": "2021-04-02T02:27:24.469926Z",
     "shell.execute_reply": "2021-04-02T02:27:24.469493Z"
    },
    "id": "4V4MfFg0RQJg"
   },
   "outputs": [],
   "source": [
    "sampled_indices = tf.random.categorical(example_batch_predictions[0], num_samples=1)\n",
    "sampled_indices = tf.squeeze(sampled_indices, axis=-1).numpy()"
   ]
  },
  {
   "cell_type": "markdown",
   "metadata": {
    "id": "QM1Vbxs_URw5"
   },
   "source": [
    "This gives us, at each timestep, a prediction of the next character index:"
   ]
  },
  {
   "cell_type": "code",
   "execution_count": 31,
   "metadata": {
    "execution": {
     "iopub.execute_input": "2021-04-02T02:27:24.474156Z",
     "iopub.status.busy": "2021-04-02T02:27:24.473531Z",
     "iopub.status.idle": "2021-04-02T02:27:24.475774Z",
     "shell.execute_reply": "2021-04-02T02:27:24.476161Z"
    },
    "id": "YqFMUQc_UFgM"
   },
   "outputs": [
    {
     "data": {
      "text/plain": [
       "array([41, 34,  7, 28, 21, 45, 11, 14, 59,  8, 15, 11,  6, 33, 44, 33,  8,\n",
       "       40,  5, 39, 32, 22, 37, 14, 53,  0, 48, 22, 23, 46, 44, 58, 39, 41,\n",
       "       47,  7,  6, 62, 48,  9,  2, 27, 58, 17, 26, 17,  6, 16, 36, 28, 36,\n",
       "        8,  3, 23, 19, 57, 50, 51, 59, 27,  6, 12, 39,  9, 23, 29, 37, 30,\n",
       "       62, 51, 63, 35, 45, 52, 18,  7, 58, 17, 53, 41, 28, 37, 10, 64, 55,\n",
       "       49, 61, 45, 57, 56, 21,  0,  0,  7, 48, 27, 51, 12,  1, 49])"
      ]
     },
     "execution_count": 1,
     "metadata": {},
     "output_type": "execute_result"
    }
   ],
   "source": [
    "sampled_indices"
   ]
  },
  {
   "cell_type": "markdown",
   "metadata": {
    "id": "LfLtsP3mUhCG"
   },
   "source": [
    "Decode these to see the text predicted by this untrained model:"
   ]
  },
  {
   "cell_type": "code",
   "execution_count": 32,
   "metadata": {
    "execution": {
     "iopub.execute_input": "2021-04-02T02:27:24.480001Z",
     "iopub.status.busy": "2021-04-02T02:27:24.479453Z",
     "iopub.status.idle": "2021-04-02T02:27:24.485315Z",
     "shell.execute_reply": "2021-04-02T02:27:24.484858Z"
    },
    "id": "xWcFwPwLSo05"
   },
   "outputs": [
    {
     "name": "stdout",
     "output_type": "stream",
     "text": [
      "Input:\n",
      " b'seeming man!\\nOr ill-beseeming beast in seeming both!\\nThou hast amazed me: by my holy order,\\nI though'\n",
      "\n",
      "Next Char Predictions:\n",
      " b\"aT'NGe3?s,A3&SdS,Z$YRHW?mhHIfdrYag'&vh-\\nMrCLC&BVNV, IEqjksM&:Y-IOWPvkwUelD'rCmaNW.xoiueqpG'hMk:[UNK]i\"\n"
     ]
    }
   ],
   "source": [
    "print(\"Input:\\n\", text_from_ids(input_example_batch[0]).numpy())\n",
    "print()\n",
    "print(\"Next Char Predictions:\\n\", text_from_ids(sampled_indices).numpy())"
   ]
  },
  {
   "cell_type": "markdown",
   "metadata": {
    "id": "LJL0Q0YPY6Ee"
   },
   "source": [
    "## Train the model"
   ]
  },
  {
   "cell_type": "markdown",
   "metadata": {
    "id": "YCbHQHiaa4Ic"
   },
   "source": [
    "At this point the problem can be treated as a standard classification problem. Given the previous RNN state, and the input this time step, predict the class of the next character."
   ]
  },
  {
   "cell_type": "markdown",
   "metadata": {
    "id": "trpqTWyvk0nr"
   },
   "source": [
    "### Attach an optimizer, and a loss function"
   ]
  },
  {
   "cell_type": "markdown",
   "metadata": {
    "id": "UAjbjY03eiQ4"
   },
   "source": [
    "The standard `tf.keras.losses.sparse_categorical_crossentropy` loss function works in this case because it is applied across the last dimension of the predictions.\n",
    "\n",
    "Because your model returns logits, you need to set the `from_logits` flag.\n"
   ]
  },
  {
   "cell_type": "code",
   "execution_count": 33,
   "metadata": {
    "execution": {
     "iopub.execute_input": "2021-04-02T02:27:24.489503Z",
     "iopub.status.busy": "2021-04-02T02:27:24.488891Z",
     "iopub.status.idle": "2021-04-02T02:27:24.490682Z",
     "shell.execute_reply": "2021-04-02T02:27:24.491041Z"
    },
    "id": "ZOeWdgxNFDXq"
   },
   "outputs": [],
   "source": [
    "loss = tf.losses.SparseCategoricalCrossentropy(from_logits=True)"
   ]
  },
  {
   "cell_type": "code",
   "execution_count": 34,
   "metadata": {
    "execution": {
     "iopub.execute_input": "2021-04-02T02:27:24.495864Z",
     "iopub.status.busy": "2021-04-02T02:27:24.495271Z",
     "iopub.status.idle": "2021-04-02T02:27:24.501002Z",
     "shell.execute_reply": "2021-04-02T02:27:24.501384Z"
    },
    "id": "4HrXTACTdzY-"
   },
   "outputs": [
    {
     "name": "stdout",
     "output_type": "stream",
     "text": [
      "Prediction shape:  (64, 100, 67)  # (batch_size, sequence_length, vocab_size)\n",
      "Mean loss:         4.20401\n"
     ]
    }
   ],
   "source": [
    "example_batch_loss = loss(target_example_batch, example_batch_predictions)\n",
    "mean_loss = example_batch_loss.numpy().mean()\n",
    "print(\"Prediction shape: \", example_batch_predictions.shape, \" # (batch_size, sequence_length, vocab_size)\")\n",
    "print(\"Mean loss:        \", mean_loss)"
   ]
  },
  {
   "cell_type": "markdown",
   "metadata": {
    "id": "vkvUIneTFiow"
   },
   "source": [
    "A newly initialized model shouldn't be too sure of itself, the output logits should all have similar magnitudes. To confirm this you can check that the exponential of the mean loss is approximately equal to the vocabulary size. A much higher loss means the model is sure of its wrong answers, and is badly initialized:"
   ]
  },
  {
   "cell_type": "code",
   "execution_count": 35,
   "metadata": {
    "execution": {
     "iopub.execute_input": "2021-04-02T02:27:24.505044Z",
     "iopub.status.busy": "2021-04-02T02:27:24.504453Z",
     "iopub.status.idle": "2021-04-02T02:27:24.507502Z",
     "shell.execute_reply": "2021-04-02T02:27:24.507839Z"
    },
    "id": "MAJfS5YoFiHf"
   },
   "outputs": [
    {
     "data": {
      "text/plain": [
       "66.954285"
      ]
     },
     "execution_count": 1,
     "metadata": {},
     "output_type": "execute_result"
    }
   ],
   "source": [
    "tf.exp(mean_loss).numpy()"
   ]
  },
  {
   "cell_type": "markdown",
   "metadata": {
    "id": "jeOXriLcymww"
   },
   "source": [
    "Configure the training procedure using the `tf.keras.Model.compile` method. Use `tf.keras.optimizers.Adam` with default arguments and the loss function."
   ]
  },
  {
   "cell_type": "code",
   "execution_count": 36,
   "metadata": {
    "execution": {
     "iopub.execute_input": "2021-04-02T02:27:24.520221Z",
     "iopub.status.busy": "2021-04-02T02:27:24.519625Z",
     "iopub.status.idle": "2021-04-02T02:27:24.528257Z",
     "shell.execute_reply": "2021-04-02T02:27:24.527758Z"
    },
    "id": "DDl1_Een6rL0"
   },
   "outputs": [],
   "source": [
    "model.compile(optimizer='adam', loss=loss)"
   ]
  },
  {
   "cell_type": "markdown",
   "metadata": {
    "id": "ieSJdchZggUj"
   },
   "source": [
    "### Configure checkpoints"
   ]
  },
  {
   "cell_type": "markdown",
   "metadata": {
    "id": "C6XBUUavgF56"
   },
   "source": [
    "Use a `tf.keras.callbacks.ModelCheckpoint` to ensure that checkpoints are saved during training:"
   ]
  },
  {
   "cell_type": "code",
   "execution_count": 37,
   "metadata": {
    "execution": {
     "iopub.execute_input": "2021-04-02T02:27:24.532684Z",
     "iopub.status.busy": "2021-04-02T02:27:24.531989Z",
     "iopub.status.idle": "2021-04-02T02:27:24.533874Z",
     "shell.execute_reply": "2021-04-02T02:27:24.534249Z"
    },
    "id": "W6fWTriUZP-n"
   },
   "outputs": [],
   "source": [
    "# Directory where the checkpoints will be saved\n",
    "checkpoint_dir = './training_checkpoints'\n",
    "# Name of the checkpoint files\n",
    "checkpoint_prefix = os.path.join(checkpoint_dir, \"ckpt_{epoch}\")\n",
    "\n",
    "checkpoint_callback = tf.keras.callbacks.ModelCheckpoint(\n",
    "    filepath=checkpoint_prefix,\n",
    "    save_weights_only=True)"
   ]
  },
  {
   "cell_type": "markdown",
   "metadata": {
    "id": "3Ky3F_BhgkTW"
   },
   "source": [
    "### Execute the training"
   ]
  },
  {
   "cell_type": "markdown",
   "metadata": {
    "id": "IxdOA-rgyGvs"
   },
   "source": [
    "To keep training time reasonable, use 10 epochs to train the model. In Colab, set the runtime to GPU for faster training."
   ]
  },
  {
   "cell_type": "code",
   "execution_count": 38,
   "metadata": {
    "execution": {
     "iopub.execute_input": "2021-04-02T02:27:24.537982Z",
     "iopub.status.busy": "2021-04-02T02:27:24.537372Z",
     "iopub.status.idle": "2021-04-02T02:27:24.539563Z",
     "shell.execute_reply": "2021-04-02T02:27:24.539023Z"
    },
    "id": "7yGBE2zxMMHs"
   },
   "outputs": [],
   "source": [
    "EPOCHS = 20"
   ]
  },
  {
   "cell_type": "code",
   "execution_count": 39,
   "metadata": {
    "execution": {
     "iopub.execute_input": "2021-04-02T02:27:24.543151Z",
     "iopub.status.busy": "2021-04-02T02:27:24.542569Z",
     "iopub.status.idle": "2021-04-02T02:29:15.826263Z",
     "shell.execute_reply": "2021-04-02T02:29:15.825671Z"
    },
    "id": "UK-hmKjYVoll"
   },
   "outputs": [
    {
     "name": "stdout",
     "output_type": "stream",
     "text": [
      "Epoch 1/20\n",
      "172/172 [==============================] - 7s 26ms/step - loss: 3.2441\n",
      "Epoch 2/20\n",
      "172/172 [==============================] - 6s 26ms/step - loss: 2.0601\n",
      "Epoch 3/20\n",
      "172/172 [==============================] - 5s 26ms/step - loss: 1.7388\n",
      "Epoch 4/20\n",
      "172/172 [==============================] - 5s 26ms/step - loss: 1.5589\n",
      "Epoch 5/20\n",
      "172/172 [==============================] - 5s 26ms/step - loss: 1.4484\n",
      "Epoch 6/20\n",
      "172/172 [==============================] - 5s 26ms/step - loss: 1.3771\n",
      "Epoch 7/20\n",
      "172/172 [==============================] - 5s 26ms/step - loss: 1.3199\n",
      "Epoch 8/20\n",
      "172/172 [==============================] - 5s 26ms/step - loss: 1.2721\n",
      "Epoch 9/20\n",
      "172/172 [==============================] - 5s 26ms/step - loss: 1.2302\n",
      "Epoch 10/20\n",
      "172/172 [==============================] - 5s 26ms/step - loss: 1.1853\n",
      "Epoch 11/20\n",
      "172/172 [==============================] - 5s 26ms/step - loss: 1.1447\n",
      "Epoch 12/20\n",
      "172/172 [==============================] - 5s 26ms/step - loss: 1.0984\n",
      "Epoch 13/20\n",
      "172/172 [==============================] - 5s 26ms/step - loss: 1.0547\n",
      "Epoch 14/20\n",
      "172/172 [==============================] - 5s 26ms/step - loss: 1.0081\n",
      "Epoch 15/20\n",
      "172/172 [==============================] - 5s 26ms/step - loss: 0.9530\n",
      "Epoch 16/20\n",
      "172/172 [==============================] - 5s 26ms/step - loss: 0.9024\n",
      "Epoch 17/20\n",
      "172/172 [==============================] - 6s 26ms/step - loss: 0.8471\n",
      "Epoch 18/20\n",
      "172/172 [==============================] - 5s 26ms/step - loss: 0.7954\n",
      "Epoch 19/20\n",
      "172/172 [==============================] - 6s 26ms/step - loss: 0.7426\n",
      "Epoch 20/20\n",
      "172/172 [==============================] - 6s 26ms/step - loss: 0.6958\n"
     ]
    }
   ],
   "source": [
    "history = model.fit(dataset, epochs=EPOCHS, callbacks=[checkpoint_callback])"
   ]
  },
  {
   "cell_type": "markdown",
   "metadata": {
    "id": "kKkD5M6eoSiN"
   },
   "source": [
    "## Generate text"
   ]
  },
  {
   "cell_type": "markdown",
   "metadata": {
    "id": "oIdQ8c8NvMzV"
   },
   "source": [
    "The simplest way to generate text with this model is to run it in a loop, and keep track of the model's internal state as you execute it.\n",
    "\n",
    "![To generate text the model's output is fed back to the input](images/text_generation_sampling.png)\n",
    "\n",
    "Each time you call the model you pass in some text and an internal state. The model returns a prediction for the next character and its new state. Pass the prediction and state back in to continue generating text.\n"
   ]
  },
  {
   "cell_type": "markdown",
   "metadata": {
    "id": "DjGz1tDkzf-u"
   },
   "source": [
    "The following makes a single step prediction:"
   ]
  },
  {
   "cell_type": "code",
   "execution_count": 40,
   "metadata": {
    "execution": {
     "iopub.execute_input": "2021-04-02T02:29:15.836368Z",
     "iopub.status.busy": "2021-04-02T02:29:15.835733Z",
     "iopub.status.idle": "2021-04-02T02:29:15.837584Z",
     "shell.execute_reply": "2021-04-02T02:29:15.837950Z"
    },
    "id": "iSBU1tHmlUSs"
   },
   "outputs": [],
   "source": [
    "class OneStep(tf.keras.Model):\n",
    "  def __init__(self, model, chars_from_ids, ids_from_chars, temperature=1.0):\n",
    "    super().__init__()\n",
    "    self.temperature = temperature\n",
    "    self.model = model\n",
    "    self.chars_from_ids = chars_from_ids\n",
    "    self.ids_from_chars = ids_from_chars\n",
    "\n",
    "    # Create a mask to prevent \"\" or \"[UNK]\" from being generated.\n",
    "    skip_ids = self.ids_from_chars(['', '[UNK]'])[:, None]\n",
    "    sparse_mask = tf.SparseTensor(\n",
    "        # Put a -inf at each bad index.\n",
    "        values=[-float('inf')]*len(skip_ids),\n",
    "        indices=skip_ids,\n",
    "        # Match the shape to the vocabulary\n",
    "        dense_shape=[len(ids_from_chars.get_vocabulary())])\n",
    "    self.prediction_mask = tf.sparse.to_dense(sparse_mask)\n",
    "\n",
    "  @tf.function\n",
    "  def generate_one_step(self, inputs, states=None):\n",
    "    # Convert strings to token IDs.\n",
    "    input_chars = tf.strings.unicode_split(inputs, 'UTF-8')\n",
    "    input_ids = self.ids_from_chars(input_chars).to_tensor()\n",
    "\n",
    "    # Run the model.\n",
    "    # predicted_logits.shape is [batch, char, next_char_logits]\n",
    "    predicted_logits, states = self.model(inputs=input_ids, states=states,\n",
    "                                          return_state=True)\n",
    "    # Only use the last prediction.\n",
    "    predicted_logits = predicted_logits[:, -1, :]\n",
    "    predicted_logits = predicted_logits/self.temperature\n",
    "    # Apply the prediction mask: prevent \"\" or \"[UNK]\" from being generated.\n",
    "    predicted_logits = predicted_logits + self.prediction_mask\n",
    "\n",
    "    # Sample the output logits to generate token IDs.\n",
    "    predicted_ids = tf.random.categorical(predicted_logits, num_samples=1)\n",
    "    predicted_ids = tf.squeeze(predicted_ids, axis=-1)\n",
    "\n",
    "    # Convert from token ids to characters\n",
    "    predicted_chars = self.chars_from_ids(predicted_ids)\n",
    "\n",
    "    # Return the characters and model state.\n",
    "    return predicted_chars, states"
   ]
  },
  {
   "cell_type": "code",
   "execution_count": 41,
   "metadata": {
    "execution": {
     "iopub.execute_input": "2021-04-02T02:29:15.843405Z",
     "iopub.status.busy": "2021-04-02T02:29:15.842773Z",
     "iopub.status.idle": "2021-04-02T02:29:15.852620Z",
     "shell.execute_reply": "2021-04-02T02:29:15.853070Z"
    },
    "id": "fqMOuDutnOxK"
   },
   "outputs": [],
   "source": [
    "one_step_model = OneStep(model, chars_from_ids, ids_from_chars)"
   ]
  },
  {
   "cell_type": "markdown",
   "metadata": {
    "id": "p9yDoa0G3IgQ"
   },
   "source": [
    "Run it in a loop to generate some text. Looking at the generated text, you'll see the model knows when to capitalize, make paragraphs and imitates a Shakespeare-like writing vocabulary. With the small number of training epochs, it has not yet learned to form coherent sentences."
   ]
  },
  {
   "cell_type": "code",
   "execution_count": 42,
   "metadata": {
    "execution": {
     "iopub.execute_input": "2021-04-02T02:29:15.877741Z",
     "iopub.status.busy": "2021-04-02T02:29:15.859450Z",
     "iopub.status.idle": "2021-04-02T02:29:18.351388Z",
     "shell.execute_reply": "2021-04-02T02:29:18.350857Z"
    },
    "id": "ST7PSyk9t1mT"
   },
   "outputs": [
    {
     "name": "stdout",
     "output_type": "stream",
     "text": [
      "ROMEO:\n",
      "The poxio's blows, no: bitter and call'd up Angelo.\n",
      "\n",
      "ELBOW:\n",
      "With all my heart the other through what they would were,\n",
      "Or else a knee each parks of rage,\n",
      "To undertake the truth of person will command.\n",
      "Now, by the imjured both yield three vantage.\n",
      "Now, by my state I should accuse me, and I\n",
      "will make a doum with the best on the deed. 'Tis numbed glad\n",
      "I break no other from her death: in arms\n",
      "Between'd their hearts, and fled to sleep no greater than enemy\n",
      "Where I have subjects for your death:\n",
      "Therefore they fall in substitute black,--\n",
      "As I, Jove large and true mine adversaries:\n",
      "Make full obsenve for a quarrel or us,\n",
      "Elves a quarter old. Hold, then farewell.\n",
      "\n",
      "BENVOLIO:\n",
      "In faith, be most agreed, and want that hang'd our guest?\n",
      "\n",
      "KING RICHARD II:\n",
      "Why, Buckingham, be there be with you.\n",
      "\n",
      "LUCIO:\n",
      "'Tis better ord, I follow it.\n",
      "\n",
      "CAMILLO:\n",
      "Swear you, poor soul,\n",
      "O valiant point on eightee out goodness, threatening stock\n",
      "Against black-parting 'love and gainsay the\n",
      "extremest warrior, nays suffer as thy n \n",
      "\n",
      "________________________________________________________________________________\n",
      "\n",
      "Run time: 2.4890763759613037\n"
     ]
    }
   ],
   "source": [
    "start = time.time()\n",
    "states = None\n",
    "next_char = tf.constant(['ROMEO:'])\n",
    "result = [next_char]\n",
    "\n",
    "for n in range(1000):\n",
    "  next_char, states = one_step_model.generate_one_step(next_char, states=states)\n",
    "  result.append(next_char)\n",
    "\n",
    "result = tf.strings.join(result)\n",
    "end = time.time()\n",
    "print(result[0].numpy().decode('utf-8'), '\\n\\n' + '_'*80)\n",
    "print('\\nRun time:', end - start)"
   ]
  },
  {
   "cell_type": "markdown",
   "metadata": {
    "id": "AM2Uma_-yVIq"
   },
   "source": [
    "The easiest thing you can do to improve the results is to train it for longer (try `EPOCHS = 30`).\n",
    "\n",
    "You can also experiment with a different start string, try adding another RNN layer to improve the model's accuracy, or adjust the temperature parameter to generate more or less random predictions."
   ]
  },
  {
   "cell_type": "markdown",
   "metadata": {
    "id": "_OfbI4aULmuj"
   },
   "source": [
    "If you want the model to generate text *faster* the easiest thing you can do is batch the text generation. In the example below the model generates 5 outputs in about the same time it took to generate 1 above. "
   ]
  },
  {
   "cell_type": "code",
   "execution_count": 43,
   "metadata": {
    "execution": {
     "iopub.execute_input": "2021-04-02T02:29:18.358332Z",
     "iopub.status.busy": "2021-04-02T02:29:18.357683Z",
     "iopub.status.idle": "2021-04-02T02:29:20.711740Z",
     "shell.execute_reply": "2021-04-02T02:29:20.712114Z"
    },
    "id": "ZkLu7Y8UCMT7"
   },
   "outputs": [
    {
     "name": "stdout",
     "output_type": "stream",
     "text": [
      "tf.Tensor(\n",
      "[b\"ROMEO:\\nGood even, my lord.\\n\\nGoNZALO:\\nI go. Now now be gold! I mean again.\\n\\nROMEO:\\nI warrant thee, tell me, be sure the duke and all these walls\\nRichard our cadismed; prick it not.\\n\\nBUSHBALYHAM:\\nRomeo, the next way homewible.\\n\\nKING EDWARD IV:\\nWilt thou my son, my master is so, nor dangerous\\nBy help to noble peerish; whom, and 'tis be.\\n\\nPOMPEY:\\nWhy, but a word moreof? what do yet that seek of his prince:\\nMethinks a smell my part there: where are you?\\nFor he is all and make you well.\\n\\nLUCIO:\\n\\nISABELLA:\\nO, weed my banners be so bold to give him o'erwook\\nWhich shows me for himself; but we want them,\\nBut one seven years so cries, and thus with us\\nStill 'tis cartly as't, we will consumed\\nWhile Hereford, and my father and thy gentle senseboly,\\nWhich never lived nor rage debase more bellies 'by;\\nBut I'll Clarence and the lord. How far infirmity!\\nWhat, will you gave her? Phile tyree, grieve now?\\nHere, merry mistracious Warwick's daughter,\\nO wonder is it like to a chair with sadless indeed.\\nYour fresh \"\n",
      " b\"ROMEO:\\nPardon is in my tent these two courses of the king.\\n\\nNORTHUMBERLAND:\\nThere on his well-said i' the world; and brick-sprain'd up\\nThy great Bolingbroke days be ruled by me.\\n\\nLord Mayor:\\nWhat good mad hat the lords of Clarence! Well a wench!\\nShould a lord wader, by Adibe to't.\\n\\nMENENIUS:\\nWell, I beseech you,\\nBy charing home and you my sir were not to know.\\n\\nNurse:\\nYour will should knock you were not weeping\\nTill he hath prosper best of all prace;\\nThe proud issue with her soul flish wounds and realm; in\\na leaden all the very penitence, if the\\npeofle sworn, I'll crave the woroneth of my true dear kinds.\\n\\nKING EDWARD IV:\\nThen love, as it was, but most proofing and smiles,\\n'Think of wine and called by Bland,\\nBut such a year and aguments. I'll to my true opinion!'\\nAnd thinkest serve awhile to humbly brother?\\n\\nKING EDWARD IV:\\nSent thou draw me.\\nThere is no virtue, or that hear that\\nto tell us our more. But Your dun ratis and Duke of Clarence weeds.\\nI will tell you would not proud-heads to stan\"\n",
      " b\"ROMEO:\\nYour reasons are my fairly queen?\\nBetter on that son should fled to seet in heaten;\\nI will prove a sweeter blood in his under well;\\nTo-morrow must I tell the counterfeitns:\\nAgainst the early tide that we will weep,\\nBut raimould by hundry fortune and flowers.\\nSups, I would think up:\\nMy life drowned, untimely brought\\nWhen the abound son of peeresp, nob life,\\nAs is the linent bunky way to sweat: alas!\\nWhy should have I with our hands, now death.\\nHere in your mother?\\n\\nSerdnever:\\nBe it so, for the lurs; whose love I had guest\\nWas mutind ours: sweet Kate to meet it.\\n\\nGLOUCESTER:\\nHarp! mark me.\\nI am about me: our generance take then\\nyou are like to: no man but beasts he did she be\\nEmburatement, look into a hell met,\\nFoe, like an your quit my disposition,\\nAgainst them, fought with you.\\nAh, what say'st thou? Camillo, pace me, repeat:\\nMany guilty clouds and not of Mine; and it\\nAre come another person. My queen's husband and my soveriness\\nTo bring his daughter to my sink in mide of death\\nI'ed so\"\n",
      " b\"ROMEO:\\nNay, if thy wits have all for gravenced, so husband!\\nAh, I by leave, and lugh his pleasures to the fair\\nShould, suck any coward as the sun.\\n\\nAUTOLYCUS:\\nHence!\\n\\nFLORIZEL:\\nShould I.\\nGo to, a bride that he against the deed.\\n\\nHMORE ETWARD IV:\\nWell, Clifford, tell me, how believe hed,\\nAnd bid her fail that he did seem to bed,\\nWho look'd for Rome is next dewivers.\\n\\nANHERIO:\\nIf so, or at a bowling bovel? Menenius!\\n\\nAll:\\nCall that greater say he till then be spent myself:\\nbut I shall go see the lonal bub tybalt from the cause,\\nAnd back'd, as when we should hear me in my cold\\nPost-take of her own sword, you would susprome them,\\nwife, too weak deaf, and the king post to the senate:\\nAcquaint her life, against what shot fares,\\nNot that in the iced for their glift enemies,\\nyet, if I would entreat it folly, my rights are all\\ndearly against Their and all aforements:\\n'Twas more than meant to say\\nthat I am going. Metum's monstrous town;\\nAnd not means yet; so weep; for I intend joy,\\nand when I wand to \"\n",
      " b\"ROMEO:\\nSyop wherein, the Fater, there; and with the land\\nIn soldiers ributances, was so gentleman:\\nher heavens have fallen out with all the world were butcher'd.\\nCome, come, King Edward to his soul of mine.\\n\\nKING RICHARD III:\\nSandly, were there will not be distinguingly.\\n\\nDUKE VINCENTIO:\\nI know with me: in this be steaded in the king.\\n\\nDUCHESS OF YORK:\\nWhat he's with sweat? is it a lawd we stand alone?\\n\\nPedant:\\nHencefactors, traitors! From Ploucester's death.\\nMeantime the hope to growl she were they all,\\nTrue straight from the world and all the ship special sport.\\n\\nBIONDELLO:\\nWhy, hear you, while's a spain were as tubority?\\n\\nBUSHY:\\nDenolaculate, a vessed gunecome a moturer?\\n\\nPETRUCHIO:\\nWhy, I thank your wanton alteration: my manory have\\nlabourer out;\\nEven love, and, suppine, a vessel, ever stood doth limb.\\n\\nLORD ROSS:\\nThe senate and your crothes slow, then in praise.\\n\\nISABELLA:\\nI warrant him, and keep thy name; And now I mean our father's sake.\\n\\nPETRUCHIO:\\nA man hath besied long-'janion's wi\"], shape=(5,), dtype=string) \n",
      "\n",
      "________________________________________________________________________________\n",
      "\n",
      "Run time: 2.3512351512908936\n"
     ]
    }
   ],
   "source": [
    "start = time.time()\n",
    "states = None\n",
    "next_char = tf.constant(['ROMEO:', 'ROMEO:', 'ROMEO:', 'ROMEO:', 'ROMEO:'])\n",
    "result = [next_char]\n",
    "\n",
    "for n in range(1000):\n",
    "  next_char, states = one_step_model.generate_one_step(next_char, states=states)\n",
    "  result.append(next_char)\n",
    "\n",
    "result = tf.strings.join(result)\n",
    "end = time.time()\n",
    "print(result, '\\n\\n' + '_'*80)\n",
    "print('\\nRun time:', end - start)"
   ]
  },
  {
   "cell_type": "markdown",
   "metadata": {
    "id": "UlUQzwu6EXam"
   },
   "source": [
    "## Export the generator\n",
    "\n",
    "This single-step model can easily be [saved and restored](https://www.tensorflow.org/guide/saved_model), allowing you to use it anywhere a `tf.saved_model` is accepted."
   ]
  },
  {
   "cell_type": "code",
   "execution_count": 44,
   "metadata": {
    "execution": {
     "iopub.execute_input": "2021-04-02T02:29:20.717187Z",
     "iopub.status.busy": "2021-04-02T02:29:20.716455Z",
     "iopub.status.idle": "2021-04-02T02:29:27.363600Z",
     "shell.execute_reply": "2021-04-02T02:29:27.364028Z"
    },
    "id": "3Grk32H_CzsC"
   },
   "outputs": [
    {
     "name": "stdout",
     "output_type": "stream",
     "text": [
      "WARNING:tensorflow:Skipping full serialization of Keras layer <__main__.OneStep object at 0x7f926497ff28>, because it is not built.\n"
     ]
    },
    {
     "name": "stderr",
     "output_type": "stream",
     "text": [
      "WARNING:absl:Found untraced functions such as gru_cell_layer_call_fn, gru_cell_layer_call_and_return_conditional_losses, gru_cell_layer_call_fn, gru_cell_layer_call_and_return_conditional_losses, gru_cell_layer_call_and_return_conditional_losses while saving (showing 5 of 5). These functions will not be directly callable after loading.\n",
      "WARNING:absl:Found untraced functions such as gru_cell_layer_call_fn, gru_cell_layer_call_and_return_conditional_losses, gru_cell_layer_call_fn, gru_cell_layer_call_and_return_conditional_losses, gru_cell_layer_call_and_return_conditional_losses while saving (showing 5 of 5). These functions will not be directly callable after loading.\n"
     ]
    },
    {
     "name": "stdout",
     "output_type": "stream",
     "text": [
      "INFO:tensorflow:Assets written to: one_step/assets\n"
     ]
    },
    {
     "name": "stderr",
     "output_type": "stream",
     "text": [
      "INFO:tensorflow:Assets written to: one_step/assets\n"
     ]
    }
   ],
   "source": [
    "tf.saved_model.save(one_step_model, 'one_step')\n",
    "one_step_reloaded = tf.saved_model.load('one_step')"
   ]
  },
  {
   "cell_type": "code",
   "execution_count": 45,
   "metadata": {
    "execution": {
     "iopub.execute_input": "2021-04-02T02:29:27.370444Z",
     "iopub.status.busy": "2021-04-02T02:29:27.369431Z",
     "iopub.status.idle": "2021-04-02T02:29:27.707325Z",
     "shell.execute_reply": "2021-04-02T02:29:27.706753Z"
    },
    "id": "_Z9bb_wX6Uuu"
   },
   "outputs": [
    {
     "name": "stdout",
     "output_type": "stream",
     "text": [
      "WARNING:tensorflow:5 out of the last 5 calls to <function recreate_function.<locals>.restored_function_body at 0x7f91e02ac730> triggered tf.function retracing. Tracing is expensive and the excessive number of tracings could be due to (1) creating @tf.function repeatedly in a loop, (2) passing tensors with different shapes, (3) passing Python objects instead of tensors. For (1), please define your @tf.function outside of the loop. For (2), @tf.function has experimental_relax_shapes=True option that relaxes argument shapes that can avoid unnecessary retracing. For (3), please refer to https://www.tensorflow.org/guide/function#controlling_retracing and https://www.tensorflow.org/api_docs/python/tf/function for  more details.\n"
     ]
    },
    {
     "name": "stderr",
     "output_type": "stream",
     "text": [
      "WARNING:tensorflow:5 out of the last 5 calls to <function recreate_function.<locals>.restored_function_body at 0x7f91e02ac730> triggered tf.function retracing. Tracing is expensive and the excessive number of tracings could be due to (1) creating @tf.function repeatedly in a loop, (2) passing tensors with different shapes, (3) passing Python objects instead of tensors. For (1), please define your @tf.function outside of the loop. For (2), @tf.function has experimental_relax_shapes=True option that relaxes argument shapes that can avoid unnecessary retracing. For (3), please refer to https://www.tensorflow.org/guide/function#controlling_retracing and https://www.tensorflow.org/api_docs/python/tf/function for  more details.\n"
     ]
    },
    {
     "name": "stdout",
     "output_type": "stream",
     "text": [
      "WARNING:tensorflow:6 out of the last 6 calls to <function recreate_function.<locals>.restored_function_body at 0x7f91e02ac730> triggered tf.function retracing. Tracing is expensive and the excessive number of tracings could be due to (1) creating @tf.function repeatedly in a loop, (2) passing tensors with different shapes, (3) passing Python objects instead of tensors. For (1), please define your @tf.function outside of the loop. For (2), @tf.function has experimental_relax_shapes=True option that relaxes argument shapes that can avoid unnecessary retracing. For (3), please refer to https://www.tensorflow.org/guide/function#controlling_retracing and https://www.tensorflow.org/api_docs/python/tf/function for  more details.\n"
     ]
    },
    {
     "name": "stderr",
     "output_type": "stream",
     "text": [
      "WARNING:tensorflow:6 out of the last 6 calls to <function recreate_function.<locals>.restored_function_body at 0x7f91e02ac730> triggered tf.function retracing. Tracing is expensive and the excessive number of tracings could be due to (1) creating @tf.function repeatedly in a loop, (2) passing tensors with different shapes, (3) passing Python objects instead of tensors. For (1), please define your @tf.function outside of the loop. For (2), @tf.function has experimental_relax_shapes=True option that relaxes argument shapes that can avoid unnecessary retracing. For (3), please refer to https://www.tensorflow.org/guide/function#controlling_retracing and https://www.tensorflow.org/api_docs/python/tf/function for  more details.\n"
     ]
    },
    {
     "name": "stdout",
     "output_type": "stream",
     "text": [
      "ROMEO:\n",
      "\n",
      "HERMIONE:\n",
      "Why, what man? and say you will.\n",
      "\n",
      "WARWICK:\n",
      "It will be safer than thee, and next be debt:\n"
     ]
    }
   ],
   "source": [
    "states = None\n",
    "next_char = tf.constant(['ROMEO:'])\n",
    "result = [next_char]\n",
    "\n",
    "for n in range(100):\n",
    "  next_char, states = one_step_reloaded.generate_one_step(next_char, states=states)\n",
    "  result.append(next_char)\n",
    "\n",
    "print(tf.strings.join(result)[0].numpy().decode(\"utf-8\"))"
   ]
  },
  {
   "cell_type": "markdown",
   "metadata": {
    "id": "Y4QwTjAM6A2O"
   },
   "source": [
    "## Advanced: Customized Training\n",
    "\n",
    "The above training procedure is simple, but does not give you much control.\n",
    "It uses teacher-forcing which prevents bad predictions from being fed back to the model, so the model never learns to recover from mistakes.\n",
    "\n",
    "So now that you've seen how to run the model manually next you'll implement the training loop. This gives a starting point if, for example, you want to implement _curriculum  learning_ to help stabilize the model's open-loop output.\n",
    "\n",
    "The most important part of a custom training loop is the train step function.\n",
    "\n",
    "Use `tf.GradientTape` to track the gradients. You can learn more about this approach by reading the [eager execution guide](https://www.tensorflow.org/guide/eager).\n",
    "\n",
    "The basic procedure is:\n",
    "\n",
    "1. Execute the model and calculate the loss under a `tf.GradientTape`.\n",
    "2. Calculate the updates and apply them to the model using the optimizer."
   ]
  },
  {
   "cell_type": "code",
   "execution_count": 46,
   "metadata": {
    "execution": {
     "iopub.execute_input": "2021-04-02T02:29:27.712920Z",
     "iopub.status.busy": "2021-04-02T02:29:27.712329Z",
     "iopub.status.idle": "2021-04-02T02:29:27.714885Z",
     "shell.execute_reply": "2021-04-02T02:29:27.714387Z"
    },
    "id": "x0pZ101hjwW0"
   },
   "outputs": [],
   "source": [
    "class CustomTraining(MyModel):\n",
    "  @tf.function\n",
    "  def train_step(self, inputs):\n",
    "      inputs, labels = inputs\n",
    "      with tf.GradientTape() as tape:\n",
    "          predictions = self(inputs, training=True)\n",
    "          loss = self.loss(labels, predictions)\n",
    "      grads = tape.gradient(loss, model.trainable_variables)\n",
    "      self.optimizer.apply_gradients(zip(grads, model.trainable_variables))\n",
    "\n",
    "      return {'loss': loss}"
   ]
  },
  {
   "cell_type": "markdown",
   "metadata": {
    "id": "4Oc-eJALcK8B"
   },
   "source": [
    "The above implementation of the `train_step` method follows [Keras' `train_step` conventions](https://www.tensorflow.org/guide/keras/customizing_what_happens_in_fit). This is optional, but it allows you to change the behavior of the train step and still use keras' `Model.compile` and `Model.fit` methods."
   ]
  },
  {
   "cell_type": "code",
   "execution_count": 47,
   "metadata": {
    "execution": {
     "iopub.execute_input": "2021-04-02T02:29:27.719090Z",
     "iopub.status.busy": "2021-04-02T02:29:27.718465Z",
     "iopub.status.idle": "2021-04-02T02:29:27.728272Z",
     "shell.execute_reply": "2021-04-02T02:29:27.728660Z"
    },
    "id": "XKyWiZ_Lj7w5"
   },
   "outputs": [],
   "source": [
    "model = CustomTraining(\n",
    "    vocab_size=len(ids_from_chars.get_vocabulary()),\n",
    "    embedding_dim=embedding_dim,\n",
    "    rnn_units=rnn_units)"
   ]
  },
  {
   "cell_type": "code",
   "execution_count": 48,
   "metadata": {
    "execution": {
     "iopub.execute_input": "2021-04-02T02:29:27.737434Z",
     "iopub.status.busy": "2021-04-02T02:29:27.736850Z",
     "iopub.status.idle": "2021-04-02T02:29:27.739927Z",
     "shell.execute_reply": "2021-04-02T02:29:27.739500Z"
    },
    "id": "U817KUm7knlm"
   },
   "outputs": [],
   "source": [
    "model.compile(optimizer = tf.keras.optimizers.Adam(),\n",
    "              loss=tf.keras.losses.SparseCategoricalCrossentropy(from_logits=True))"
   ]
  },
  {
   "cell_type": "code",
   "execution_count": 49,
   "metadata": {
    "execution": {
     "iopub.execute_input": "2021-04-02T02:29:27.743709Z",
     "iopub.status.busy": "2021-04-02T02:29:27.743116Z",
     "iopub.status.idle": "2021-04-02T02:29:44.239107Z",
     "shell.execute_reply": "2021-04-02T02:29:44.238580Z"
    },
    "id": "o694aoBPnEi9"
   },
   "outputs": [
    {
     "name": "stdout",
     "output_type": "stream",
     "text": [
      "172/172 [==============================] - 16s 81ms/step - loss: 2.7281\n"
     ]
    },
    {
     "data": {
      "text/plain": [
       "<tensorflow.python.keras.callbacks.History at 0x7f918c6fb400>"
      ]
     },
     "execution_count": 1,
     "metadata": {},
     "output_type": "execute_result"
    }
   ],
   "source": [
    "model.fit(dataset, epochs=1)"
   ]
  },
  {
   "cell_type": "markdown",
   "metadata": {
    "id": "W8nAtKHVoInR"
   },
   "source": [
    "Or if you need more control, you can write your own complete custom training loop:"
   ]
  },
  {
   "cell_type": "code",
   "execution_count": 50,
   "metadata": {
    "execution": {
     "iopub.execute_input": "2021-04-02T02:29:44.249993Z",
     "iopub.status.busy": "2021-04-02T02:29:44.249432Z",
     "iopub.status.idle": "2021-04-02T02:32:14.334209Z",
     "shell.execute_reply": "2021-04-02T02:32:14.333598Z"
    },
    "id": "d4tSNwymzf-q"
   },
   "outputs": [
    {
     "name": "stdout",
     "output_type": "stream",
     "text": [
      "Epoch 1 Batch 0 Loss 2.1604\n",
      "Epoch 1 Batch 50 Loss 2.0819\n",
      "Epoch 1 Batch 100 Loss 2.0088\n",
      "Epoch 1 Batch 150 Loss 1.9042\n",
      "\n",
      "Epoch 1 Loss: 2.0039\n",
      "Time taken for 1 epoch 15.29 sec\n",
      "________________________________________________________________________________\n",
      "Epoch 2 Batch 0 Loss 1.8115\n",
      "Epoch 2 Batch 50 Loss 1.7712\n",
      "Epoch 2 Batch 100 Loss 1.6842\n",
      "Epoch 2 Batch 150 Loss 1.6678\n",
      "\n",
      "Epoch 2 Loss: 1.7288\n",
      "Time taken for 1 epoch 14.73 sec\n",
      "________________________________________________________________________________\n",
      "Epoch 3 Batch 0 Loss 1.5976\n",
      "Epoch 3 Batch 50 Loss 1.6310\n",
      "Epoch 3 Batch 100 Loss 1.5008\n",
      "Epoch 3 Batch 150 Loss 1.5508\n",
      "\n",
      "Epoch 3 Loss: 1.5654\n",
      "Time taken for 1 epoch 14.79 sec\n",
      "________________________________________________________________________________\n",
      "Epoch 4 Batch 0 Loss 1.5221\n",
      "Epoch 4 Batch 50 Loss 1.4466\n",
      "Epoch 4 Batch 100 Loss 1.4530\n",
      "Epoch 4 Batch 150 Loss 1.4677\n",
      "\n",
      "Epoch 4 Loss: 1.4635\n",
      "Time taken for 1 epoch 14.78 sec\n",
      "________________________________________________________________________________\n",
      "Epoch 5 Batch 0 Loss 1.4302\n",
      "Epoch 5 Batch 50 Loss 1.4034\n",
      "Epoch 5 Batch 100 Loss 1.4557\n",
      "Epoch 5 Batch 150 Loss 1.4137\n",
      "\n",
      "Epoch 5 Loss: 1.3943\n",
      "Time taken for 1 epoch 15.19 sec\n",
      "________________________________________________________________________________\n",
      "Epoch 6 Batch 0 Loss 1.3380\n",
      "Epoch 6 Batch 50 Loss 1.3404\n",
      "Epoch 6 Batch 100 Loss 1.3174\n",
      "Epoch 6 Batch 150 Loss 1.3430\n",
      "\n",
      "Epoch 6 Loss: 1.3400\n",
      "Time taken for 1 epoch 15.05 sec\n",
      "________________________________________________________________________________\n",
      "Epoch 7 Batch 0 Loss 1.3027\n",
      "Epoch 7 Batch 50 Loss 1.3185\n",
      "Epoch 7 Batch 100 Loss 1.2899\n",
      "Epoch 7 Batch 150 Loss 1.2744\n",
      "\n",
      "Epoch 7 Loss: 1.2955\n",
      "Time taken for 1 epoch 15.01 sec\n",
      "________________________________________________________________________________\n",
      "Epoch 8 Batch 0 Loss 1.1957\n",
      "Epoch 8 Batch 50 Loss 1.2315\n",
      "Epoch 8 Batch 100 Loss 1.2380\n",
      "Epoch 8 Batch 150 Loss 1.2457\n",
      "\n",
      "Epoch 8 Loss: 1.2549\n",
      "Time taken for 1 epoch 15.05 sec\n",
      "________________________________________________________________________________\n",
      "Epoch 9 Batch 0 Loss 1.2290\n",
      "Epoch 9 Batch 50 Loss 1.2181\n",
      "Epoch 9 Batch 100 Loss 1.1872\n",
      "Epoch 9 Batch 150 Loss 1.2097\n",
      "\n",
      "Epoch 9 Loss: 1.2160\n",
      "Time taken for 1 epoch 14.81 sec\n",
      "________________________________________________________________________________\n",
      "Epoch 10 Batch 0 Loss 1.1551\n",
      "Epoch 10 Batch 50 Loss 1.1808\n",
      "Epoch 10 Batch 100 Loss 1.1605\n",
      "Epoch 10 Batch 150 Loss 1.1976\n",
      "\n",
      "Epoch 10 Loss: 1.1772\n",
      "Time taken for 1 epoch 15.23 sec\n",
      "________________________________________________________________________________\n"
     ]
    }
   ],
   "source": [
    "EPOCHS = 10\n",
    "\n",
    "mean = tf.metrics.Mean()\n",
    "\n",
    "for epoch in range(EPOCHS):\n",
    "    start = time.time()\n",
    "\n",
    "    mean.reset_states()\n",
    "    for (batch_n, (inp, target)) in enumerate(dataset):\n",
    "        logs = model.train_step([inp, target])\n",
    "        mean.update_state(logs['loss'])\n",
    "\n",
    "        if batch_n % 50 == 0:\n",
    "            template = f\"Epoch {epoch+1} Batch {batch_n} Loss {logs['loss']:.4f}\"\n",
    "            print(template)\n",
    "\n",
    "    # saving (checkpoint) the model every 5 epochs\n",
    "    if (epoch + 1) % 5 == 0:\n",
    "        model.save_weights(checkpoint_prefix.format(epoch=epoch))\n",
    "\n",
    "    print()\n",
    "    print(f'Epoch {epoch+1} Loss: {mean.result().numpy():.4f}')\n",
    "    print(f'Time taken for 1 epoch {time.time() - start:.2f} sec')\n",
    "    print(\"_\"*80)\n",
    "\n",
    "model.save_weights(checkpoint_prefix.format(epoch=epoch))"
   ]
  }
 ],
 "metadata": {
  "accelerator": "GPU",
  "colab": {
   "collapsed_sections": [],
   "name": "text_generation.ipynb",
   "toc_visible": true
  },
  "kernelspec": {
   "display_name": "Python 3",
   "language": "python",
   "name": "python3"
  },
  "language_info": {
   "codemirror_mode": {
    "name": "ipython",
    "version": 3
   },
   "file_extension": ".py",
   "mimetype": "text/x-python",
   "name": "python",
   "nbconvert_exporter": "python",
   "pygments_lexer": "ipython3",
   "version": "3.8.6"
  }
 },
 "nbformat": 4,
 "nbformat_minor": 1
}
