{
  "nbformat": 4,
  "nbformat_minor": 0,
  "metadata": {
    "colab": {
      "name": "“Train a GPT-2 Text-Generating Model w/ GPU”的副本",
      "provenance": [],
      "collapsed_sections": []
    },
    "kernelspec": {
      "name": "python3",
      "display_name": "Python 3"
    },
    "accelerator": "GPU"
  },
  "cells": [
    {
      "cell_type": "markdown",
      "metadata": {
        "id": "H7LoMj4GA4n_"
      },
      "source": [
        "#  Train a GPT-2 Text-Generating Model w/ GPU For Free \n",
        "\n",
        "by [Max Woolf](http://minimaxir.com)\n",
        "\n",
        "*Last updated: February 14th, 2021*\n",
        "\n",
        "Retrain an advanced text generating neural network on any text dataset **for free on a GPU using Collaboratory** using `gpt-2-simple`!\n",
        "\n",
        "For more about `gpt-2-simple`, you can visit [this GitHub repository](https://github.com/minimaxir/gpt-2-simple). You can also read my [blog post](https://minimaxir.com/2019/09/howto-gpt2/) for more information how to use this notebook!\n",
        "\n",
        "\n",
        "To get started:\n",
        "\n",
        "1. Copy this notebook to your Google Drive to keep it and save your changes. (File -> Save a Copy in Drive)\n",
        "2. Make sure you're running the notebook in Google Chrome.\n",
        "3. Run the cells below:\n"
      ]
    },
    {
      "cell_type": "code",
      "metadata": {
        "id": "F68gw_tOgQzx"
      },
      "source": [
        ""
      ],
      "execution_count": null,
      "outputs": []
    },
    {
      "cell_type": "code",
      "metadata": {
        "id": "KBkpRgBCBS2_",
        "colab": {
          "base_uri": "https://localhost:8080/"
        },
        "outputId": "366077ca-0da4-49f6-9e94-9f65de69a21c"
      },
      "source": [
        "%tensorflow_version 1.x\n",
        "!pip install -q gpt-2-simple\n",
        "import gpt_2_simple as gpt2\n",
        "from datetime import datetime\n",
        "from google.colab import files"
      ],
      "execution_count": 1,
      "outputs": [
        {
          "output_type": "stream",
          "text": [
            "TensorFlow 1.x selected.\n",
            "WARNING:tensorflow:\n",
            "The TensorFlow contrib module will not be included in TensorFlow 2.0.\n",
            "For more information, please see:\n",
            "  * https://github.com/tensorflow/community/blob/master/rfcs/20180907-contrib-sunset.md\n",
            "  * https://github.com/tensorflow/addons\n",
            "  * https://github.com/tensorflow/io (for I/O related ops)\n",
            "If you depend on functionality not listed there, please file an issue.\n",
            "\n"
          ],
          "name": "stdout"
        }
      ]
    },
    {
      "cell_type": "markdown",
      "metadata": {
        "id": "Bj2IJLHP3KwE"
      },
      "source": [
        "## GPU\n",
        "\n",
        "Colaboratory uses either a Nvidia T4 GPU or an Nvidia K80 GPU. The T4 is slightly faster than the old K80 for training GPT-2, and has more memory allowing you to train the larger GPT-2 models and generate more text.\n",
        "\n",
        "You can verify which GPU is active by running the cell below."
      ]
    },
    {
      "cell_type": "code",
      "metadata": {
        "id": "sUmTooTW3osf",
        "colab": {
          "base_uri": "https://localhost:8080/"
        },
        "outputId": "6af34abd-5fe5-412a-c5aa-98eff780a15f"
      },
      "source": [
        "!nvidia-smi"
      ],
      "execution_count": 2,
      "outputs": [
        {
          "output_type": "stream",
          "text": [
            "Tue Mar  9 06:55:25 2021       \n",
            "+-----------------------------------------------------------------------------+\n",
            "| NVIDIA-SMI 460.56       Driver Version: 460.32.03    CUDA Version: 11.2     |\n",
            "|-------------------------------+----------------------+----------------------+\n",
            "| GPU  Name        Persistence-M| Bus-Id        Disp.A | Volatile Uncorr. ECC |\n",
            "| Fan  Temp  Perf  Pwr:Usage/Cap|         Memory-Usage | GPU-Util  Compute M. |\n",
            "|                               |                      |               MIG M. |\n",
            "|===============================+======================+======================|\n",
            "|   0  Tesla T4            Off  | 00000000:00:04.0 Off |                    0 |\n",
            "| N/A   72C    P8    11W /  70W |      0MiB / 15109MiB |      0%      Default |\n",
            "|                               |                      |                  N/A |\n",
            "+-------------------------------+----------------------+----------------------+\n",
            "                                                                               \n",
            "+-----------------------------------------------------------------------------+\n",
            "| Processes:                                                                  |\n",
            "|  GPU   GI   CI        PID   Type   Process name                  GPU Memory |\n",
            "|        ID   ID                                                   Usage      |\n",
            "|=============================================================================|\n",
            "|  No running processes found                                                 |\n",
            "+-----------------------------------------------------------------------------+\n"
          ],
          "name": "stdout"
        }
      ]
    },
    {
      "cell_type": "markdown",
      "metadata": {
        "id": "0wXB05bPDYxS"
      },
      "source": [
        "## Downloading GPT-2\n",
        "\n",
        "If you're retraining a model on new text, you need to download the GPT-2 model first. \n",
        "\n",
        "There are three released sizes of GPT-2:\n",
        "\n",
        "* `124M` (default): the \"small\" model, 500MB on disk.\n",
        "* `355M`: the \"medium\" model, 1.5GB on disk.\n",
        "* `774M`: the \"large\" model, cannot currently be finetuned with Colaboratory but can be used to generate text from the pretrained model (see later in Notebook)\n",
        "* `1558M`: the \"extra large\", true model. Will not work if a K80/P4 GPU is attached to the notebook. (like `774M`, it cannot be finetuned).\n",
        "\n",
        "Larger models have more knowledge, but take longer to finetune and longer to generate text. You can specify which base model to use by changing `model_name` in the cells below.\n",
        "\n",
        "The next cell downloads it from Google Cloud Storage and saves it in the Colaboratory VM at `/models/<model_name>`.\n",
        "\n",
        "This model isn't permanently saved in the Colaboratory VM; you'll have to redownload it if you want to retrain it at a later time."
      ]
    },
    {
      "cell_type": "code",
      "metadata": {
        "id": "P8wSlgXoDPCR",
        "colab": {
          "base_uri": "https://localhost:8080/"
        },
        "outputId": "af00c0ed-c16a-4f0d-8e80-4b36caf4be43"
      },
      "source": [
        "gpt2.download_gpt2(model_name=\"124M\")"
      ],
      "execution_count": 3,
      "outputs": [
        {
          "output_type": "stream",
          "text": [
            "Fetching checkpoint: 1.05Mit [00:00, 452Mit/s]                                                      \n",
            "Fetching encoder.json: 1.05Mit [00:00, 4.48Mit/s]\n",
            "Fetching hparams.json: 1.05Mit [00:00, 165Mit/s]                                                    \n",
            "Fetching model.ckpt.data-00000-of-00001: 498Mit [00:13, 36.6Mit/s]                                  \n",
            "Fetching model.ckpt.index: 1.05Mit [00:00, 444Mit/s]                                                \n",
            "Fetching model.ckpt.meta: 1.05Mit [00:00, 5.22Mit/s]\n",
            "Fetching vocab.bpe: 1.05Mit [00:00, 5.11Mit/s]\n"
          ],
          "name": "stderr"
        }
      ]
    },
    {
      "cell_type": "markdown",
      "metadata": {
        "id": "N8KXuKWzQSsN"
      },
      "source": [
        "## Mounting Google Drive\n",
        "\n",
        "The best way to get input text to-be-trained into the Colaboratory VM, and to get the trained model *out* of Colaboratory, is to route it through Google Drive *first*.\n",
        "\n",
        "Running this cell (which will only work in Colaboratory) will mount your personal Google Drive in the VM, which later cells can use to get data in/out. (it will ask for an auth code; that auth is not saved anywhere)"
      ]
    },
    {
      "cell_type": "code",
      "metadata": {
        "id": "puq4iC6vUAHc",
        "colab": {
          "base_uri": "https://localhost:8080/"
        },
        "outputId": "94ff9887-e7f6-41d5-c56e-60ee99887480"
      },
      "source": [
        "gpt2.mount_gdrive()"
      ],
      "execution_count": 4,
      "outputs": [
        {
          "output_type": "stream",
          "text": [
            "Drive already mounted at /content/drive; to attempt to forcibly remount, call drive.mount(\"/content/drive\", force_remount=True).\n"
          ],
          "name": "stdout"
        }
      ]
    },
    {
      "cell_type": "markdown",
      "metadata": {
        "id": "BT__brhBCvJu"
      },
      "source": [
        "## Uploading a Text File to be Trained to Colaboratory\n",
        "\n",
        "In the Colaboratory Notebook sidebar on the left of the screen, select *Files*. From there you can upload files:\n",
        "\n",
        "![alt text](https://i.imgur.com/TGcZT4h.png)\n",
        "\n",
        "Upload **any smaller text file**  (<10 MB) and update the file name in the cell below, then run the cell."
      ]
    },
    {
      "cell_type": "code",
      "metadata": {
        "id": "6OFnPCLADfll"
      },
      "source": [
        "file_name = \"News.txt\""
      ],
      "execution_count": 5,
      "outputs": []
    },
    {
      "cell_type": "markdown",
      "metadata": {
        "id": "HeeSKtNWUedE"
      },
      "source": [
        "If your text file is larger than 10MB, it is recommended to upload that file to Google Drive first, then copy that file from Google Drive to the Colaboratory VM."
      ]
    },
    {
      "cell_type": "code",
      "metadata": {
        "id": "-Z6okFD8VKtS",
        "colab": {
          "base_uri": "https://localhost:8080/",
          "height": 307
        },
        "outputId": "ad0cb63e-3588-49a7-b6c2-82dec47317bb"
      },
      "source": [
        "gpt2.copy_file_from_gdrive(file_name)"
      ],
      "execution_count": 6,
      "outputs": [
        {
          "output_type": "error",
          "ename": "FileNotFoundError",
          "evalue": "ignored",
          "traceback": [
            "\u001b[0;31m---------------------------------------------------------------------------\u001b[0m",
            "\u001b[0;31mFileNotFoundError\u001b[0m                         Traceback (most recent call last)",
            "\u001b[0;32m<ipython-input-6-0103766e8617>\u001b[0m in \u001b[0;36m<module>\u001b[0;34m()\u001b[0m\n\u001b[0;32m----> 1\u001b[0;31m \u001b[0mgpt2\u001b[0m\u001b[0;34m.\u001b[0m\u001b[0mcopy_file_from_gdrive\u001b[0m\u001b[0;34m(\u001b[0m\u001b[0mfile_name\u001b[0m\u001b[0;34m)\u001b[0m\u001b[0;34m\u001b[0m\u001b[0;34m\u001b[0m\u001b[0m\n\u001b[0m",
            "\u001b[0;32m/usr/local/lib/python3.7/dist-packages/gpt_2_simple/gpt_2.py\u001b[0m in \u001b[0;36mcopy_file_from_gdrive\u001b[0;34m(file_path)\u001b[0m\n\u001b[1;32m    616\u001b[0m     \u001b[0mis_mounted\u001b[0m\u001b[0;34m(\u001b[0m\u001b[0;34m)\u001b[0m\u001b[0;34m\u001b[0m\u001b[0;34m\u001b[0m\u001b[0m\n\u001b[1;32m    617\u001b[0m \u001b[0;34m\u001b[0m\u001b[0m\n\u001b[0;32m--> 618\u001b[0;31m     \u001b[0mshutil\u001b[0m\u001b[0;34m.\u001b[0m\u001b[0mcopyfile\u001b[0m\u001b[0;34m(\u001b[0m\u001b[0;34m\"/content/drive/My Drive/\"\u001b[0m \u001b[0;34m+\u001b[0m \u001b[0mfile_path\u001b[0m\u001b[0;34m,\u001b[0m \u001b[0mfile_path\u001b[0m\u001b[0;34m)\u001b[0m\u001b[0;34m\u001b[0m\u001b[0;34m\u001b[0m\u001b[0m\n\u001b[0m\u001b[1;32m    619\u001b[0m \u001b[0;34m\u001b[0m\u001b[0m\n\u001b[1;32m    620\u001b[0m \u001b[0;34m\u001b[0m\u001b[0m\n",
            "\u001b[0;32m/usr/lib/python3.7/shutil.py\u001b[0m in \u001b[0;36mcopyfile\u001b[0;34m(src, dst, follow_symlinks)\u001b[0m\n\u001b[1;32m    118\u001b[0m         \u001b[0mos\u001b[0m\u001b[0;34m.\u001b[0m\u001b[0msymlink\u001b[0m\u001b[0;34m(\u001b[0m\u001b[0mos\u001b[0m\u001b[0;34m.\u001b[0m\u001b[0mreadlink\u001b[0m\u001b[0;34m(\u001b[0m\u001b[0msrc\u001b[0m\u001b[0;34m)\u001b[0m\u001b[0;34m,\u001b[0m \u001b[0mdst\u001b[0m\u001b[0;34m)\u001b[0m\u001b[0;34m\u001b[0m\u001b[0;34m\u001b[0m\u001b[0m\n\u001b[1;32m    119\u001b[0m     \u001b[0;32melse\u001b[0m\u001b[0;34m:\u001b[0m\u001b[0;34m\u001b[0m\u001b[0;34m\u001b[0m\u001b[0m\n\u001b[0;32m--> 120\u001b[0;31m         \u001b[0;32mwith\u001b[0m \u001b[0mopen\u001b[0m\u001b[0;34m(\u001b[0m\u001b[0msrc\u001b[0m\u001b[0;34m,\u001b[0m \u001b[0;34m'rb'\u001b[0m\u001b[0;34m)\u001b[0m \u001b[0;32mas\u001b[0m \u001b[0mfsrc\u001b[0m\u001b[0;34m:\u001b[0m\u001b[0;34m\u001b[0m\u001b[0;34m\u001b[0m\u001b[0m\n\u001b[0m\u001b[1;32m    121\u001b[0m             \u001b[0;32mwith\u001b[0m \u001b[0mopen\u001b[0m\u001b[0;34m(\u001b[0m\u001b[0mdst\u001b[0m\u001b[0;34m,\u001b[0m \u001b[0;34m'wb'\u001b[0m\u001b[0;34m)\u001b[0m \u001b[0;32mas\u001b[0m \u001b[0mfdst\u001b[0m\u001b[0;34m:\u001b[0m\u001b[0;34m\u001b[0m\u001b[0;34m\u001b[0m\u001b[0m\n\u001b[1;32m    122\u001b[0m                 \u001b[0mcopyfileobj\u001b[0m\u001b[0;34m(\u001b[0m\u001b[0mfsrc\u001b[0m\u001b[0;34m,\u001b[0m \u001b[0mfdst\u001b[0m\u001b[0;34m)\u001b[0m\u001b[0;34m\u001b[0m\u001b[0;34m\u001b[0m\u001b[0m\n",
            "\u001b[0;31mFileNotFoundError\u001b[0m: [Errno 2] No such file or directory: '/content/drive/My Drive/News.txt'"
          ]
        }
      ]
    },
    {
      "cell_type": "markdown",
      "metadata": {
        "id": "LdpZQXknFNY3"
      },
      "source": [
        "## Finetune GPT-2\n",
        "\n",
        "The next cell will start the actual finetuning of GPT-2. It creates a persistent TensorFlow session which stores the training config, then runs the training for the specified number of `steps`. (to have the finetuning run indefinitely, set `steps = -1`)\n",
        "\n",
        "The model checkpoints will be saved in `/checkpoint/run1` by default. The checkpoints are saved every 500 steps (can be changed) and when the cell is stopped.\n",
        "\n",
        "The training might time out after 4ish hours; make sure you end training and save the results so you don't lose them!\n",
        "\n",
        "**IMPORTANT NOTE:** If you want to rerun this cell, **restart the VM first** (Runtime -> Restart Runtime). You will need to rerun imports but not recopy files.\n",
        "\n",
        "Other optional-but-helpful parameters for `gpt2.finetune`:\n",
        "\n",
        "\n",
        "*  **`restore_from`**: Set to `fresh` to start training from the base GPT-2, or set to `latest` to restart training from an existing checkpoint.\n",
        "* **`sample_every`**: Number of steps to print example output\n",
        "* **`print_every`**: Number of steps to print training progress.\n",
        "* **`learning_rate`**:  Learning rate for the training. (default `1e-4`, can lower to `1e-5` if you have <1MB input data)\n",
        "*  **`run_name`**: subfolder within `checkpoint` to save the model. This is useful if you want to work with multiple models (will also need to specify  `run_name` when loading the model)\n",
        "* **`overwrite`**: Set to `True` if you want to continue finetuning an existing model (w/ `restore_from='latest'`) without creating duplicate copies. "
      ]
    },
    {
      "cell_type": "code",
      "metadata": {
        "id": "aeXshJM-Cuaf",
        "colab": {
          "base_uri": "https://localhost:8080/"
        },
        "outputId": "5d9f6c58-edbe-46f4-82e8-a15d276755ee"
      },
      "source": [
        "import tensorflow as tf\n",
        "\n",
        "tf.reset_default_graph()\n",
        "sess = gpt2.start_tf_sess()\n",
        "\n",
        "gpt2.finetune(sess,\n",
        "              dataset=file_name,\n",
        "              model_name='124M',\n",
        "              steps=1000,\n",
        "              restore_from='latest',\n",
        "              run_name='run1',\n",
        "              print_every=10,\n",
        "              sample_every=200,\n",
        "              save_every=500\n",
        "              )"
      ],
      "execution_count": 12,
      "outputs": [
        {
          "output_type": "stream",
          "text": [
            "WARNING:tensorflow:From /usr/local/lib/python3.7/dist-packages/gpt_2_simple/src/sample.py:17: where (from tensorflow.python.ops.array_ops) is deprecated and will be removed in a future version.\n",
            "Instructions for updating:\n",
            "Use tf.where in 2.0, which has the same broadcast rule as np.where\n",
            "Loading checkpoint checkpoint/run1/model-1000\n",
            "INFO:tensorflow:Restoring parameters from checkpoint/run1/model-1000\n"
          ],
          "name": "stdout"
        },
        {
          "output_type": "stream",
          "text": [
            "\r  0%|          | 0/1 [00:00<?, ?it/s]"
          ],
          "name": "stderr"
        },
        {
          "output_type": "stream",
          "text": [
            "Loading dataset...\n"
          ],
          "name": "stdout"
        },
        {
          "output_type": "stream",
          "text": [
            "100%|██████████| 1/1 [00:05<00:00,  5.77s/it]\n"
          ],
          "name": "stderr"
        },
        {
          "output_type": "stream",
          "text": [
            "dataset has 1012841 tokens\n",
            "Training...\n",
            "Saving checkpoint/run1/model-1000\n",
            "======== SAMPLE 1 ========\n",
            " life for this particular organisation was achieved by a change in executive board and the changes did come about because of our excellent work with them\n",
            "now it seems that the greek parliament has also voted in our favour\n",
            "there have been several proposals for this particular bill from ministers to have the committees that oversee the bill and the speaker of the greek parliament have decided that they would like to know what we would be proposing to do about it on a first reading in the house of lords\n",
            "on the morrow we have presented our amendment tabled in the commons for the yearend meeting on 26 march\n",
            "there is a sense among the british public that the eu is being rushed ahead in the attempt to bring in eu laws to stop the abuse of peoples rights by those in the eu he told bbc news\n",
            "however i would not do it as an afterthought on bbc radio 4 and radio 2 if the government was determined to have its way with this\n",
            "it is simply not a good idea\n",
            "there has been a lot of talk about the eu going forward and it has moved on a bit since the last attempt to bring it in on 17 march\n",
            "but the government has been unable to come up with a sensible solution to the problems we face\n",
            "the british public are deeply concerned that a bill which was brought in to the house of lords five years ago will now be put forward to the lords again\n",
            "we want assurances that the government will do its utmost to sort out this sensitive issue a key issue for each of our three branches of government the public also wants assurances that it will be going ahead as planned and that the government will listen to all the concerns raised  particularly those relating to the issue of child abuse and women at risk from abuse\n",
            "and there is an urgent need to find out what exactly these powers will be\n",
            "some concern has been expressed by those involved in these inquiries that there may be restrictions on what they can do and cannot do\n",
            "so if we are going to deal with this this is obviously more important than going into the presidency of the eu  we need assurances that the government will take this bill forward\n",
            "however there is considerable confusion about various aspects of the legislation\n",
            "for example it seems that the government wants to avoid unnecessary bureaucratic red tape and do away with the age of consenting first  as is currently the case  even when there is evidence to the contrary\n",
            "the general problem there seems to be is that it is easier to persuade the elderly and those with children to give up their voting rights if they are tricked and take part in deceptive voting rather than having compulsory withdrawal\n",
            "there is also the worry that it might allow illegitimate votes to be cast on people who do not want to be part of the problem at heart\n",
            "for those who have had these experiences it is thought that if they support some changes to the bill they can persuade the house of lords that they would make it easier for them to continue voting\n",
            "but this is not the case because it would introduce a very different problem to that faced by many older people\n",
            "in the bbcs the elderly do not need any financial support because in order to vote they get written withdrawal notices  which they receive within a certain timeframe  which also guarantee they will not be able to vote again\n",
            "in addition there is concern that this means that in some circumstances the laws governing withdrawal cannot be enforced in full because they would be challenged by people who simply want to vote no longer than once a year  something which would be impossible if implemented today\n",
            "there are serious questions hanging over this issue\n",
            "firstly there is the issue of the right of peoples personal and family life to end  not to keep the person in their life at any cost\n",
            "if we are going to do that something needs to be done more generally  whether that must be welfare state programmes or the control arrangements of some sort  we need to begin now to recognise that the eu constitution and the legislation passed by the european parliament are far from perfect\n",
            "but the important point to keep in mind is that unless we can work out a compromise the legislation is not going to get any better\n",
            "\n",
            "the government has decided to spend another three years trying to sort out its controversial new voting rights act\n",
            "the law is likely to see a number of seats targeted for either left or right depending on who is in the house of commons\n",
            "tory leader michael howard announced plans for a number of seats and accused right wing political parties of seeking to undermine the liberal democrats\n",
            "liberal democrat leader charles kennedy said the move was a disaster\n",
            "he estimated the law would cost 10m £525000 in the first year and could take three years to come into force mr howard told bbc radio 4s today programme\n",
            "he was speaking as mr kennedy announced he would not stand for commons despite his new party spluttering down the road mr howard warned rightwing groups they would not be able to use one of their new members as an intermediary\n",
            "meanwhile some of the liberal democrats have suggested they may stick\n",
            "\n",
            "[1010 | 42.53] loss=2.04 avg=2.04\n",
            "[1020 | 65.49] loss=2.01 avg=2.02\n",
            "[1030 | 88.48] loss=2.17 avg=2.07\n",
            "[1040 | 111.71] loss=1.71 avg=1.98\n",
            "[1050 | 134.88] loss=1.32 avg=1.85\n",
            "[1060 | 157.96] loss=2.46 avg=1.95\n",
            "[1070 | 181.00] loss=1.65 avg=1.91\n",
            "[1080 | 204.08] loss=2.17 avg=1.94\n",
            "[1090 | 227.21] loss=1.61 avg=1.90\n",
            "[1100 | 250.35] loss=1.82 avg=1.89\n",
            "[1110 | 273.45] loss=1.77 avg=1.88\n",
            "[1120 | 296.60] loss=1.79 avg=1.87\n",
            "[1130 | 319.73] loss=1.47 avg=1.84\n",
            "[1140 | 342.83] loss=1.84 avg=1.84\n",
            "[1150 | 365.95] loss=1.61 avg=1.83\n",
            "[1160 | 389.06] loss=1.86 avg=1.83\n",
            "[1170 | 412.17] loss=1.32 avg=1.80\n",
            "[1180 | 435.28] loss=2.04 avg=1.81\n",
            "[1190 | 458.39] loss=1.54 avg=1.79\n",
            "[1200 | 481.45] loss=2.28 avg=1.82\n",
            "======== SAMPLE 1 ========\n",
            " last month after a string of problems over the phone networks security and network management systems\n",
            "this year the issue of phone industry trade magazine pmspec began to reflect the growing need to manage all mobile phone calls on the network\n",
            "russian president vladimir putin and telecoms minister adam bach admitted they had a problem\n",
            "it was called the mobile call problem that became the largest challenge to the implementation of the antiphishing measures adopted by the world trade organisation wto in 2004\n",
            "at the same time data protection authorities were entering their third term in policing communications technologies\n",
            "the mobile phone issue was one of many but for the uk initiative dolce cinci cinci just finished its biggest year yet with the creation of a new national mobile network an undertaking welcomed by european telecommunications experts\n",
            "this provides the basis for the evolution of dolce cinci said nicholas bonamici a spokesman for dolce cinci\n",
            "there is a common theme with web security a common drive and method to safeguard websites he said\n",
            "internet security is not about the newest security technologies but about the existing mechanisms that govern them\n",
            "the responsibility to protect peoples data also falls on the users concerned as well as on government agencies that handle these issues a spokesman for the uk telecoms watchdog bn b or the consumer electronics association cea said it needed a solution to protect users so that they could get current with the latest developments in technology\n",
            "it also needed more clarity on the new rights that must be managed in the mobile phone network he said\n",
            "the latest announcement was just one of the problems that has beset the recent implementation of the antiphishing measures adopted by the wto body\n",
            "many uk consumers are not seeing the importance of these issues so they are taking to text asking to speak to a specialist\n",
            "\n",
            "some of the worlds most respected games publishers face a crisis of confidence as they try to get their games out to the web\n",
            "nintendo are the latest to address this problem fuelling fears amongst gamers that the industry is in trouble\n",
            "for many years they have been the only firm offering crossbuy buy and buy while microsoft is now a hot commodity\n",
            "the crisis for their part has been about to spill over into the real world with titles on pcs and consoles coming out that will stay on the ecas shelves for years to come\n",
            "but for many that will mean worrying about the launch of games for the next generation dominated by massively multiplayer online roleplaying games\n",
            "for years the industry has been telling ourselves we have a problem we cant live without and now i believe the opposite is true\n",
            "blizzard are you the people who know what you wish to make and want to sell then its almost as if you yourself want to buy an item for the masses on all other than the ultimate buyer\n",
            "you have been warned\n",
            "for the last 20 years blockbuster media have dominated the video game industry with titles such as halo 2 and countless others that millions have fallen in love with\n",
            "many now claim the industry has lost its moral high ground\n",
            "the critics then take that message to other publishers ignoring the fact that they own a large stake in blockbuster games\n",
            "they then attack gaming publishers for failing to reach these audiences\n",
            "they do this by promoting films that are expensive to make and by selling them on many platforms\n",
            "they may be well aware that some people will find this approach disheartening but many media fans will be outraged at the fact that theyve not already done something to counter this trend the industry is in crisis\n",
            "i myself a diehard hollywood fan and very much an investor said\n",
            "i remember when lolloyd web editor by appointment came out of retirement i knew this was going to be a watershed year he said this industry is in crisis\n",
            "they have set themselves up as the voice for the masses and the message to consumers is there arent enough hollywood movie stars out there to make a buck and you really need to make your own films\n",
            "and not one of those films does anyone really know what hollywood looks like and i have seen enough\n",
            "why dont they just make the best quality you can and not try and recreate what americans do in other countries or in the us\n",
            "it is all part of the glossy glossy marketing campaign that ensures many new titles are not released at all and everyone has a piece of the picture\n",
            "the industry now has to stop telling you what to make of yourself and start telling you what to buy\n",
            "then there has to be a corporate responsibility move too\n",
            "games firms have a responsibility as the sole consumers to ensure that all games are safe\n",
            "no matter what the game you choose to play has always at least a sampling of its graphics and the features to ensure every last detail is\n",
            "also of importance is whether the games are genuinely high quality or just maybe an underrepresentation of quality\n",
            "the result is that nearly a third of all games produced in the last 25 years have all felt flat out the bbc news website has found with thousands testing titles on any aspect of screen size and resolution\n",
            "the test set up in the early 1980s tests claimed\n",
            "\n",
            "[1210 | 513.80] loss=2.00 avg=1.83\n",
            "[1220 | 536.91] loss=1.87 avg=1.83\n",
            "[1230 | 560.04] loss=1.53 avg=1.82\n",
            "[1240 | 583.20] loss=2.11 avg=1.83\n",
            "[1250 | 606.31] loss=2.27 avg=1.85\n",
            "[1260 | 629.42] loss=1.32 avg=1.83\n",
            "interrupted\n",
            "Saving checkpoint/run1/model-1262\n",
            "WARNING:tensorflow:From /tensorflow-1.15.2/python3.7/tensorflow_core/python/training/saver.py:963: remove_checkpoint (from tensorflow.python.training.checkpoint_management) is deprecated and will be removed in a future version.\n",
            "Instructions for updating:\n",
            "Use standard file APIs to delete files with this prefix.\n"
          ],
          "name": "stdout"
        }
      ]
    },
    {
      "cell_type": "markdown",
      "metadata": {
        "id": "IXSuTNERaw6K"
      },
      "source": [
        "After the model is trained, you can copy the checkpoint folder to your own Google Drive.\n",
        "\n",
        "If you want to download it to your personal computer, it's strongly recommended you copy it there first, then download from Google Drive. The checkpoint folder is copied as a `.rar` compressed file; you can download it and uncompress it locally."
      ]
    },
    {
      "cell_type": "code",
      "metadata": {
        "id": "VHdTL8NDbAh3"
      },
      "source": [
        "gpt2.copy_checkpoint_to_gdrive(run_name='run1')"
      ],
      "execution_count": null,
      "outputs": []
    },
    {
      "cell_type": "markdown",
      "metadata": {
        "id": "qQJgV_b4bmzd"
      },
      "source": [
        "You're done! Feel free to go to the **Generate Text From The Trained Model** section to generate text based on your retrained model."
      ]
    },
    {
      "cell_type": "markdown",
      "metadata": {
        "id": "pel-uBULXO2L"
      },
      "source": [
        "## Load a Trained Model Checkpoint\n",
        "\n",
        "Running the next cell will copy the `.rar` checkpoint file from your Google Drive into the Colaboratory VM."
      ]
    },
    {
      "cell_type": "code",
      "metadata": {
        "id": "DCcx5u7sbPTD"
      },
      "source": [
        "gpt2.copy_checkpoint_from_gdrive(run_name='run1')"
      ],
      "execution_count": 7,
      "outputs": []
    },
    {
      "cell_type": "markdown",
      "metadata": {
        "id": "RTa6zf3e_9gV"
      },
      "source": [
        "The next cell will allow you to load the retrained model checkpoint + metadata necessary to generate text.\n",
        "\n",
        "**IMPORTANT NOTE:** If you want to rerun this cell, **restart the VM first** (Runtime -> Restart Runtime). You will need to rerun imports but not recopy files."
      ]
    },
    {
      "cell_type": "code",
      "metadata": {
        "id": "-fxL77nvAMAX",
        "colab": {
          "base_uri": "https://localhost:8080/"
        },
        "outputId": "e1684dad-8b68-4a94-b5b9-c88e3d3adefa"
      },
      "source": [
        "sess = gpt2.start_tf_sess()\n",
        "gpt2.load_gpt2(sess, run_name='run1')"
      ],
      "execution_count": 8,
      "outputs": [
        {
          "output_type": "stream",
          "text": [
            "Loading checkpoint checkpoint/run1/model-1000\n",
            "INFO:tensorflow:Restoring parameters from checkpoint/run1/model-1000\n"
          ],
          "name": "stdout"
        }
      ]
    },
    {
      "cell_type": "markdown",
      "metadata": {
        "id": "ClJwpF_ACONp"
      },
      "source": [
        "## Generate Text From The Trained Model\n",
        "\n",
        "After you've trained the model or loaded a retrained model from checkpoint, you can now generate text. `generate` generates a single text from the loaded model."
      ]
    },
    {
      "cell_type": "code",
      "metadata": {
        "id": "4RNY6RBI9LmL",
        "colab": {
          "base_uri": "https://localhost:8080/"
        },
        "outputId": "6e3b69f3-e5e7-48e5-e276-5e03513aee9b"
      },
      "source": [
        "gpt2.generate(sess, run_name='run1')"
      ],
      "execution_count": 9,
      "outputs": [
        {
          "output_type": "stream",
          "text": [
            "the 100th anniversary of the death of singer jayce johansson will be held on 22 april\n",
            "jawins death came on the anniversary of the first recorded suicide of a japanese musician\n",
            "jayce johansson who died in seibu on saturday was 52\n",
            "she was known as jayce jagger after her debut album in the name jayce jagger\n",
            "other famous japanese stars to attend the 50th anniversary celebration include shogo no shizukis and the british band lead their irate scooters\n",
            "the group  which includes drummer mike green and bassist naruko shimizuoka  formed in 1968 and began playing live in seibu in the autumn of that year\n",
            "when jayce died a week later the anniversary celebrations became a rallying cry for the band\n",
            "shogo no shizukis was a japanese boxcutter that became a symbol of the japanese music industry\n",
            "famous japanese artists who will be remembered at the anniversary include highend haymard onychologists musho shimizuoka jimakoto and tsubasa yakubee\n",
            "other famous japanese bands who will be remembered at the anniversary include the scots chrysler dragons\n",
            "the anniversary celebrations will be led by karaoke singer hanichi kobata who will join other karaoke singers at a birthday party on the south street\n",
            "japan is celebrating its 50th anniversary this week and it has been trying to commemorate by throwing a party that began with a live entertainment show\n",
            "kimotsuya no kimokuni is the name given to a variety of miscellaneous items collected from japanese shops\n",
            "some of the items include a variety of snacks from shops such as sake and kobimochi\n",
            "a japanese magazine published an article on 1 april collecting miscellaneous items as souvenirs\n",
            "the magazine article said that they were not unusual items but wanted to make the event more shinigami than a celebration of japanese music\n",
            "the magazine also said they wanted the event to become a cultural meeting place for different cultural groups\n",
            "the event will be broadcasted on japanese radio stations around the country and the will feature performances by japanese stars such as highend haymard and the farmers who made the kimokutsune\n",
            "the magazine said the item would be presented to the japanese people as a present for generations to come\n",
            "\n",
            "the first lady is to use a billboard to urge people not to buy her new black dress as she looks to become the first black president of the united states\n",
            "bill clinton is to visit a japanese supermarket in kemington to urge shoppers not to buy the black tie\n",
            "he will also visit a church in kemington to protest against police treatment of the poor and immigrant community\n",
            "the first lady will visit a sakhnin supermarket in kemington where she will join several hundred local public sector workers and the public service unions at a rally against the new black tie\n",
            "she will also visit a butcher shop in kemington to protest against the treatment of the saffron in hospitals and on offer at supermarkets\n",
            "the first lady will also visit a barbershop and barber shop in kemington to protest against the treatment of the saffrons in hospitals and on offer at supermarkets\n",
            "the first lady is to visit a jeweller shop in kemington to protest against the treatment of saffron skin in hospitals and on offer at supermarkets\n",
            "the first lady will also visit a restaurant and bar in kemington which will protest against the treatment of saffrons in hospitals and on offer at supermarkets\n",
            "the first lady will also visit a restaurant in kemington to protest against the treatment of saffrons in hospitals and on offer at supermarkets\n",
            "the first lady will visit a barbershop and barber shop in kemington to protest against the treatment of saffrons in hospitals and on offer at supermarkets\n",
            "andrew bennett the first lady who will be visiting kemington on her first day of the trip will also visit a jeweller and a wholesale shop to protest against the treatment of saffrons in hospitals\n",
            "the first lady will also visit a restaurant and bar in kemington to protest against the treatment of saffrons in hospitals and on offer at supermarkets\n",
            "the first lady will also visit a barbershop and barber shop in kemington to protest against the treatment of saffrons in hospitals and on offer at supermarkets\n",
            "andrew bennett the first lady who will be visiting kemington on her first day of the trip will also visit a jeweller and a wholesale shop to protest against the treatment of saffrons in hospitals\n",
            "the first lady will also visit a restaurant and bar in kemington to protest against the treatment of saffrons in hospitals\n",
            "andrew bennett the first lady who will be visiting kemington on her first day of the trip will also visit a jeweller and a wholesale shop to protest against the treatment of saffrons in hospitals\n",
            "\n",
            "\n"
          ],
          "name": "stdout"
        }
      ]
    },
    {
      "cell_type": "markdown",
      "metadata": {
        "id": "oF4-PqF0Fl7R"
      },
      "source": [
        "If you're creating an API based on your model and need to pass the generated text elsewhere, you can do `text = gpt2.generate(sess, return_as_list=True)[0]`\n",
        "\n",
        "You can also pass in a `prefix` to the generate function to force the text to start with a given character sequence and generate text from there (good if you add an indicator when the text starts).\n",
        "\n",
        "You can also generate multiple texts at a time by specifing `nsamples`. Unique to GPT-2, you can pass a `batch_size` to generate multiple samples in parallel, giving a massive speedup (in Colaboratory, set a maximum of 20 for `batch_size`).\n",
        "\n",
        "Other optional-but-helpful parameters for `gpt2.generate` and friends:\n",
        "\n",
        "*  **`length`**: Number of tokens to generate (default 1023, the maximum)\n",
        "* **`temperature`**: The higher the temperature, the crazier the text (default 0.7, recommended to keep between 0.7 and 1.0)\n",
        "* **`top_k`**: Limits the generated guesses to the top *k* guesses (default 0 which disables the behavior; if the generated output is super crazy, you may want to set `top_k=40`)\n",
        "* **`top_p`**: Nucleus sampling: limits the generated guesses to a cumulative probability. (gets good results on a dataset with `top_p=0.9`)\n",
        "* **`truncate`**: Truncates the input text until a given sequence, excluding that sequence (e.g. if `truncate='<|endoftext|>'`, the returned text will include everything before the first `<|endoftext|>`). It may be useful to combine this with a smaller `length` if the input texts are short.\n",
        "*  **`include_prefix`**: If using `truncate` and `include_prefix=False`, the specified `prefix` will not be included in the returned text."
      ]
    },
    {
      "cell_type": "code",
      "metadata": {
        "id": "8DKMc0fiej4N",
        "colab": {
          "base_uri": "https://localhost:8080/"
        },
        "outputId": "ecbffd87-7ad3-48f7-f484-264063e1adf3"
      },
      "source": [
        "gpt2.generate(sess,\n",
        "              length=250,\n",
        "              temperature=0.7,\n",
        "              prefix=\"chinese authorities\",\n",
        "              nsamples=5,\n",
        "              batch_size=5\n",
        "              )"
      ],
      "execution_count": 11,
      "outputs": [
        {
          "output_type": "stream",
          "text": [
            "chinese authorities accused the firm of being behind the software used in the home of the company\n",
            "in the end the firm paid the government 50m £320000 after being found guilty by the house of commons watchdog the information commissioners office\n",
            "the company was helped by the sale of 10 of its computer hardware division to a littleknown shell company who were then forced to pull out of a large share of the deal\n",
            "however many of the machines used in the home are not listed on any of the firms financial statements\n",
            "the result was the homebuyers home trust which was formed by the sale of some of the machines to shell companies is listed on the house of commons information commissioners office\n",
            "it is not known whether the sale of the machines was tied back in the bargain\n",
            "\n",
            "the us appeals court has upheld a lower court ruling that the german firms patenting a new technology could not continue to sue\n",
            "the ruling means that the us division of software giant sonywelse is no longer bound by a 2003 law which requires firms which make software to have admitting fees\n",
            "the decision means that sonywelse may take action against the firms which broke the agreement and have been subject to lawsuits since\n",
            "the ruling means that the uss patenting laws can no longer\n",
            "====================\n",
            "chinese authorities were also considering the issue\n",
            "the report reveals that the group is keen to increase its output and put in place more efficient and more costeffective heating and cooling systems\n",
            "it also believes that the group will be able to expand its facilities in time to meet government demands\n",
            "the group also believes that the heat generated by its operations will be put to practical use to combat climate change\n",
            "it is already planning a new factory in the cannes countryside and is planning to put in a 400 megawatt thermal power plant in the cannes countryside as well as a 250 megawatt plant in the central cannes countryside\n",
            "it is also considering the possibility of building a new factory in the cannes countryside or a new cannes countryside for the cannes countryside as its official broadcaster said\n",
            "the cannes countryside programme which airs on the cannes tv network from 6 to 9 january features an hourlong programme on the future of the cannes countryside\n",
            "the programme highlights the problems posed by environmental and other environmental protection measures in the cannes countryside\n",
            "it highlights the importance of having a local government that understands the cannes countryside as its own unique social project it believes\n",
            "it also highlights the need to protect the local people who have been the most affected by the move\n",
            "====================\n",
            "chinese authorities are accelerating the move to clamp down on the currency market\n",
            "traders in the european stock exchange euronext have been holding talks with the russian authorities\n",
            "russia has been unable to freeze shares because of the threat of state bankruptcy law\n",
            "analysts said that if the russian authorities did not freeze shares the outcome would be uncertain\n",
            "analysts said that the potential loss of shares in the market would hamper the market\n",
            "the us stock market regulator has not formally responded to a request from the financial times for comment on the issue\n",
            "it is understood that the regulator is expected to announce its response in the next few days\n",
            "\n",
            "the british medical research association bmr has said it is ready to press charges in a row over the cost of a botched bmhs project to help unseat a conservative mp\n",
            "the bmsa has been accused of having a monopoly on research costs and of being a backroom deal for the government\n",
            "the bmr said doctors were free to pursue any wrongdoing but that it was still up to the government to prove it\n",
            "it said it planned to press charges in court\n",
            "the bmr said the bmsa had been set up to address the concerns raised by the government and could bring\n",
            "====================\n",
            "chinese authorities after local media reported that the fishing ship had been damaged by strong winds\n",
            "the damage  which was caused by baron aiyegis karas body  had been caused by a lack of water from the inland seas and the ship had been damaged in the storm\n",
            "baron aiyegis had been in good health since last october when he was knighted by the royal family for his services to the country\n",
            "he was knighted with an honorary medal and with the royal family sailed to avenge the traitors on the tyranny of the prince of yangtze\n",
            "the ships captain had said that the ship had been hurt on the way to the institute of research in china but it had been restored to owner on the shore of qiangshan province\n",
            "the captain had said that he had ordered the replacement because of the damage to the ship but the government had said the vessel was no longer fit for port\n",
            "the government had earlier said that the remains would be carried to qiangshan where they would be sent for further examination\n",
            "the bodies of the tycoon and his wife had been buried in the palace of qiangshan\n",
            "the royal family is hoping that the restoration of the ship will take place\n",
            "the\n",
            "====================\n",
            "chinese authorities\n",
            "the september report said that the countrys economy had been improving slightly and that the country was now on track to meet its target of 2000m £2bn for 2005\n",
            "but it said that there were still long term challenges for the economy\n",
            "the government is expected to continue to insist that the european union opts to leave the convention until at least the fourth quarter of 2006\n",
            "ever since the european commission and the european council have insisted that the european economy must remain part of the world economic order\n",
            "but the countrys economic growth has been picking up speed and it is preparing for a potential slowdown\n",
            "economists have predicted that there could be a sharp slowdown in the economy in 2007\n",
            "the economy contracted by about 01 in the fourth quarter but bounced back in the first half of 2008 to 02 growth\n",
            "the september report said that the country had been improving slightly and that the country was now on track to meet its target of 2000m £2bn for 2005\n",
            "but it said that there were still long term challenges for the economy\n",
            "the government is expected to continue to insist that the european union opts to leave the convention until at least the fourth quarter of 2006\n",
            "ever since the\n",
            "====================\n"
          ],
          "name": "stdout"
        }
      ]
    },
    {
      "cell_type": "markdown",
      "metadata": {
        "id": "zjjEN2Tafhl2"
      },
      "source": [
        "For bulk generation, you can generate a large amount of text to a file and sort out the samples locally on your computer. The next cell will generate a generated text file with a unique timestamp.\n",
        "\n",
        "You can rerun the cells as many times as you want for even more generated texts!"
      ]
    },
    {
      "cell_type": "code",
      "metadata": {
        "id": "Fa6p6arifSL0"
      },
      "source": [
        "gen_file = 'gpt2_gentext_{:%Y%m%d_%H%M%S}.txt'.format(datetime.utcnow())\n",
        "\n",
        "gpt2.generate_to_file(sess,\n",
        "                      destination_path=gen_file,\n",
        "                      length=500,\n",
        "                      temperature=0.7,\n",
        "                      nsamples=100,\n",
        "                      batch_size=20\n",
        "                      )"
      ],
      "execution_count": 13,
      "outputs": []
    },
    {
      "cell_type": "code",
      "metadata": {
        "id": "0-LRex8lfv1g",
        "colab": {
          "base_uri": "https://localhost:8080/",
          "height": 17
        },
        "outputId": "3291e3e2-31ce-4c77-d5cc-22ee56f5ff90"
      },
      "source": [
        "# may have to run twice to get file to download\n",
        "files.download(gen_file)"
      ],
      "execution_count": 14,
      "outputs": [
        {
          "output_type": "display_data",
          "data": {
            "application/javascript": [
              "\n",
              "    async function download(id, filename, size) {\n",
              "      if (!google.colab.kernel.accessAllowed) {\n",
              "        return;\n",
              "      }\n",
              "      const div = document.createElement('div');\n",
              "      const label = document.createElement('label');\n",
              "      label.textContent = `Downloading \"${filename}\": `;\n",
              "      div.appendChild(label);\n",
              "      const progress = document.createElement('progress');\n",
              "      progress.max = size;\n",
              "      div.appendChild(progress);\n",
              "      document.body.appendChild(div);\n",
              "\n",
              "      const buffers = [];\n",
              "      let downloaded = 0;\n",
              "\n",
              "      const channel = await google.colab.kernel.comms.open(id);\n",
              "      // Send a message to notify the kernel that we're ready.\n",
              "      channel.send({})\n",
              "\n",
              "      for await (const message of channel.messages) {\n",
              "        // Send a message to notify the kernel that we're ready.\n",
              "        channel.send({})\n",
              "        if (message.buffers) {\n",
              "          for (const buffer of message.buffers) {\n",
              "            buffers.push(buffer);\n",
              "            downloaded += buffer.byteLength;\n",
              "            progress.value = downloaded;\n",
              "          }\n",
              "        }\n",
              "      }\n",
              "      const blob = new Blob(buffers, {type: 'application/binary'});\n",
              "      const a = document.createElement('a');\n",
              "      a.href = window.URL.createObjectURL(blob);\n",
              "      a.download = filename;\n",
              "      div.appendChild(a);\n",
              "      a.click();\n",
              "      div.remove();\n",
              "    }\n",
              "  "
            ],
            "text/plain": [
              "<IPython.core.display.Javascript object>"
            ]
          },
          "metadata": {
            "tags": []
          }
        },
        {
          "output_type": "display_data",
          "data": {
            "application/javascript": [
              "download(\"download_f4390c55-4443-4699-9507-6ef494ca62c4\", \"gpt2_gentext_20210309_074142.txt\", 241664)"
            ],
            "text/plain": [
              "<IPython.core.display.Javascript object>"
            ]
          },
          "metadata": {
            "tags": []
          }
        }
      ]
    },
    {
      "cell_type": "markdown",
      "metadata": {
        "id": "QQAN3M6RT7Kj"
      },
      "source": [
        "## Generate Text From The Pretrained Model\n",
        "\n",
        "If you want to generate text from the pretrained model, not a finetuned model, pass `model_name` to `gpt2.load_gpt2()` and `gpt2.generate()`.\n",
        "\n",
        "This is currently the only way to generate text from the 774M or 1558M models with this notebook."
      ]
    },
    {
      "cell_type": "code",
      "metadata": {
        "id": "hsUd_jHgUZnD"
      },
      "source": [
        "model_name = \"774M\"\n",
        "\n",
        "gpt2.download_gpt2(model_name=model_name)"
      ],
      "execution_count": null,
      "outputs": []
    },
    {
      "cell_type": "code",
      "metadata": {
        "id": "BAe4NpKNUj2C"
      },
      "source": [
        "sess = gpt2.start_tf_sess()\n",
        "\n",
        "gpt2.load_gpt2(sess, model_name=model_name)"
      ],
      "execution_count": null,
      "outputs": []
    },
    {
      "cell_type": "code",
      "metadata": {
        "id": "-xInIZKaU104"
      },
      "source": [
        "gpt2.generate(sess,\n",
        "              model_name=model_name,\n",
        "              prefix=\"The secret of life is\",\n",
        "              length=100,\n",
        "              temperature=0.7,\n",
        "              top_p=0.9,\n",
        "              nsamples=5,\n",
        "              batch_size=5\n",
        "              )"
      ],
      "execution_count": null,
      "outputs": []
    },
    {
      "cell_type": "markdown",
      "metadata": {
        "id": "ig-KVgkCDCKD"
      },
      "source": [
        "# Etcetera\n",
        "\n",
        "If the notebook has errors (e.g. GPU Sync Fail), force-kill the Colaboratory virtual machine and restart it with the command below:"
      ]
    },
    {
      "cell_type": "code",
      "metadata": {
        "id": "rIHiVP53FnsX"
      },
      "source": [
        "!kill -9 -1"
      ],
      "execution_count": null,
      "outputs": []
    },
    {
      "cell_type": "markdown",
      "metadata": {
        "id": "wmTXWNUygS5E"
      },
      "source": [
        "# LICENSE\n",
        "\n",
        "MIT License\n",
        "\n",
        "Copyright (c) 2019 Max Woolf\n",
        "\n",
        "Permission is hereby granted, free of charge, to any person obtaining a copy\n",
        "of this software and associated documentation files (the \"Software\"), to deal\n",
        "in the Software without restriction, including without limitation the rights\n",
        "to use, copy, modify, merge, publish, distribute, sublicense, and/or sell\n",
        "copies of the Software, and to permit persons to whom the Software is\n",
        "furnished to do so, subject to the following conditions:\n",
        "\n",
        "The above copyright notice and this permission notice shall be included in all\n",
        "copies or substantial portions of the Software.\n",
        "\n",
        "THE SOFTWARE IS PROVIDED \"AS IS\", WITHOUT WARRANTY OF ANY KIND, EXPRESS OR\n",
        "IMPLIED, INCLUDING BUT NOT LIMITED TO THE WARRANTIES OF MERCHANTABILITY,\n",
        "FITNESS FOR A PARTICULAR PURPOSE AND NONINFRINGEMENT. IN NO EVENT SHALL THE\n",
        "AUTHORS OR COPYRIGHT HOLDERS BE LIABLE FOR ANY CLAIM, DAMAGES OR OTHER\n",
        "LIABILITY, WHETHER IN AN ACTION OF CONTRACT, TORT OR OTHERWISE, ARISING FROM,\n",
        "OUT OF OR IN CONNECTION WITH THE SOFTWARE OR THE USE OR OTHER DEALINGS IN THE\n",
        "SOFTWARE."
      ]
    }
  ]
}